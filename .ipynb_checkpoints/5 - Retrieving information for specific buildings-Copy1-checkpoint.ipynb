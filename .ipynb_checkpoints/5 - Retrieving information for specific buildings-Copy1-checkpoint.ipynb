{
 "cells": [
  {
   "cell_type": "markdown",
   "id": "7588959b",
   "metadata": {},
   "source": [
    "# Retrieving results for specific buildings"
   ]
  },
  {
   "cell_type": "markdown",
   "id": "70a65a39",
   "metadata": {},
   "source": [
    "Now that we have a database with information on all buildings, dimensioned components and estimated material amounts for each building, we can start exploiting the database and writing queries to retrieve information for specific buildings. We can import data into Pandas data frames in Python, which allow for a broad range of analyses."
   ]
  },
  {
   "cell_type": "markdown",
   "id": "35a3a338",
   "metadata": {},
   "source": [
    "### Setup"
   ]
  },
  {
   "cell_type": "code",
   "execution_count": 24,
   "id": "684ba46c",
   "metadata": {},
   "outputs": [],
   "source": [
    "import psycopg as pg\n",
    "import pandas as pd"
   ]
  },
  {
   "cell_type": "code",
   "execution_count": 25,
   "id": "8355cf4e",
   "metadata": {},
   "outputs": [],
   "source": [
    "params='dbname=macrocomponents user=postgres password=mypassword'"
   ]
  },
  {
   "cell_type": "markdown",
   "id": "76856232",
   "metadata": {},
   "source": [
    "# Retrieving results"
   ]
  },
  {
   "cell_type": "markdown",
   "id": "400645a1",
   "metadata": {},
   "source": [
    "The following function queries the PostgresQL database to retrieve generic information about a building:"
   ]
  },
  {
   "cell_type": "code",
   "execution_count": 26,
   "id": "c09ea9b7",
   "metadata": {},
   "outputs": [],
   "source": [
    "def properties_one_building(bbr_id):\n",
    "    dic={'id_lokalId':[],'kommunekode':[],'byg026Opførelsesår':[],'byg021BygningensAnvendelse':[],'byg041BebyggetAreal':[], 'byg038SamletBygningsareal':[], 'byg054AntalEtager':[], 'byg033Tagdækningsmateriale':[], 'byg032YdervæggensMateriale':[]}\n",
    "    index=[]\n",
    "    \n",
    "    SQL=\"\"\"\n",
    "    SELECT\n",
    "    id_lokalId,\n",
    "    kommunekode,\n",
    "    byg026Opførelsesår,\n",
    "    byg021BygningensAnvendelse,\n",
    "    byg041BebyggetAreal,\n",
    "    byg038SamletBygningsareal,\n",
    "    byg054AntalEtager,\n",
    "    byg033Tagdækningsmateriale,\n",
    "    byg032YdervæggensMateriale\n",
    "    FROM buildings\n",
    "    WHERE id_lokalId=%s\n",
    "    \"\"\"\n",
    "    \n",
    "    try:\n",
    "        conn = pg.connect(params, row_factory=pg.rows.dict_row)\n",
    "        cur=conn.cursor()\n",
    "        \n",
    "        cur.execute(SQL,(bbr_id,))\n",
    "        row=cur.fetchone()\n",
    "\n",
    "        while row is not None:\n",
    "            index.append(row['id_lokalid'])\n",
    "            for k in dic.keys():\n",
    "                dic[k].append(row[k.lower()])\n",
    "                \n",
    "            row=cur.fetchone()\n",
    "            \n",
    "        results=pd.DataFrame(dic,index)\n",
    "\n",
    "        conn.commit()\n",
    "        cur.close()\n",
    "        \n",
    "        return(results)\n",
    "\n",
    "    except (Exception, pg.DatabaseError) as error:\n",
    "        print(error)\n",
    "    finally:\n",
    "        if conn is not None:\n",
    "            conn.close()    \n"
   ]
  },
  {
   "cell_type": "markdown",
   "id": "90063f9f",
   "metadata": {},
   "source": [
    "And similarly for all buildings:"
   ]
  },
  {
   "cell_type": "code",
   "execution_count": 19,
   "id": "85552e24",
   "metadata": {},
   "outputs": [],
   "source": [
    "def properties_all_buildings():\n",
    "    dic={'id_lokalId':[],'kommunekode':[],'byg026Opførelsesår':[],'byg021BygningensAnvendelse':[],'byg041BebyggetAreal':[], 'byg038SamletBygningsareal':[], 'byg054AntalEtager':[], 'byg033Tagdækningsmateriale':[], 'byg032YdervæggensMateriale':[]}\n",
    "    index=[]\n",
    "    \n",
    "    SQL=\"\"\"\n",
    "    SELECT\n",
    "    id_lokalId,\n",
    "    kommunekode,\n",
    "    byg026Opførelsesår,\n",
    "    byg021BygningensAnvendelse,\n",
    "    byg041BebyggetAreal,\n",
    "    byg038SamletBygningsareal,\n",
    "    byg054AntalEtager,\n",
    "    byg033Tagdækningsmateriale,\n",
    "    byg032YdervæggensMateriale\n",
    "    FROM buildings\n",
    "    \"\"\"\n",
    "    \n",
    "    try:\n",
    "        conn = pg.connect(params, row_factory=pg.rows.dict_row)\n",
    "        cur=conn.cursor()\n",
    "        \n",
    "        cur.execute(SQL)\n",
    "        row=cur.fetchone()     \n",
    "              \n",
    "        while row is not None:\n",
    "            index.append(row['id_lokalid'])\n",
    "            for k in dic.keys():\n",
    "                dic[k].append(row[k.lower()])\n",
    "\n",
    "            row=cur.fetchone()\n",
    "            \n",
    "        results=pd.DataFrame(dic,index)\n",
    "\n",
    "        conn.commit()\n",
    "        cur.close()\n",
    "        \n",
    "        return(results)\n",
    "\n",
    "    except (Exception, pg.DatabaseError) as error:\n",
    "        print(error)\n",
    "    finally:\n",
    "        if conn is not None:\n",
    "            conn.close()  "
   ]
  },
  {
   "cell_type": "code",
   "execution_count": 93,
   "id": "6332db93",
   "metadata": {},
   "outputs": [
    {
     "data": {
      "text/html": [
       "<div>\n",
       "<style scoped>\n",
       "    .dataframe tbody tr th:only-of-type {\n",
       "        vertical-align: middle;\n",
       "    }\n",
       "\n",
       "    .dataframe tbody tr th {\n",
       "        vertical-align: top;\n",
       "    }\n",
       "\n",
       "    .dataframe thead th {\n",
       "        text-align: right;\n",
       "    }\n",
       "</style>\n",
       "<table border=\"1\" class=\"dataframe\">\n",
       "  <thead>\n",
       "    <tr style=\"text-align: right;\">\n",
       "      <th></th>\n",
       "      <th>id_lokalId</th>\n",
       "      <th>kommunekode</th>\n",
       "      <th>byg026Opførelsesår</th>\n",
       "      <th>byg021BygningensAnvendelse</th>\n",
       "      <th>byg041BebyggetAreal</th>\n",
       "      <th>byg038SamletBygningsareal</th>\n",
       "      <th>byg054AntalEtager</th>\n",
       "      <th>byg033Tagdækningsmateriale</th>\n",
       "      <th>byg032YdervæggensMateriale</th>\n",
       "    </tr>\n",
       "  </thead>\n",
       "  <tbody>\n",
       "    <tr>\n",
       "      <th>91146abd-87a7-44d7-b5d5-9939d04051d0</th>\n",
       "      <td>91146abd-87a7-44d7-b5d5-9939d04051d0</td>\n",
       "      <td>326</td>\n",
       "      <td>1900</td>\n",
       "      <td>210</td>\n",
       "      <td>143</td>\n",
       "      <td>143</td>\n",
       "      <td>1</td>\n",
       "      <td>3</td>\n",
       "      <td>8</td>\n",
       "    </tr>\n",
       "  </tbody>\n",
       "</table>\n",
       "</div>"
      ],
      "text/plain": [
       "                                                                id_lokalId  \\\n",
       "91146abd-87a7-44d7-b5d5-9939d04051d0  91146abd-87a7-44d7-b5d5-9939d04051d0   \n",
       "\n",
       "                                      kommunekode  byg026Opførelsesår  \\\n",
       "91146abd-87a7-44d7-b5d5-9939d04051d0          326                1900   \n",
       "\n",
       "                                     byg021BygningensAnvendelse  \\\n",
       "91146abd-87a7-44d7-b5d5-9939d04051d0                        210   \n",
       "\n",
       "                                      byg041BebyggetAreal  \\\n",
       "91146abd-87a7-44d7-b5d5-9939d04051d0                  143   \n",
       "\n",
       "                                      byg038SamletBygningsareal  \\\n",
       "91146abd-87a7-44d7-b5d5-9939d04051d0                        143   \n",
       "\n",
       "                                      byg054AntalEtager  \\\n",
       "91146abd-87a7-44d7-b5d5-9939d04051d0                  1   \n",
       "\n",
       "                                      byg033Tagdækningsmateriale  \\\n",
       "91146abd-87a7-44d7-b5d5-9939d04051d0                           3   \n",
       "\n",
       "                                      byg032YdervæggensMateriale  \n",
       "91146abd-87a7-44d7-b5d5-9939d04051d0                           8  "
      ]
     },
     "execution_count": 93,
     "metadata": {},
     "output_type": "execute_result"
    }
   ],
   "source": [
    "properties_one_building('91146abd-87a7-44d7-b5d5-9939d04051d0')"
   ]
  },
  {
   "cell_type": "markdown",
   "id": "dac445b5",
   "metadata": {},
   "source": [
    "The following function retrieves material amounts for each element in a particular building. The query converts all material amounts into kg."
   ]
  },
  {
   "cell_type": "code",
   "execution_count": 34,
   "id": "ebc5bea4",
   "metadata": {},
   "outputs": [],
   "source": [
    "def results_one_building(bbr_id):\n",
    "    dic={'bbr_id':[],'element':[],'product':[],'weight':[],'material_type':[]}\n",
    "    \n",
    "    SQL=\"\"\"\n",
    "    SELECT\n",
    "    rma.bbr_id bbr_id,\n",
    "    rma.element element,\n",
    "    rma.product product,\n",
    "    weight,\n",
    "    material_type\n",
    "    FROM results_material_amounts rma\n",
    "    INNER JOIN products pr ON rma.product=pr.name,\n",
    "    LATERAL (SELECT (CASE WHEN unit='KG' THEN amount WHEN unit='M3' THEN amount*pr.density ELSE NULL END) AS weight) lt\n",
    "    WHERE rma.bbr_id=%s\n",
    "    ORDER BY element  \n",
    "    \"\"\"\n",
    "    \n",
    "    try:\n",
    "        conn = pg.connect(params, row_factory=pg.rows.dict_row)\n",
    "        cur=conn.cursor()\n",
    "        \n",
    "        cur.execute(SQL,(bbr_id,))\n",
    "        row=cur.fetchone()     \n",
    "              \n",
    "        while row is not None:\n",
    "            for k in dic.keys():\n",
    "                dic[k].append(row[k.lower()])\n",
    "\n",
    "            row=cur.fetchone()\n",
    "            \n",
    "        results=pd.DataFrame(dic)\n",
    "        \n",
    "        conn.commit()\n",
    "        cur.close()\n",
    "        \n",
    "        return(results)\n",
    "\n",
    "    except (Exception, pg.DatabaseError) as error:\n",
    "        print(error)\n",
    "    finally:\n",
    "        if conn is not None:\n",
    "            conn.close() "
   ]
  },
  {
   "cell_type": "code",
   "execution_count": 35,
   "id": "b2a1f561",
   "metadata": {},
   "outputs": [
    {
     "data": {
      "text/html": [
       "<div>\n",
       "<style scoped>\n",
       "    .dataframe tbody tr th:only-of-type {\n",
       "        vertical-align: middle;\n",
       "    }\n",
       "\n",
       "    .dataframe tbody tr th {\n",
       "        vertical-align: top;\n",
       "    }\n",
       "\n",
       "    .dataframe thead th {\n",
       "        text-align: right;\n",
       "    }\n",
       "</style>\n",
       "<table border=\"1\" class=\"dataframe\">\n",
       "  <thead>\n",
       "    <tr style=\"text-align: right;\">\n",
       "      <th></th>\n",
       "      <th>bbr_id</th>\n",
       "      <th>element</th>\n",
       "      <th>product</th>\n",
       "      <th>weight</th>\n",
       "      <th>material_type</th>\n",
       "    </tr>\n",
       "  </thead>\n",
       "  <tbody>\n",
       "    <tr>\n",
       "      <th>0</th>\n",
       "      <td>000b7b88-7c66-4440-9e93-23bee9aa631e</td>\n",
       "      <td>window</td>\n",
       "      <td>Aluminium casement frame section, thermally se...</td>\n",
       "      <td>14.332620</td>\n",
       "      <td>Metal</td>\n",
       "    </tr>\n",
       "    <tr>\n",
       "      <th>1</th>\n",
       "      <td>000b7b88-7c66-4440-9e93-23bee9aa631e</td>\n",
       "      <td>window</td>\n",
       "      <td>Window frame (spruce)</td>\n",
       "      <td>66.812057</td>\n",
       "      <td>Wood</td>\n",
       "    </tr>\n",
       "    <tr>\n",
       "      <th>2</th>\n",
       "      <td>000b7b88-7c66-4440-9e93-23bee9aa631e</td>\n",
       "      <td>window</td>\n",
       "      <td>Aluminium frame section, thermally separated, ...</td>\n",
       "      <td>13.053710</td>\n",
       "      <td>Metal</td>\n",
       "    </tr>\n",
       "    <tr>\n",
       "      <th>3</th>\n",
       "      <td>000b7b88-7c66-4440-9e93-23bee9aa631e</td>\n",
       "      <td>window</td>\n",
       "      <td>Window sash (spruce)</td>\n",
       "      <td>64.166039</td>\n",
       "      <td>Wood</td>\n",
       "    </tr>\n",
       "    <tr>\n",
       "      <th>4</th>\n",
       "      <td>000b7b88-7c66-4440-9e93-23bee9aa631e</td>\n",
       "      <td>window</td>\n",
       "      <td>EPDM sealing for aluminium section</td>\n",
       "      <td>5.512546</td>\n",
       "      <td>Other</td>\n",
       "    </tr>\n",
       "    <tr>\n",
       "      <th>5</th>\n",
       "      <td>000b7b88-7c66-4440-9e93-23bee9aa631e</td>\n",
       "      <td>window</td>\n",
       "      <td>Insulated glazing, double pane</td>\n",
       "      <td>330.752777</td>\n",
       "      <td>Glass</td>\n",
       "    </tr>\n",
       "  </tbody>\n",
       "</table>\n",
       "</div>"
      ],
      "text/plain": [
       "                                 bbr_id element  \\\n",
       "0  000b7b88-7c66-4440-9e93-23bee9aa631e  window   \n",
       "1  000b7b88-7c66-4440-9e93-23bee9aa631e  window   \n",
       "2  000b7b88-7c66-4440-9e93-23bee9aa631e  window   \n",
       "3  000b7b88-7c66-4440-9e93-23bee9aa631e  window   \n",
       "4  000b7b88-7c66-4440-9e93-23bee9aa631e  window   \n",
       "5  000b7b88-7c66-4440-9e93-23bee9aa631e  window   \n",
       "\n",
       "                                             product      weight material_type  \n",
       "0  Aluminium casement frame section, thermally se...   14.332620         Metal  \n",
       "1                              Window frame (spruce)   66.812057          Wood  \n",
       "2  Aluminium frame section, thermally separated, ...   13.053710         Metal  \n",
       "3                               Window sash (spruce)   64.166039          Wood  \n",
       "4                 EPDM sealing for aluminium section    5.512546         Other  \n",
       "5                     Insulated glazing, double pane  330.752777         Glass  "
      ]
     },
     "execution_count": 35,
     "metadata": {},
     "output_type": "execute_result"
    }
   ],
   "source": [
    "results_one_building('000b7b88-7c66-4440-9e93-23bee9aa631e')"
   ]
  },
  {
   "cell_type": "markdown",
   "id": "282455c2",
   "metadata": {},
   "source": [
    "Alternatively, we can also retrieve the total amounts of each type of material in the building. This function is a bit longer and more complex, because it aggregates rows from the \"buildings_material_amounts\" table into separate columns."
   ]
  },
  {
   "cell_type": "code",
   "execution_count": 56,
   "id": "de08a2ef",
   "metadata": {},
   "outputs": [],
   "source": [
    "def material_amounts_one_building(bbr_id):\n",
    "    dic={'bbr_id':[],'clay':[],'cement_mortar':[],'concrete':[],'gypsum_plaster':[], 'metal':[],'wood':[],'wool':[],'glass':[],'other':[]}\n",
    "    index=[]\n",
    "    \n",
    "    SQL1=\"\"\"\n",
    "    CREATE TEMP TABLE IF NOT EXISTS agg_material (\n",
    "        bbr_id varchar(50) PRIMARY KEY,\n",
    "        Clay real,\n",
    "        Cement_mortar real,\n",
    "        Concrete real,\n",
    "        Aggregates real,\n",
    "        Gypsum_plaster real,\n",
    "        Metal real,\n",
    "        Wood real,\n",
    "        Wool real,\n",
    "        Glass real,\n",
    "        Other real);\"\"\"\n",
    "    \n",
    "    SQL2=\"\"\"\n",
    "    WITH t AS(\n",
    "    SELECT\n",
    "    rma.bbr_id,\n",
    "    weight,\n",
    "    material_type\n",
    "    FROM results_material_amounts rma\n",
    "    INNER JOIN products pr ON rma.product=pr.name,\n",
    "    LATERAL (SELECT (CASE WHEN unit='KG' THEN amount WHEN unit='M3' THEN amount*pr.density ELSE NULL END) AS weight) lt\n",
    "    WHERE rma.bbr_id=%s\n",
    "    )\n",
    "\n",
    "    SELECT\n",
    "    bbr_id,\n",
    "    SUM(weight) weightsum,\n",
    "    material_type\n",
    "    INTO TEMPORARY TABLE t2\n",
    "    FROM t\n",
    "    GROUP BY material_type, bbr_id;    \n",
    "    \"\"\"\n",
    "\n",
    "    SQLclay=\"\"\"\n",
    "    INSERT INTO agg_material(bbr_id, Clay)\n",
    "    SELECT \n",
    "    bbr_id,\n",
    "    weightsum\n",
    "    FROM t2\n",
    "    WHERE material_type = 'Clay'\n",
    "    ON CONFLICT ON CONSTRAINT agg_material_pkey DO UPDATE SET (bbr_id, Clay) = (EXCLUDED.bbr_id, EXCLUDED.Clay);\n",
    "    \"\"\"\n",
    "    \n",
    "    SQLcement=\"\"\"\n",
    "    INSERT INTO agg_material(bbr_id, Cement_mortar)\n",
    "    SELECT \n",
    "    bbr_id,\n",
    "    weightsum\n",
    "    FROM t2\n",
    "    WHERE material_type = 'Cement_mortar' \n",
    "    ON CONFLICT ON CONSTRAINT agg_material_pkey DO UPDATE SET (bbr_id, Cement_mortar) = (EXCLUDED.bbr_id, EXCLUDED.Cement_mortar);\n",
    "    \"\"\"\n",
    "\n",
    "    SQLconcrete=\"\"\"\n",
    "    INSERT INTO agg_material(bbr_id, Concrete)\n",
    "    SELECT \n",
    "    bbr_id,\n",
    "    weightsum\n",
    "    FROM t2\n",
    "    WHERE material_type = 'Concrete'\n",
    "    ON CONFLICT ON CONSTRAINT agg_material_pkey DO UPDATE SET (bbr_id, Concrete) = (EXCLUDED.bbr_id, EXCLUDED.Concrete);\n",
    "    \"\"\"\n",
    "    \n",
    "    SQLaggregates=\"\"\"\n",
    "    INSERT INTO agg_material(bbr_id, Aggregates)\n",
    "    SELECT \n",
    "    bbr_id,\n",
    "    weightsum\n",
    "    FROM t2\n",
    "    WHERE material_type = 'Aggregates'\n",
    "    ON CONFLICT ON CONSTRAINT agg_material_pkey DO UPDATE SET (bbr_id, Aggregates) = (EXCLUDED.bbr_id, EXCLUDED.Aggregates);\n",
    "    \"\"\"\n",
    "\n",
    "    SQLgypsum=\"\"\"\n",
    "    INSERT INTO agg_material(bbr_id, Gypsum_plaster)\n",
    "    SELECT \n",
    "    bbr_id,\n",
    "    weightsum\n",
    "    FROM t2\n",
    "    WHERE material_type = 'Gypsum_plaster'\n",
    "    ON CONFLICT ON CONSTRAINT agg_material_pkey DO UPDATE SET (bbr_id, Gypsum_plaster) = (EXCLUDED.bbr_id, EXCLUDED.Gypsum_plaster);\n",
    "    \"\"\"\n",
    "\n",
    "    SQLmetal=\"\"\"\n",
    "    INSERT INTO agg_material(bbr_id, Metal)\n",
    "    SELECT \n",
    "    bbr_id,\n",
    "    weightsum\n",
    "    FROM t2\n",
    "    WHERE material_type = 'Metal'\n",
    "    ON CONFLICT ON CONSTRAINT agg_material_pkey DO UPDATE SET (bbr_id, Metal) = (EXCLUDED.bbr_id, EXCLUDED.Metal);\n",
    "    \"\"\"\n",
    "\n",
    "    SQLwood=\"\"\"\n",
    "    INSERT INTO agg_material(bbr_id, Wood)\n",
    "    SELECT \n",
    "    bbr_id,\n",
    "    weightsum\n",
    "    FROM t2\n",
    "    WHERE material_type = 'Wood'\n",
    "    ON CONFLICT ON CONSTRAINT agg_material_pkey DO UPDATE SET (bbr_id, Wood) = (EXCLUDED.bbr_id, EXCLUDED.Wood);\n",
    "    \"\"\"\n",
    "\n",
    "    SQLwool=\"\"\"\n",
    "    INSERT INTO agg_material(bbr_id, Wool)\n",
    "    SELECT \n",
    "    bbr_id,\n",
    "    weightsum\n",
    "    FROM t2\n",
    "    WHERE material_type = 'Wool'\n",
    "    ON CONFLICT ON CONSTRAINT agg_material_pkey DO UPDATE SET (bbr_id, Wool) = (EXCLUDED.bbr_id, EXCLUDED.Wool);\n",
    "    \"\"\"\n",
    "    \n",
    "    SQLglass=\"\"\"\n",
    "    INSERT INTO agg_material(bbr_id, Glass)\n",
    "    SELECT \n",
    "    bbr_id,\n",
    "    weightsum\n",
    "    FROM t2\n",
    "    WHERE material_type = 'Glass'\n",
    "    ON CONFLICT ON CONSTRAINT agg_material_pkey DO UPDATE SET (bbr_id, Glass) = (EXCLUDED.bbr_id, EXCLUDED.Glass);\n",
    "    \"\"\"\n",
    "\n",
    "    SQLother=\"\"\"\n",
    "    INSERT INTO agg_material(bbr_id, Other)\n",
    "    SELECT \n",
    "    bbr_id,\n",
    "    weightsum\n",
    "    FROM t2\n",
    "    WHERE material_type = 'Other'\n",
    "    ON CONFLICT ON CONSTRAINT agg_material_pkey DO UPDATE SET (bbr_id, Other) = (EXCLUDED.bbr_id, EXCLUDED.Other);\n",
    "    \"\"\"\n",
    "\n",
    "    SQLselect=\"SELECT * FROM agg_material\"\n",
    "    \n",
    "    try:\n",
    "        conn = pg.connect(params, row_factory=pg.rows.dict_row)\n",
    "        cur=conn.cursor()\n",
    "        \n",
    "        cur.execute(SQL1)\n",
    "        cur.execute(SQL2,(bbr_id,))\n",
    "        cur.execute(SQLclay)\n",
    "        cur.execute(SQLcement)\n",
    "        cur.execute(SQLconcrete)\n",
    "        cur.execute(SQLaggregates)\n",
    "        cur.execute(SQLgypsum)\n",
    "        cur.execute(SQLmetal)\n",
    "        cur.execute(SQLwood)\n",
    "        cur.execute(SQLwool)\n",
    "        cur.execute(SQLglass)\n",
    "        cur.execute(SQLother)\n",
    "        cur.execute(SQLselect)       \n",
    "\n",
    "        row=cur.fetchone()\n",
    "        \n",
    "        while row is not None:\n",
    "            index.append(row['bbr_id'])\n",
    "            for k in dic.keys():\n",
    "                dic[k].append(row[k.lower()])\n",
    "\n",
    "            row=cur.fetchone()\n",
    "            \n",
    "        results=pd.DataFrame(dic,index)\n",
    "\n",
    "        conn.commit()\n",
    "        cur.close()\n",
    "        \n",
    "        return(results)\n",
    "\n",
    "    except (Exception, pg.DatabaseError) as error:\n",
    "        print(error)\n",
    "    finally:\n",
    "        if conn is not None:\n",
    "            conn.close() "
   ]
  },
  {
   "cell_type": "code",
   "execution_count": 57,
   "id": "e8705685",
   "metadata": {},
   "outputs": [
    {
     "data": {
      "text/html": [
       "<div>\n",
       "<style scoped>\n",
       "    .dataframe tbody tr th:only-of-type {\n",
       "        vertical-align: middle;\n",
       "    }\n",
       "\n",
       "    .dataframe tbody tr th {\n",
       "        vertical-align: top;\n",
       "    }\n",
       "\n",
       "    .dataframe thead th {\n",
       "        text-align: right;\n",
       "    }\n",
       "</style>\n",
       "<table border=\"1\" class=\"dataframe\">\n",
       "  <thead>\n",
       "    <tr style=\"text-align: right;\">\n",
       "      <th></th>\n",
       "      <th>bbr_id</th>\n",
       "      <th>clay</th>\n",
       "      <th>cement_mortar</th>\n",
       "      <th>concrete</th>\n",
       "      <th>gypsum_plaster</th>\n",
       "      <th>metal</th>\n",
       "      <th>wood</th>\n",
       "      <th>wool</th>\n",
       "      <th>glass</th>\n",
       "      <th>other</th>\n",
       "    </tr>\n",
       "  </thead>\n",
       "  <tbody>\n",
       "    <tr>\n",
       "      <th>0000cf84-358e-4585-9337-231f99aba172</th>\n",
       "      <td>0000cf84-358e-4585-9337-231f99aba172</td>\n",
       "      <td>None</td>\n",
       "      <td>544.97687</td>\n",
       "      <td>29774.602</td>\n",
       "      <td>512.26184</td>\n",
       "      <td>942.0272</td>\n",
       "      <td>244.15538</td>\n",
       "      <td>403.067</td>\n",
       "      <td>391.35196</td>\n",
       "      <td>27.522533</td>\n",
       "    </tr>\n",
       "  </tbody>\n",
       "</table>\n",
       "</div>"
      ],
      "text/plain": [
       "                                                                    bbr_id  \\\n",
       "0000cf84-358e-4585-9337-231f99aba172  0000cf84-358e-4585-9337-231f99aba172   \n",
       "\n",
       "                                      clay  cement_mortar   concrete  \\\n",
       "0000cf84-358e-4585-9337-231f99aba172  None      544.97687  29774.602   \n",
       "\n",
       "                                      gypsum_plaster     metal       wood  \\\n",
       "0000cf84-358e-4585-9337-231f99aba172       512.26184  942.0272  244.15538   \n",
       "\n",
       "                                         wool      glass      other  \n",
       "0000cf84-358e-4585-9337-231f99aba172  403.067  391.35196  27.522533  "
      ]
     },
     "execution_count": 57,
     "metadata": {},
     "output_type": "execute_result"
    }
   ],
   "source": [
    "material_amounts_one_building('0000cf84-358e-4585-9337-231f99aba172')"
   ]
  },
  {
   "cell_type": "code",
   "execution_count": 30,
   "id": "6b1195bc",
   "metadata": {},
   "outputs": [],
   "source": [
    "def material_amounts_all():\n",
    "    dic={'bbr_id':[],'clay':[],'cement_mortar':[],'concrete':[],'gypsum_plaster':[], 'metal':[],'wood':[],'wool':[],'other':[]}\n",
    "    index=[]\n",
    "    \n",
    "    SQL1=\"\"\"\n",
    "    CREATE TEMP TABLE IF NOT EXISTS agg_material (\n",
    "        bbr_id varchar(50) PRIMARY KEY,\n",
    "        Clay real,\n",
    "        Cement_mortar real,\n",
    "        Concrete real,\n",
    "        Aggregates real,\n",
    "        Gypsum_plaster real,\n",
    "        Metal real,\n",
    "        Wood real,\n",
    "        Wool real,\n",
    "        Glass real,\n",
    "        Other real);\"\"\"\n",
    "    \n",
    "    SQL2=\"\"\"\n",
    "    WITH t AS(\n",
    "    SELECT\n",
    "    rma.bbr_id,\n",
    "    weight,\n",
    "    material_type\n",
    "    FROM results_material_amounts rma\n",
    "    INNER JOIN products pr ON rma.product=pr.name,\n",
    "    LATERAL (SELECT (CASE WHEN unit='KG' THEN amount WHEN unit='M3' THEN amount*pr.density ELSE NULL END) AS weight) lt\n",
    "    )\n",
    "\n",
    "    SELECT\n",
    "    bbr_id,\n",
    "    SUM(weight) weightsum,\n",
    "    material_type\n",
    "    INTO TEMPORARY TABLE t2\n",
    "    FROM t\n",
    "    GROUP BY material_type, bbr_id;    \n",
    "    \"\"\"\n",
    "\n",
    "    SQLclay=\"\"\"\n",
    "    INSERT INTO agg_material(bbr_id, Clay)\n",
    "    SELECT \n",
    "    bbr_id,\n",
    "    weightsum\n",
    "    FROM t2\n",
    "    WHERE material_type = 'Clay'\n",
    "    ON CONFLICT ON CONSTRAINT agg_material_pkey DO UPDATE SET (bbr_id, Clay) = (EXCLUDED.bbr_id, EXCLUDED.Clay);\n",
    "    \"\"\"\n",
    "    \n",
    "    SQLcement=\"\"\"\n",
    "    INSERT INTO agg_material(bbr_id, Cement_mortar)\n",
    "    SELECT \n",
    "    bbr_id,\n",
    "    weightsum\n",
    "    FROM t2\n",
    "    WHERE material_type = 'Cement_mortar' \n",
    "    ON CONFLICT ON CONSTRAINT agg_material_pkey DO UPDATE SET (bbr_id, Cement_mortar) = (EXCLUDED.bbr_id, EXCLUDED.Cement_mortar);\n",
    "    \"\"\"\n",
    "\n",
    "    SQLconcrete=\"\"\"\n",
    "    INSERT INTO agg_material(bbr_id, Concrete)\n",
    "    SELECT \n",
    "    bbr_id,\n",
    "    weightsum\n",
    "    FROM t2\n",
    "    WHERE material_type = 'Concrete'\n",
    "    ON CONFLICT ON CONSTRAINT agg_material_pkey DO UPDATE SET (bbr_id, Concrete) = (EXCLUDED.bbr_id, EXCLUDED.Concrete);\n",
    "    \"\"\"\n",
    "    \n",
    "    SQLaggregates=\"\"\"\n",
    "    INSERT INTO agg_material(bbr_id, Aggregates)\n",
    "    SELECT \n",
    "    bbr_id,\n",
    "    weightsum\n",
    "    FROM t2\n",
    "    WHERE material_type = 'Aggregates'\n",
    "    ON CONFLICT ON CONSTRAINT agg_material_pkey DO UPDATE SET (bbr_id, Aggregates) = (EXCLUDED.bbr_id, EXCLUDED.Aggregates);\n",
    "    \"\"\"\n",
    "\n",
    "    SQLgypsum=\"\"\"\n",
    "    INSERT INTO agg_material(bbr_id, Gypsum_plaster)\n",
    "    SELECT \n",
    "    bbr_id,\n",
    "    weightsum\n",
    "    FROM t2\n",
    "    WHERE material_type = 'Gypsum_plaster'\n",
    "    ON CONFLICT ON CONSTRAINT agg_material_pkey DO UPDATE SET (bbr_id, Gypsum_plaster) = (EXCLUDED.bbr_id, EXCLUDED.Gypsum_plaster);\n",
    "    \"\"\"\n",
    "\n",
    "    SQLmetal=\"\"\"\n",
    "    INSERT INTO agg_material(bbr_id, Metal)\n",
    "    SELECT \n",
    "    bbr_id,\n",
    "    weightsum\n",
    "    FROM t2\n",
    "    WHERE material_type = 'Metal'\n",
    "    ON CONFLICT ON CONSTRAINT agg_material_pkey DO UPDATE SET (bbr_id, Metal) = (EXCLUDED.bbr_id, EXCLUDED.Metal);\n",
    "    \"\"\"\n",
    "\n",
    "    SQLwood=\"\"\"\n",
    "    INSERT INTO agg_material(bbr_id, Wood)\n",
    "    SELECT \n",
    "    bbr_id,\n",
    "    weightsum\n",
    "    FROM t2\n",
    "    WHERE material_type = 'Wood'\n",
    "    ON CONFLICT ON CONSTRAINT agg_material_pkey DO UPDATE SET (bbr_id, Wood) = (EXCLUDED.bbr_id, EXCLUDED.Wood);\n",
    "    \"\"\"\n",
    "\n",
    "    SQLwool=\"\"\"\n",
    "    INSERT INTO agg_material(bbr_id, Wool)\n",
    "    SELECT \n",
    "    bbr_id,\n",
    "    weightsum\n",
    "    FROM t2\n",
    "    WHERE material_type = 'Wool'\n",
    "    ON CONFLICT ON CONSTRAINT agg_material_pkey DO UPDATE SET (bbr_id, Wool) = (EXCLUDED.bbr_id, EXCLUDED.Wool);\n",
    "    \"\"\"\n",
    "    \n",
    "    SQLglass=\"\"\"\n",
    "    INSERT INTO agg_material(bbr_id, Glass)\n",
    "    SELECT \n",
    "    bbr_id,\n",
    "    weightsum\n",
    "    FROM t2\n",
    "    WHERE material_type = 'Glass'\n",
    "    ON CONFLICT ON CONSTRAINT agg_material_pkey DO UPDATE SET (bbr_id, Glass) = (EXCLUDED.bbr_id, EXCLUDED.Glass);\n",
    "    \"\"\"\n",
    "\n",
    "    SQLother=\"\"\"\n",
    "    INSERT INTO agg_material(bbr_id, Other)\n",
    "    SELECT \n",
    "    bbr_id,\n",
    "    weightsum\n",
    "    FROM t2\n",
    "    WHERE material_type = 'Other'\n",
    "    ON CONFLICT ON CONSTRAINT agg_material_pkey DO UPDATE SET (bbr_id, Other) = (EXCLUDED.bbr_id, EXCLUDED.Other);\n",
    "    \"\"\"\n",
    "\n",
    "    SQLselect=\"SELECT * FROM agg_material\"\n",
    "    \n",
    "    try:\n",
    "        conn = pg.connect(params, row_factory=pg.rows.dict_row)\n",
    "        cur=conn.cursor()\n",
    "        \n",
    "        cur.execute(SQL1)\n",
    "        cur.execute(SQL2)\n",
    "        cur.execute(SQLclay)\n",
    "        cur.execute(SQLcement)\n",
    "        cur.execute(SQLconcrete)\n",
    "        cur.execute(SQLaggregates)\n",
    "        cur.execute(SQLgypsum)\n",
    "        cur.execute(SQLmetal)\n",
    "        cur.execute(SQLwood)\n",
    "        cur.execute(SQLwool)\n",
    "        cur.execute(SQLglass)\n",
    "        cur.execute(SQLother)\n",
    "        cur.execute(SQLselect)       \n",
    "\n",
    "        row=cur.fetchone()\n",
    "        \n",
    "        while row is not None:\n",
    "            index.append(row['bbr_id'])\n",
    "            for k in dic.keys():\n",
    "                dic[k].append(row[k.lower()])\n",
    "\n",
    "            row=cur.fetchone()\n",
    "\n",
    "        results=pd.DataFrame(dic,index)\n",
    "            \n",
    "        conn.commit()\n",
    "        cur.close()\n",
    "        \n",
    "        return(results)\n",
    "\n",
    "    except (Exception, pg.DatabaseError) as error:\n",
    "        print(error)\n",
    "    finally:\n",
    "        if conn is not None:\n",
    "            conn.close() "
   ]
  },
  {
   "cell_type": "code",
   "execution_count": 31,
   "id": "bd60093d",
   "metadata": {},
   "outputs": [],
   "source": [
    "allresults=material_amounts_all()"
   ]
  },
  {
   "cell_type": "code",
   "execution_count": 49,
   "id": "cc2df0ba",
   "metadata": {},
   "outputs": [
    {
     "data": {
      "text/plain": [
       "Index(['bbr_id', 'clay', 'cement_mortar', 'concrete', 'gypsum_plaster',\n",
       "       'metal', 'wood', 'wool', 'other'],\n",
       "      dtype='object')"
      ]
     },
     "execution_count": 49,
     "metadata": {},
     "output_type": "execute_result"
    }
   ],
   "source": [
    "allresults.columns"
   ]
  },
  {
   "cell_type": "code",
   "execution_count": 37,
   "id": "750923de",
   "metadata": {},
   "outputs": [],
   "source": [
    "SDU=pd.read_csv('C:/Users/KJ35FA/Downloads/bhuvans data.csv', sep=';')"
   ]
  },
  {
   "cell_type": "code",
   "execution_count": 38,
   "id": "e34428d0",
   "metadata": {},
   "outputs": [],
   "source": [
    "def lowercase(str):\n",
    "    return str.lower()"
   ]
  },
  {
   "cell_type": "code",
   "execution_count": 39,
   "id": "d4f8287a",
   "metadata": {},
   "outputs": [],
   "source": [
    "SDU['bygning_id']=SDU['bygning_id'].transform(lowercase)"
   ]
  },
  {
   "cell_type": "code",
   "execution_count": 40,
   "id": "458f339a",
   "metadata": {},
   "outputs": [],
   "source": [
    "SDU.index=[x.lower() for x in SDU['bygning_id']]"
   ]
  },
  {
   "cell_type": "code",
   "execution_count": 50,
   "id": "9c0ad5f0",
   "metadata": {},
   "outputs": [
    {
     "data": {
      "text/plain": [
       "Index(['bbr_id', 'clay_x', 'cement_mortar', 'concrete_x', 'gypsum_plaster',\n",
       "       'metal', 'wood', 'wool', 'other', 'id', 'geom', 'bygning_id',\n",
       "       'ydervaeg_kode', 'suppydervaegmat', 'tag_kode', 'supptagdaekmat',\n",
       "       'opfoerelse_aar', 'ombyg_aar', 'byg_anvend_kode', 'byg_arl_saml',\n",
       "       'erhv_arl_saml', 'udhus_indb_arl', 'carport_indb_arl',\n",
       "       'garage_indb_arl', 'udhus_indb_arl(2)', 'andet_arl', 'overdaekareal',\n",
       "       'etager_ant', 'komkode', 'grund_id', 'koornord', 'kooroest',\n",
       "       'archetype', 'aggregates', 'clay_y', 'concrete_y', 'glasscera',\n",
       "       'metals', 'mortargyp', 'plastics', 'timber', 'othermaterials',\n",
       "       'totalmaterial'],\n",
       "      dtype='object')"
      ]
     },
     "execution_count": 50,
     "metadata": {},
     "output_type": "execute_result"
    }
   ],
   "source": [
    "combined=pd.merge(allresults, SDU, left_index=True, right_index=True, how='inner')\n",
    "combined.columns"
   ]
  },
  {
   "cell_type": "code",
   "execution_count": 45,
   "id": "7e9a17f9",
   "metadata": {},
   "outputs": [],
   "source": [
    "archetypes=list(dict.fromkeys(combined['archetype']))\n",
    "years=[0, 1850, 1930, 1950, 1960, 1972, 1978, 1998, 2006, 2010, 2100]"
   ]
  },
  {
   "cell_type": "code",
   "execution_count": 47,
   "id": "5bf8500c",
   "metadata": {},
   "outputs": [],
   "source": [
    "mic_dic={}\n",
    "\n",
    "for a in archetypes:\n",
    "    for n in range(1,len(years)):\n",
    "        ymax=str(years[n])\n",
    "        ymin=str(years[n-1])\n",
    "        name=a+ymax\n",
    "        q='(archetype == \"'+a+'\") & (opfoerelse_aar <= '+ymax+') & (opfoerelse_aar > '+ymin+')'\n",
    "        mic_dic[name]=combined.query(q)"
   ]
  },
  {
   "cell_type": "code",
   "execution_count": 55,
   "id": "bb45020b",
   "metadata": {},
   "outputs": [
    {
     "data": {
      "text/plain": [
       "9211670.0536"
      ]
     },
     "execution_count": 55,
     "metadata": {},
     "output_type": "execute_result"
    }
   ],
   "source": [
    "mic_dic['SFH1850']['clay_x'].sum()"
   ]
  },
  {
   "cell_type": "code",
   "execution_count": 56,
   "id": "4440b8dc",
   "metadata": {},
   "outputs": [
    {
     "data": {
      "text/plain": [
       "35592"
      ]
     },
     "execution_count": 56,
     "metadata": {},
     "output_type": "execute_result"
    }
   ],
   "source": [
    "mic_dic['SFH1850']['byg_arl_saml'].sum()"
   ]
  },
  {
   "cell_type": "code",
   "execution_count": 76,
   "id": "71576bea",
   "metadata": {},
   "outputs": [],
   "source": [
    "index=[]\n",
    "mic_means=dict()\n",
    "for c in combined.columns[1:9]:\n",
    "    mic_means[c]=list()\n",
    "for k in mic_dic.keys():\n",
    "    index.append(k)\n",
    "    for c in combined.columns[1:9]:\n",
    "        mic=mic_dic[k][c].sum()/mic_dic[k]['byg_arl_saml'].sum()\n",
    "        mic_means[c].append(mic)\n",
    "mic_means=pd.DataFrame(mic_means, index)"
   ]
  },
  {
   "cell_type": "code",
   "execution_count": 81,
   "id": "5198a685",
   "metadata": {},
   "outputs": [],
   "source": [
    "mic_means=mic_means.transpose()"
   ]
  },
  {
   "cell_type": "code",
   "execution_count": 82,
   "id": "ff9ba444",
   "metadata": {},
   "outputs": [],
   "source": [
    "mic_means.to_excel('C:/Users/KJ35FA/Documents/Python/MICS-perm2-2301.xlsx')"
   ]
  },
  {
   "cell_type": "markdown",
   "id": "0fe73b9e",
   "metadata": {},
   "source": [
    "# Visualization"
   ]
  },
  {
   "cell_type": "code",
   "execution_count": 47,
   "id": "bc1f6652",
   "metadata": {},
   "outputs": [],
   "source": [
    "import numpy as np\n",
    "import matplotlib.pyplot as plt"
   ]
  },
  {
   "cell_type": "code",
   "execution_count": 64,
   "id": "f380ffce",
   "metadata": {},
   "outputs": [
    {
     "ename": "NameError",
     "evalue": "name 'allresults' is not defined",
     "output_type": "error",
     "traceback": [
      "\u001b[1;31m---------------------------------------------------------------------------\u001b[0m",
      "\u001b[1;31mNameError\u001b[0m                                 Traceback (most recent call last)",
      "Cell \u001b[1;32mIn [64], line 1\u001b[0m\n\u001b[1;32m----> 1\u001b[0m boxplot \u001b[38;5;241m=\u001b[39m \u001b[43mallresults\u001b[49m\u001b[38;5;241m.\u001b[39mboxplot(column\u001b[38;5;241m=\u001b[39m[\u001b[38;5;124m'\u001b[39m\u001b[38;5;124mClay\u001b[39m\u001b[38;5;124m'\u001b[39m,\u001b[38;5;124m'\u001b[39m\u001b[38;5;124mConcrete\u001b[39m\u001b[38;5;124m'\u001b[39m,\u001b[38;5;124m'\u001b[39m\u001b[38;5;124mWood\u001b[39m\u001b[38;5;124m'\u001b[39m])\n\u001b[0;32m      2\u001b[0m boxplot\u001b[38;5;241m.\u001b[39mfigure\n",
      "\u001b[1;31mNameError\u001b[0m: name 'allresults' is not defined"
     ]
    }
   ],
   "source": [
    "boxplot = allresults.boxplot(column=['Clay','Concrete','Wood'])\n",
    "boxplot.figure"
   ]
  },
  {
   "cell_type": "code",
   "execution_count": 37,
   "id": "210698d3",
   "metadata": {},
   "outputs": [],
   "source": [
    "testplot=pd.DataFrame({'year':bhuvans['opfoerelse_aar'],'floorarea':bhuvans['byg_arl_saml'],'materialperm2':bhuvans['totalmaterial']/bhuvans['byg_arl_saml']})\n"
   ]
  },
  {
   "cell_type": "code",
   "execution_count": null,
   "id": "b346ff87",
   "metadata": {},
   "outputs": [],
   "source": [
    "testplot.plot.hexbin(x='year', y='floorarea', C='materialperm2', reduce_C_function=np.mean)"
   ]
  },
  {
   "cell_type": "code",
   "execution_count": null,
   "id": "85fc9a90",
   "metadata": {},
   "outputs": [],
   "source": [
    "plot=testplot.plot.scatter(x='year', y='floorarea', c='materialperm2', figsize=(18,20), xlabel='Construction year', ylabel='Floor area')"
   ]
  },
  {
   "cell_type": "code",
   "execution_count": 76,
   "id": "423f20cd",
   "metadata": {},
   "outputs": [],
   "source": [
    "plot.xaxis.set_label_coords(1000,1000)"
   ]
  },
  {
   "cell_type": "code",
   "execution_count": null,
   "id": "51eeca9d",
   "metadata": {},
   "outputs": [],
   "source": [
    "plot.figure"
   ]
  },
  {
   "cell_type": "code",
   "execution_count": null,
   "id": "9ed8db94",
   "metadata": {},
   "outputs": [],
   "source": [
    "fig, ax=plt.subplots()"
   ]
  },
  {
   "cell_type": "code",
   "execution_count": 79,
   "id": "272543ba",
   "metadata": {},
   "outputs": [
    {
     "data": {
      "text/plain": [
       "<AxesSubplot:xlabel='Construction year', ylabel='Floor area'>"
      ]
     },
     "execution_count": 79,
     "metadata": {},
     "output_type": "execute_result"
    }
   ],
   "source": [
    "testplot.plot.scatter(x='year', y='floorarea', c='materialperm2', figsize=(18,20), xlabel='Construction year', ylabel='Floor area', ax=ax)"
   ]
  },
  {
   "cell_type": "code",
   "execution_count": null,
   "id": "c837629f",
   "metadata": {},
   "outputs": [],
   "source": [
    "ax.figure"
   ]
  },
  {
   "cell_type": "code",
   "execution_count": null,
   "id": "54337f6d",
   "metadata": {},
   "outputs": [],
   "source": [
    "fig2, ax2=plt.subplots()\n",
    "testplot.plot.hexbin(x='year', y='floorarea', C='materialperm2', reduce_C_function=np.mean, figsize=(18,18), xlabel='Construction year', ylabel='Floor area', ax=ax2, cmap='RdBu_r')"
   ]
  },
  {
   "cell_type": "code",
   "execution_count": null,
   "id": "76c5ff28",
   "metadata": {},
   "outputs": [],
   "source": [
    "fig3, axs = plt.subplots(2,2,figsize=(18,18),layout='constrained')"
   ]
  },
  {
   "cell_type": "code",
   "execution_count": 151,
   "id": "fa7c77b3",
   "metadata": {},
   "outputs": [
    {
     "data": {
      "text/plain": [
       "Text(0.5, 654.67976, 'floor area')"
      ]
     },
     "execution_count": 151,
     "metadata": {},
     "output_type": "execute_result"
    }
   ],
   "source": [
    "p=axs[0,0].scatter(bhuvans['byg_arl_saml'],testplot['materialperm2'])\n",
    "axs[0,0].set_ylabel('material per m2')\n",
    "axs[0,0].set_xlabel('floor area')"
   ]
  },
  {
   "cell_type": "code",
   "execution_count": 152,
   "id": "298506b0",
   "metadata": {},
   "outputs": [
    {
     "data": {
      "text/plain": [
       "Text(0.5, 654.67976, 'construction year')"
      ]
     },
     "execution_count": 152,
     "metadata": {},
     "output_type": "execute_result"
    }
   ],
   "source": [
    "axs[0,1].scatter(bhuvans['opfoerelse_aar'],testplot['materialperm2'])\n",
    "axs[0,1].set_ylabel('material per m2')\n",
    "axs[0,1].set_xlabel('construction year')"
   ]
  },
  {
   "cell_type": "code",
   "execution_count": 153,
   "id": "a3adce7b",
   "metadata": {},
   "outputs": [
    {
     "data": {
      "text/plain": [
       "Text(0.5, 3.1999999999999993, 'use code')"
      ]
     },
     "execution_count": 153,
     "metadata": {},
     "output_type": "execute_result"
    }
   ],
   "source": [
    "axs[1,0].bar(bhuvans['byg_anvend_kode'],testplot['materialperm2'])\n",
    "axs[1,0].set_ylabel('material per m2')\n",
    "axs[1,0].set_xlabel('use code')"
   ]
  },
  {
   "cell_type": "code",
   "execution_count": 154,
   "id": "aeaa93c7",
   "metadata": {},
   "outputs": [
    {
     "data": {
      "text/plain": [
       "<matplotlib.colorbar.Colorbar at 0x25115045d00>"
      ]
     },
     "execution_count": 154,
     "metadata": {},
     "output_type": "execute_result"
    }
   ],
   "source": [
    "p=axs[1,1].hexbin(bhuvans['byg_anvend_kode'],bhuvans['opfoerelse_aar'],C=testplot['materialperm2'], reduce_C_function=np.mean, cmap='RdBu_r')\n",
    "axs[1,1].set_xlabel('use code')\n",
    "axs[1,1].set_ylabel('construction year')\n",
    "fig3.colorbar(p, ax=axs[1,1])"
   ]
  },
  {
   "cell_type": "code",
   "execution_count": null,
   "id": "d24e9601",
   "metadata": {},
   "outputs": [],
   "source": [
    "fig3.figure"
   ]
  },
  {
   "cell_type": "code",
   "execution_count": null,
   "id": "b457f07a",
   "metadata": {},
   "outputs": [],
   "source": [
    "fig4, axs = plt.subplots(2,2,figsize=(18,18),layout='constrained')\n",
    "\n",
    "p=axs[0,0].scatter(allresults['byg038SamletBygningsareal'],testplot['amount'])\n",
    "axs[0,0].set_ylabel('material per m2')\n",
    "axs[0,0].set_xlabel('floor area')"
   ]
  }
 ],
 "metadata": {
  "kernelspec": {
   "display_name": "Python 3 (ipykernel)",
   "language": "python",
   "name": "python3"
  },
  "language_info": {
   "codemirror_mode": {
    "name": "ipython",
    "version": 3
   },
   "file_extension": ".py",
   "mimetype": "text/x-python",
   "name": "python",
   "nbconvert_exporter": "python",
   "pygments_lexer": "ipython3",
   "version": "3.9.12"
  }
 },
 "nbformat": 4,
 "nbformat_minor": 5
}
