{
 "cells": [
  {
   "cell_type": "markdown",
   "id": "79dbc26e",
   "metadata": {},
   "source": [
    "# Fine-tuning material amounts"
   ]
  },
  {
   "cell_type": "markdown",
   "id": "68104c08",
   "metadata": {},
   "source": [
    "This notebook provides examples of some post-hoc modifications that can be implemented in the database after the initial run, to progressively refine estimations of material amounts."
   ]
  },
  {
   "cell_type": "markdown",
   "id": "33fc2a76",
   "metadata": {},
   "source": [
    "### Setup"
   ]
  },
  {
   "cell_type": "code",
   "execution_count": null,
   "id": "e02816e7",
   "metadata": {},
   "outputs": [],
   "source": [
    "import psycopg as pg\n",
    "import pandas as pd"
   ]
  },
  {
   "cell_type": "code",
   "execution_count": null,
   "id": "a4f045df",
   "metadata": {},
   "outputs": [],
   "source": [
    "params='dbname=macrocomponents user=postgres password=mypassword' # Write the parameters to connect to your PostgresQL database here."
   ]
  },
  {
   "cell_type": "code",
   "execution_count": null,
   "id": "5c1ff1ef",
   "metadata": {},
   "outputs": [],
   "source": [
    "def run_sql (DBparameters,SQLcode):\n",
    "    try:\n",
    "        # connect to the PostgreSQL database\n",
    "        connector = pg.connect(DBparameters)\n",
    "\n",
    "        # create a new cursor\n",
    "        cur = connector.cursor()\n",
    "\n",
    "        # execute the SQL statement\n",
    "        cur.execute(SQLcode)\n",
    "\n",
    "        # commit the changes to the database\n",
    "        connector.commit()\n",
    "\n",
    "        # close communication with the database\n",
    "        cur.close()\n",
    "\n",
    "    except (Exception, pg.DatabaseError) as error:\n",
    "        print(error)\n",
    "\n",
    "    finally:\n",
    "        if connector is not None:\n",
    "            connector.close()"
   ]
  },
  {
   "cell_type": "markdown",
   "id": "9d3a00a9",
   "metadata": {},
   "source": [
    "### Changing the amount of bricks in external walls"
   ]
  },
  {
   "cell_type": "markdown",
   "id": "f6d67462",
   "metadata": {},
   "source": [
    "The amount of bricks in external walls usually depends on the height of the building. This can be implemented in the model based on the number of floors, instead of using a constant for the thickness of brick walls."
   ]
  },
  {
   "cell_type": "code",
   "execution_count": null,
   "id": "b3f66a14",
   "metadata": {},
   "outputs": [],
   "source": [
    "SEF = 1.2 "
   ]
  },
  {
   "cell_type": "code",
   "execution_count": null,
   "id": "4993a807",
   "metadata": {},
   "outputs": [],
   "source": [
    "FloorHeight=3.5"
   ]
  },
  {
   "cell_type": "code",
   "execution_count": null,
   "id": "af41d124",
   "metadata": {},
   "outputs": [],
   "source": [
    "WindowWallRatio=0.2"
   ]
  },
  {
   "cell_type": "code",
   "execution_count": null,
   "id": "c84efca5",
   "metadata": {},
   "outputs": [],
   "source": [
    "get_perimeter_sql=f\"SELECT (CASE WHEN (b.byg054AntalEtager IS NULL OR b.byg054AntalEtager = 0) THEN SQRT(b.byg041BebyggetAreal)*2*(%s+1/%s) ELSE SQRT(b.byg038SamletBygningsareal/b.byg054AntalEtager)*2*(%s+1/%s) END) as perimeter\" % (SEF,SEF,SEF,SEF) #Rough approximation if the building has storeys of different sizes"
   ]
  },
  {
   "cell_type": "code",
   "execution_count": null,
   "id": "b504cfe9",
   "metadata": {},
   "outputs": [],
   "source": [
    "SQL=\"\"\"\n",
    "WITH brick_ext_walls_new AS\n",
    "(SELECT \n",
    "    b.id_lokalId bbrid,\n",
    "    typ.id,\n",
    "    typ.name,\n",
    "    perimeter,\n",
    "    ext_wall_surf,\n",
    "    brick_thickness,\n",
    "    pr.name product,\n",
    "    amount_product,\n",
    "    pmap.unit unit\n",
    "FROM buildings b\n",
    "INNER JOIN buildings_to_ext_walls bmap\n",
    "    ON b.id_lokalId = bmap.bbr_id\n",
    "INNER JOIN ext_wall_types typ\n",
    "    ON typ.id=2\n",
    "INNER JOIN ext_walls_to_subcomponents submap\n",
    "    ON typ.id = submap.ext_wall_id\n",
    "INNER JOIN subcomponents sc\n",
    "    ON sc.lcabyg_id = submap.subcomponent_id\n",
    "INNER JOIN subcomponents_to_products pmap\n",
    "    ON pmap.subcomponent_id = sc.lcabyg_id\n",
    "INNER JOIN products pr\n",
    "    ON pr.lcabyg_id = pmap.product_id,\n",
    "LATERAL (%s) ltp,\n",
    "LATERAL (SELECT (CASE WHEN b.byg054AntalEtager IS NOT NULL THEN perimeter*b.byg054AntalEtager*%s*(1-%s) ELSE perimeter*%s*(1-%s) END) AS ext_wall_surf) lt1,\n",
    "LATERAL (SELECT (CASE WHEN b.byg054AntalEtager IS NOT NULL THEN 0.228 * (0.85+(b.byg054AntalEtager+1)/8) ELSE 0.228 END) AS brick_thickness) lt2,\n",
    "LATERAL (SELECT ext_wall_surf*brick_thickness*pmap.amount/0.336 AS amount_product) lt3\n",
    "WHERE pr.name NOT LIKE '%%plaster%%'\n",
    ")\n",
    "\n",
    "UPDATE results_material_amounts\n",
    "SET amount = brick_ext_walls_new.amount_product\n",
    "FROM brick_ext_walls_new\n",
    "WHERE (results_material_amounts.bbr_id, results_material_amounts.element, results_material_amounts.product)=(brick_ext_walls_new.bbrid, 'ext_wall', brick_ext_walls_new.product) \n",
    "\n",
    "\"\"\" %(get_perimeter_sql, FloorHeight, WindowWallRatio, FloorHeight, WindowWallRatio)"
   ]
  },
  {
   "cell_type": "code",
   "execution_count": null,
   "id": "ef9daf85",
   "metadata": {},
   "outputs": [],
   "source": [
    "run_sql(params,SQL)"
   ]
  },
  {
   "cell_type": "markdown",
   "id": "d97ab3ff",
   "metadata": {},
   "source": [
    "Then we can always update the total amounts table:"
   ]
  },
  {
   "cell_type": "code",
   "execution_count": null,
   "id": "bb953c41",
   "metadata": {},
   "outputs": [],
   "source": [
    "update_tot_amounts_sql=\"\"\"\n",
    "WITH t AS(\n",
    "SELECT \n",
    "    element,\n",
    "    SUM(amount) sum,\n",
    "    unit,\n",
    "    product\n",
    "FROM results_material_amounts\n",
    "GROUP BY (element, unit, product))\n",
    "\n",
    "UPDATE tot_material_amounts tma\n",
    "SET amount=t.sum\n",
    "FROM t\n",
    "WHERE (tma.element, tma.unit, tma.product) = (t.element, t.unit, t.product)\n",
    "\"\"\""
   ]
  },
  {
   "cell_type": "code",
   "execution_count": null,
   "id": "27278527",
   "metadata": {},
   "outputs": [],
   "source": [
    "run_sql(params,update_tot_amounts_sql)"
   ]
  }
 ],
 "metadata": {
  "kernelspec": {
   "display_name": "Python 3 (ipykernel)",
   "language": "python",
   "name": "python3"
  },
  "language_info": {
   "codemirror_mode": {
    "name": "ipython",
    "version": 3
   },
   "file_extension": ".py",
   "mimetype": "text/x-python",
   "name": "python",
   "nbconvert_exporter": "python",
   "pygments_lexer": "ipython3",
   "version": "3.9.12"
  }
 },
 "nbformat": 4,
 "nbformat_minor": 5
}
