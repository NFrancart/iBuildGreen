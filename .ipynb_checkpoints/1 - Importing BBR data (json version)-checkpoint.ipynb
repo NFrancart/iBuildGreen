{
 "cells": [
  {
   "cell_type": "markdown",
   "id": "50c9f6ad",
   "metadata": {},
   "source": [
    "# Importing data from BBR into a relational database"
   ]
  },
  {
   "cell_type": "markdown",
   "id": "0296d49d",
   "metadata": {},
   "source": [
    "This document shows how to retrieve data from the Danish building registry, BBR, and insert it into a relational database for easier use. <br>\n",
    "\n",
    "As prerequisites, you need to be able to run Python and have a PostgresQL database ready with a table to receive the BBR data."
   ]
  },
  {
   "cell_type": "markdown",
   "id": "a7936ba9",
   "metadata": {},
   "source": [
    "# 1) Obtaining the data"
   ]
  },
  {
   "cell_type": "markdown",
   "id": "220eea17",
   "metadata": {},
   "source": [
    "1. Go to https://datafordeler.dk/ <br>\n",
    "Click on \"log in\" and create a new web user. You should get a user name and password to access datafordeler. <br>\n",
    "<br>\n",
    "2. With your username and password, log in to the datafordeler self-service to retrieve data: <br> https://selfservice.datafordeler.dk/ <br>\n",
    "<br>\n",
    "3. It's not intuitive, but your account is linked to several \"users\", each with different permissions. Check the Users tab (Brugere) - if you only have the user \"Webbruger\", you need to create a new one. Click on the + tab and create a service user with the \"user name and access code\" method.<br>\n",
    "<br>\n",
    "4. You are now ready to request public data on datafordeler. Go to the Downloads tab (Filudtræk). You should see an empty field - that's because you haven't requested data yet. To get access to data, you need to create a download. You have three choices:<br> - Clicking Opret will allow you to create a permanent download button, that is kept up to date and that you can use multiple times.<br> - Clicking Download will allow you to request a one-time download of the dataset.<br> - Clicking Predefined will allow you to download a dataset with a fixed set of parameters (instead of customizing everything). In particular, you can use Predefined to download the BBR dataset with only up-to-date entries, in JSON or XML format. <br>\n",
    "<br>\n",
    "5. You should now see a list of all available downloads. Give your download a name (Visningsnavn) and select BBR Totaludtræk in the list (or BBR Aktuelt Totaludtræk if using Predefined). Click Next. If you chose Opret or Download, you can now adjust a lot of parameters, such as downloading entries for only a specific municipality. If you used Predefined, the parameters are locked.<br><br>\n",
    "\n",
    "6. Click Save (Gem). You will be taken back to the Download tabs. If you used Opret or Predefined, you should see your data subscription there. You can modify or delete it if you don't think that you will need to download it again in the future. You will receive an email with information on how to get your data.<br>\n",
    "<br>\n",
    "7. Actually getting the data is a bit tricky: you cannot download it from Datafordeler directly. You need to use a FTP client like https://filezilla-project.org/ <br>\n",
    "Download and install FileZilla. When you launch it, enter the address provided in the email you got from Datafordeler, as well as your Datafordeler service user number (*not* your initial username: this is the user number you created in step 3) and password. Click Connect, and you should finally be able to see and download your files! \n",
    "\n"
   ]
  },
  {
   "cell_type": "markdown",
   "id": "211a5d95",
   "metadata": {},
   "source": [
    "### Note on file format"
   ]
  },
  {
   "cell_type": "markdown",
   "id": "70421b40",
   "metadata": {},
   "source": [
    "Because BBR is a very large dataset (if you download the whole thing), your computer will run out of memory when trying to parse it in one chunk. For this reason, we want to parse the file iteratively. Doing this with an XML file is relatively straightforward on Python, but takes a lot of time. Working with a JSON file requires installing a specific package, *ijson*, to allow for iterative parsing - but it will be faster. In this notebook, we will work with the JSON format."
   ]
  },
  {
   "cell_type": "markdown",
   "id": "c1fdfaf9",
   "metadata": {},
   "source": [
    "# 2) Inserting values in the PostgresQL database"
   ]
  },
  {
   "cell_type": "markdown",
   "id": "587321fa",
   "metadata": {},
   "source": [
    "Before retrieving values from the database, we need to define a function that will process these values and insert them into the database. Here the idea is to write a function that inserts one row into the database. It takes as input a Python dictionary where values of various parameters for the building are recorded. You need to adjust the SQL code to fit the names of your table and columns."
   ]
  },
  {
   "cell_type": "markdown",
   "id": "aa73201b",
   "metadata": {},
   "source": [
    "### Setup"
   ]
  },
  {
   "cell_type": "code",
   "execution_count": null,
   "id": "be1f1622",
   "metadata": {},
   "outputs": [],
   "source": [
    "import psycopg as pg # Package to communicate between Python and PostgresQL"
   ]
  },
  {
   "cell_type": "code",
   "execution_count": null,
   "id": "5cc7e4a0",
   "metadata": {},
   "outputs": [],
   "source": [
    "dbparams='dbname=macrocomponents user=postgres password=mypassword' # Write the parameters to connect to your PostgresQL database here."
   ]
  },
  {
   "cell_type": "code",
   "execution_count": null,
   "id": "3059890b",
   "metadata": {},
   "outputs": [],
   "source": [
    "# Write here the parameters you want to retrieve from the BBR data file. These need to be the same names as in BBR, in Danish. See the end of this notebook for a full list of parameters.\n",
    "parameters=['id_lokalId','kommunekode', 'byg007Bygningsnummer', 'jordstykke', 'grund', 'husnummer', 'byg404Koordinat', 'byg026Opførelsesår', 'byg027OmTilbygningsår', 'byg021BygningensAnvendelse', 'byg041BebyggetAreal', 'byg038SamletBygningsareal', 'byg039BygningensSamledeBoligAreal', 'byg040BygningensSamledeErhvervsAreal', 'byg042ArealIndbyggetGarage', 'byg043ArealIndbyggetCarport', 'byg044ArealIndbyggetUdhus', 'byg045ArealIndbyggetUdestueEllerLign', 'byg046SamletArealAfLukkedeOverdækningerPåBygningen', 'byg047ArealAfAffaldsrumITerrænniveau', 'byg048AndetAreal',  'byg049ArealAfOverdækketAreal', 'byg032YdervæggensMateriale', 'byg050ArealÅbneOverdækningerPåBygningenSamlet', 'byg051Adgangsareal',  'byg054AntalEtager', 'byg055AfvigendeEtager', 'byg033Tagdækningsmateriale', 'byg034SupplerendeYdervæggensMateriale', 'byg035SupplerendeTagdækningsMateriale', 'byg036AsbestholdigtMateriale', 'byg056Varmeinstallation', 'byg057Opvarmningsmiddel', 'byg058SupplerendeVarme', 'byg071BevaringsværdighedReference', 'byg130ArealAfUdvendigEfterisolering', 'byg150Gulvbelægning', 'byg151Frihøjde']"
   ]
  },
  {
   "cell_type": "markdown",
   "id": "18eb0312",
   "metadata": {},
   "source": [
    "### Insertion function"
   ]
  },
  {
   "cell_type": "code",
   "execution_count": null,
   "id": "4baec97a",
   "metadata": {},
   "outputs": [],
   "source": [
    "def insert_bbr_from_dict(row_dict):\n",
    "    # We first convert the dictionary into a tuple, since the PostgresQL insertion function takes a tuple as input\n",
    "    # The dictionary keys are the names of parameters from BBR, in Danish\n",
    "    l=list()\n",
    "    ks=row_dict.keys()\n",
    "    for k in ks:\n",
    "        l.append(row_dict[k])\n",
    "    row_tuple=tuple(l)\n",
    "    \n",
    "    # Building the SQL query to insert values in the database.     \n",
    "    sql =\"INSERT INTO buildings(\"\n",
    "    for k in ks:\n",
    "        sql+=k+', '\n",
    "    sql=sql[0:len(sql)-2]+') VALUES('\n",
    "    for n in range(len(ks)):\n",
    "        sql+='%s, '\n",
    "    sql=sql[0:len(sql)-2]+') ON CONFLICT ON CONSTRAINT buildings_pkey DO UPDATE SET ('\n",
    "    for k in ks:\n",
    "        sql+=k+', '\n",
    "    sql=sql[0:len(sql)-2]+') = ('\n",
    "    for k in ks:\n",
    "        sql+='EXCLUDED.'+k+', '\n",
    "    sql=sql[0:len(sql)-2]+');'\n",
    "    \n",
    "    connector = None\n",
    "    bbrid = None\n",
    "    \n",
    "    try:\n",
    "        # connect to the PostgreSQL database\n",
    "        connector = pg.connect(dbparams)\n",
    "        # create a new cursor\n",
    "        cur = connector.cursor()\n",
    "        # execute the INSERT statement\n",
    "        cur.execute(sql, row_tuple)\n",
    "        # commit the changes to the database\n",
    "        connector.commit()\n",
    "        # close communication with the database\n",
    "        cur.close()\n",
    "        \n",
    "    except (Exception, pg.DatabaseError) as error:\n",
    "        print(row_tuple)\n",
    "        print(error)\n",
    "        \n",
    "    finally:\n",
    "        if connector is not None:\n",
    "            connector.close()"
   ]
  },
  {
   "cell_type": "markdown",
   "id": "b29ada23",
   "metadata": {},
   "source": [
    "Note: it is possible to write a slightly simpler function that inserts all rows at once, using the *executemany* method instead of *execute*. However, that requires building a dictionary with all rows first - and we want to avoid this due to the size of the dataset."
   ]
  },
  {
   "cell_type": "markdown",
   "id": "74f1dc40",
   "metadata": {},
   "source": [
    "# 3) Retrieving values from the database"
   ]
  },
  {
   "cell_type": "markdown",
   "id": "8a8a73c2",
   "metadata": {},
   "source": [
    "Python has a very easy to use *json* package to read JSON files and convert them into Python objects. However, the json package works by loading the entire JSON file into memory before processing it. With a very large file like BBR, this will likely cause errors and crashes. Instead, we want to parse BBR iteratively using the ijson package."
   ]
  },
  {
   "cell_type": "markdown",
   "id": "7dd37471",
   "metadata": {},
   "source": [
    "### Setup"
   ]
  },
  {
   "cell_type": "code",
   "execution_count": null,
   "id": "1cf51f8e",
   "metadata": {},
   "outputs": [],
   "source": [
    "import ijson # package to parse JSON iteratively "
   ]
  },
  {
   "cell_type": "code",
   "execution_count": null,
   "id": "40503918",
   "metadata": {},
   "outputs": [],
   "source": [
    "jsonfile='C:/Users/KJ35FA/Documents/BBR_Aktuelt_Totaludtraek_JSON_20221107180020.json' #Write the location of your JSON file here."
   ]
  },
  {
   "cell_type": "markdown",
   "id": "11f71a0c",
   "metadata": {},
   "source": [
    "### Parsing the JSON file"
   ]
  },
  {
   "cell_type": "markdown",
   "id": "7626129f",
   "metadata": {},
   "source": [
    "The *ijson kvitems* method reads the JSON file as a stream, without loading it all into memory. It records all objects found with a specific path (prefix). The following function will parse iteratively through the JSON file, and record the parameters we're interested in. When a new building is encountered, existing parameters are inserted into the database and their values are cleared to record values for the new building. "
   ]
  },
  {
   "cell_type": "markdown",
   "id": "8fdabc4a",
   "metadata": {},
   "source": [
    "As of November 2022, BBR includes around 5 800 000 building records. If we import the entire BBR database by running this function on a regular desktop or laptop, the function will run for several days straight. This makes it sensitive to crashes. Therefore, as a safety, the function also records the id of the last building it inserted in the database. In case of crash, the function can then be run again with *last_building_recorded* as an input parameter: it will then ignore all buildings when parsing the JSON file until it reaches the last building previously recorded. This considerably speeds up the new run."
   ]
  },
  {
   "cell_type": "markdown",
   "id": "2909cda8",
   "metadata": {},
   "source": [
    "It is important that the parameter names we give as inputs to the function are written in the same way as in the JSON record, or they won't be recognized. We include *encoding='utf8'* to recognize the letters ø, æ and å."
   ]
  },
  {
   "cell_type": "code",
   "execution_count": null,
   "id": "181018ee",
   "metadata": {},
   "outputs": [],
   "source": [
    "def retrieve_values(parameters,jsonfile,last_recorded_id=''):\n",
    "    jsondata = open(jsonfile, encoding='utf8')\n",
    "    items = ijson.kvitems(jsondata, 'BygningList.item')\n",
    "    building_dict=dict()\n",
    "    isNewBuilding=False # Have we already recorded this building in a previous (unfinished) run?\n",
    "    \n",
    "    if last_recorded_id=='':\n",
    "        isNewBuilding=True # By default we assume that no building has previously been recorded.\n",
    "    \n",
    "    for param, value in items: # Parse the json file, reading the name and value of each parameter for each building\n",
    "        \n",
    "        if param == 'forretningshændelse': # This is the first parameter in the JSON file for each building, so it indicates the start of a new building.\n",
    "            \n",
    "            # Insert previously recorded values, if we have not recorded this building before:\n",
    "            if len(building_dict.values())>0:\n",
    "                if isNewBuilding:\n",
    "                    insert_bbr_from_dict(building_dict)         \n",
    "                    \n",
    "                    # Save the recorded building's id to start again from there in case the program crashes (use it as the last_recorded_id parameter for the next run).\n",
    "                    last_building_recorded=building_dict['id_lokalId']\n",
    "                    \n",
    "                # If the current id is equal to the last_recorded_id from a previous run, all buildings read after this point must be recorded\n",
    "                elif building_dict['id_lokalId']==last_recorded_id:\n",
    "                    isNewBuilding=True\n",
    "                \n",
    "            # Reset the building dictionary to record values for the next building:\n",
    "            building_dict=dict()\n",
    "\n",
    "        elif param in parameters:\n",
    "            # If the parameter we're reading is on the list of parameters we're interested in, record it.\n",
    "            building_dict[param]=value\n"
   ]
  },
  {
   "cell_type": "markdown",
   "id": "9463bd8b",
   "metadata": {},
   "source": [
    "Whenever we use the *ijson kvitems* method, we need to open the data file again to \"reset\" it. In other words, each occurence of *ijson.kvitems* must be preceded by *jsondata = open(jsonfile)*. This is the case in the function above - but good to know if you need to parse the file again later."
   ]
  },
  {
   "cell_type": "markdown",
   "id": "6fb5d354",
   "metadata": {},
   "source": [
    "Now all we need to do is call the function we just defined."
   ]
  },
  {
   "cell_type": "code",
   "execution_count": null,
   "id": "f202c4bf",
   "metadata": {},
   "outputs": [],
   "source": [
    "retrieve_values(parameters, jsonfile, last_recorded_id='')"
   ]
  },
  {
   "cell_type": "markdown",
   "id": "a1b1cb0b",
   "metadata": {},
   "source": [
    "_______________________________________"
   ]
  },
  {
   "cell_type": "markdown",
   "id": "1b6c1a70",
   "metadata": {},
   "source": [
    "# Appendix: list of BBR parameters"
   ]
  },
  {
   "cell_type": "markdown",
   "id": "e4e7bae0",
   "metadata": {},
   "source": [
    "The following function will print all BBR parameters for buildings:"
   ]
  },
  {
   "cell_type": "code",
   "execution_count": 5,
   "id": "634872f1",
   "metadata": {},
   "outputs": [
    {
     "name": "stdout",
     "output_type": "stream",
     "text": [
      "forretningshændelse\n",
      "forretningsområde\n",
      "forretningsproces\n",
      "id_namespace\n",
      "id_lokalId\n",
      "kommunekode\n",
      "registreringFra\n",
      "registreringsaktør\n",
      "registreringTil\n",
      "virkningFra\n",
      "virkningsaktør\n",
      "virkningTil\n",
      "status\n",
      "byg007Bygningsnummer\n",
      "byg021BygningensAnvendelse\n",
      "byg024AntalLejlighederMedKøkken\n",
      "byg025AntalLejlighederUdenKøkken\n",
      "byg026Opførelsesår\n",
      "byg027OmTilbygningsår\n",
      "byg029DatoForMidlertidigOpførtBygning\n",
      "byg030Vandforsyning\n",
      "byg031Afløbsforhold\n",
      "byg032YdervæggensMateriale\n",
      "byg033Tagdækningsmateriale\n",
      "byg034SupplerendeYdervæggensMateriale\n",
      "byg035SupplerendeTagdækningsMateriale\n",
      "byg036AsbestholdigtMateriale\n",
      "byg037KildeTilBygningensMaterialer\n",
      "byg038SamletBygningsareal\n",
      "byg039BygningensSamledeBoligAreal\n",
      "byg040BygningensSamledeErhvervsAreal\n",
      "byg041BebyggetAreal\n",
      "byg042ArealIndbyggetGarage\n",
      "byg043ArealIndbyggetCarport\n",
      "byg044ArealIndbyggetUdhus\n",
      "byg045ArealIndbyggetUdestueEllerLign\n",
      "byg046SamletArealAfLukkedeOverdækningerPåBygningen\n",
      "byg047ArealAfAffaldsrumITerrænniveau\n",
      "byg048AndetAreal\n",
      "byg049ArealAfOverdækketAreal\n",
      "byg050ArealÅbneOverdækningerPåBygningenSamlet\n",
      "byg051Adgangsareal\n",
      "byg052BeregningsprincipCarportAreal\n",
      "byg053BygningsarealerKilde\n",
      "byg054AntalEtager\n",
      "byg055AfvigendeEtager\n",
      "byg056Varmeinstallation\n",
      "byg057Opvarmningsmiddel\n",
      "byg058SupplerendeVarme\n",
      "byg069Sikringsrumpladser\n",
      "byg070Fredning\n",
      "byg071BevaringsværdighedReference\n",
      "byg094Revisionsdato\n",
      "byg111StormrådetsOversvømmelsesSelvrisiko\n",
      "byg112DatoForRegistreringFraStormrådet\n",
      "byg113Byggeskadeforsikringsselskab\n",
      "byg114DatoForByggeskadeforsikring\n",
      "byg119Udledningstilladelse\n",
      "byg121OmfattetAfByggeskadeforsikring\n",
      "byg122Gyldighedsdato\n",
      "byg123MedlemskabAfSpildevandsforsyning\n",
      "byg124PåbudVedrSpildevandsafledning\n",
      "byg125FristVedrSpildevandsafledning\n",
      "byg126TilladelseTilUdtræden\n",
      "byg127DatoForTilladelseTilUdtræden\n",
      "byg128TilladelseTilAlternativBortskaffelseEllerAfledning\n",
      "byg129DatoForTilladelseTilAlternativBortskaffelseEllerAfledning\n",
      "byg130ArealAfUdvendigEfterisolering\n",
      "byg131DispensationFritagelseIftKollektivVarmeforsyning\n",
      "byg132DatoForDispensationFritagelseIftKollektivVarmeforsyning\n",
      "byg133KildeTilKoordinatsæt\n",
      "byg134KvalitetAfKoordinatsæt\n",
      "byg135SupplerendeOplysningOmKoordinatsæt\n",
      "byg136PlaceringPåSøterritorie\n",
      "byg137BanedanmarkBygværksnummer\n",
      "byg301TypeAfFlytning\n",
      "byg302Tilflytterkommune\n",
      "byg403ØvrigeBemærkningerFraStormrådet\n",
      "byg404Koordinat\n",
      "byg406Koordinatsystem\n",
      "byg500Notatlinjer\n",
      "byg150Gulvbelægning\n",
      "byg151Frihøjde\n",
      "byg152ÅbenLukketKonstruktion\n",
      "byg153Konstruktionsforhold\n",
      "byg140ServitutForUdlejningsEjendomDato\n",
      "jordstykke\n",
      "husnummer\n",
      "ejerlejlighed\n",
      "grund\n"
     ]
    }
   ],
   "source": [
    "jsondata = open(jsonfile, encoding='utf8')\n",
    "buildings = ijson.kvitems(jsondata, 'BygningList.item')\n",
    "l=list()\n",
    "for param, value in buildings:\n",
    "    if param in l:\n",
    "        for p in l:\n",
    "            print(p)\n",
    "        break\n",
    "    else:\n",
    "        l.append(param)"
   ]
  },
  {
   "cell_type": "markdown",
   "id": "c66a8c83",
   "metadata": {},
   "source": [
    "The following function will print all BBR parameters for floors (for information):"
   ]
  },
  {
   "cell_type": "code",
   "execution_count": 6,
   "id": "f5b9da7b",
   "metadata": {},
   "outputs": [
    {
     "name": "stdout",
     "output_type": "stream",
     "text": [
      "forretningshændelse\n",
      "forretningsområde\n",
      "forretningsproces\n",
      "id_namespace\n",
      "id_lokalId\n",
      "kommunekode\n",
      "registreringFra\n",
      "registreringsaktør\n",
      "registreringTil\n",
      "virkningFra\n",
      "virkningsaktør\n",
      "virkningTil\n",
      "status\n",
      "eta006BygningensEtagebetegnelse\n",
      "eta020SamletArealAfEtage\n",
      "eta021ArealAfUdnyttetDelAfTagetage\n",
      "eta022Kælderareal\n",
      "eta023ArealAfLovligBeboelseIKælder\n",
      "eta024EtagensAdgangsareal\n",
      "eta025Etagetype\n",
      "eta026ErhvervIKælder\n",
      "eta500Notatlinjer\n",
      "bygning\n"
     ]
    }
   ],
   "source": [
    "jsondata = open(jsonfile, encoding='utf8')\n",
    "floors = ijson.kvitems(jsondata, 'EtageList.item')\n",
    "l=list()\n",
    "for param, value in floors:\n",
    "    if param in l:\n",
    "        for p in l:\n",
    "            print(p)\n",
    "        break\n",
    "    else:\n",
    "        l.append(param)"
   ]
  }
 ],
 "metadata": {
  "kernelspec": {
   "display_name": "Python 3 (ipykernel)",
   "language": "python",
   "name": "python3"
  },
  "language_info": {
   "codemirror_mode": {
    "name": "ipython",
    "version": 3
   },
   "file_extension": ".py",
   "mimetype": "text/x-python",
   "name": "python",
   "nbconvert_exporter": "python",
   "pygments_lexer": "ipython3",
   "version": "3.9.12"
  }
 },
 "nbformat": 4,
 "nbformat_minor": 5
}
