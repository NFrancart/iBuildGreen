{
 "cells": [
  {
   "cell_type": "markdown",
   "id": "7588959b",
   "metadata": {},
   "source": [
    "# Calculating total material amounts"
   ]
  },
  {
   "cell_type": "markdown",
   "id": "70a65a39",
   "metadata": {},
   "source": [
    "This notebook shows how to calculate material amounts for each building or for the entire building stock, based on the iBuildGreen database. So far, we have associated buildings with macrocomponents, and macrocomponents with LCAbyg constructions and products. We know what component goes in what building, but we haven't quantified anything yet. This notebook is about dimensioning components and quantifying material amounts"
   ]
  },
  {
   "cell_type": "markdown",
   "id": "35a3a338",
   "metadata": {},
   "source": [
    "# Setup"
   ]
  },
  {
   "cell_type": "code",
   "execution_count": null,
   "id": "684ba46c",
   "metadata": {},
   "outputs": [],
   "source": [
    "import psycopg as pg\n",
    "import pandas as pd"
   ]
  },
  {
   "cell_type": "code",
   "execution_count": null,
   "id": "8355cf4e",
   "metadata": {},
   "outputs": [],
   "source": [
    "with open('database_parameters.txt','r') as f: # Text file containing parameters to connect to the database\n",
    "    params=f.read()\n",
    "    f.close()"
   ]
  },
  {
   "cell_type": "markdown",
   "id": "76a53ebe",
   "metadata": {},
   "source": [
    "The following generic function is used to compute SQL code in Python and interact with the PostgresQL database:"
   ]
  },
  {
   "cell_type": "code",
   "execution_count": null,
   "id": "0d505e1d",
   "metadata": {},
   "outputs": [],
   "source": [
    "def run_sql (DBparameters,SQLcode):\n",
    "    try:\n",
    "        # connect to the PostgreSQL database\n",
    "        connector = pg.connect(DBparameters)\n",
    "\n",
    "        # create a new cursor\n",
    "        cur = connector.cursor()\n",
    "\n",
    "        # execute the SQL statement\n",
    "        cur.execute(SQLcode)\n",
    "\n",
    "        # commit the changes to the database\n",
    "        connector.commit()\n",
    "\n",
    "        # close communication with the database\n",
    "        cur.close()\n",
    "\n",
    "    except (Exception, pg.DatabaseError) as error:\n",
    "        print(error)\n",
    "\n",
    "    finally:\n",
    "        if connector is not None:\n",
    "            connector.close()"
   ]
  },
  {
   "cell_type": "markdown",
   "id": "7d92a776",
   "metadata": {},
   "source": [
    "## Global dimensioning parameters"
   ]
  },
  {
   "cell_type": "markdown",
   "id": "ab2ff4b8",
   "metadata": {},
   "source": [
    "The parameters below are used in a first run of the model to estimate building dimensions (floor height, perimeter, etc) as we do not have precise information on building geometry at this stage."
   ]
  },
  {
   "cell_type": "code",
   "execution_count": null,
   "id": "b12698fb",
   "metadata": {},
   "outputs": [],
   "source": [
    "FloorHeight = 3.5 # Average distance between floors of two consecutive storeys (i.e. including the thickness of floor slabs)"
   ]
  },
  {
   "cell_type": "code",
   "execution_count": null,
   "id": "4ac060a8",
   "metadata": {},
   "outputs": [],
   "source": [
    "WindowWallRatio = 0.2 # Window-to-wall ratio"
   ]
  },
  {
   "cell_type": "markdown",
   "id": "dec4aea3",
   "metadata": {},
   "source": [
    "We define a space efficiency factor as the ratio between the building's actual length, and its length if the building had been square, with the same floor area."
   ]
  },
  {
   "cell_type": "code",
   "execution_count": null,
   "id": "c314e15d",
   "metadata": {},
   "outputs": [],
   "source": [
    "SEF = 1.2 "
   ]
  },
  {
   "cell_type": "markdown",
   "id": "503b39a9",
   "metadata": {},
   "source": [
    "We also define an SQL snippet to estimate the building's perimeter based on the floor area and space efficiency factor. The perimeter will be used primarily to dimension external walls and windows. At this stage, the code does not handle well buildings that have floors of different sizes. Therefore, we approximate the perimeter using the total floor area divided by the number of floors, instead of using the footprint. For instance, if the building has a 600 m2 ground floor and a 200 m2 first floor, it will be treated as having two 400 m2 floors for the purpose of dimensioning the walls (otherwise, if we used the footprint, the dimensioning function later on would multiply 600 m2 by the number of floors and overestimate the size of the building)."
   ]
  },
  {
   "cell_type": "markdown",
   "id": "94c3c3e4",
   "metadata": {},
   "source": [
    "This could be improved later on by using BBR data about Etages (building floors). This requires importing and working with a completely different object, and linking Etages with Buildings, which entails a significant amount of work."
   ]
  },
  {
   "cell_type": "markdown",
   "id": "740c8284",
   "metadata": {},
   "source": [
    "There are cases where the building's total floor area is missing. In such cases, the building is assumed to have one storey and a floor area equal to the footprint. This is implemented in the SQL snippet using the COALESCE function. COALESCE returns its first argument if the argument is not NULL, or its second argument otherwise."
   ]
  },
  {
   "cell_type": "code",
   "execution_count": null,
   "id": "8a61fed7",
   "metadata": {},
   "outputs": [],
   "source": [
    "get_perimeter_sql=f\"SELECT (CASE WHEN (b.byg054AntalEtager IS NULL OR b.byg054AntalEtager = 0) THEN SQRT(b.byg041BebyggetAreal)*2*(%s+1/%s) ELSE SQRT(b.byg038SamletBygningsareal/b.byg054AntalEtager)*2*(%s+1/%s) END) as perimeter\" % (SEF,SEF,SEF,SEF) #Rough approximation if the building has storeys of different sizes"
   ]
  },
  {
   "cell_type": "markdown",
   "id": "60cefae8",
   "metadata": {},
   "source": [
    "## Estimating the surface of internal walls"
   ]
  },
  {
   "cell_type": "markdown",
   "id": "e6c77958",
   "metadata": {},
   "source": [
    "As we do not have any information on internal walls from the BBR database, we must first estimate the surface of internal walls. This first version of the model uses dimensioning functions for French buildings developed by Adélaide Mailhac (Mailhac,  A. Contribution au Développement d’une Méthodologie D’évaluation Environnementale aux Echelles Urbaines, Université de Toulouse. 2019. Available online:  https://tel.archives-ouvertes.fr/tel-02889301v2/document). </br> This might entail errors due to architectural differences between Danish and French buildings."
   ]
  },
  {
   "cell_type": "markdown",
   "id": "6ee452c8",
   "metadata": {},
   "source": [
    "The surfaces of load-bearing and non-load-bearing internal walls are estimated separately based on the building's use type and its floor area. These estimated surfaces are reported in separate columns in the buildings table. First, we write SQL statements to estimate wall surfaces:"
   ]
  },
  {
   "cell_type": "code",
   "execution_count": null,
   "id": "e42cc5af",
   "metadata": {},
   "outputs": [],
   "source": [
    "fill_int_walls_lb=\"\"\"\n",
    "WITH iws AS (\n",
    "SELECT\n",
    "b.id_lokalId AS bbrid,\n",
    "intwallsurface\n",
    "FROM buildings b,\n",
    "LATERAL (SELECT b.byg021BygningensAnvendelse::int4 AS use_code) lt1,\n",
    "LATERAL (SELECT COALESCE(b.byg038SamletBygningsareal,b.byg041BebyggetAreal) AS floor_area) lt2,\n",
    "LATERAL (SELECT \n",
    "         (CASE \n",
    "    WHEN use_code IN (110, 120, 121, 122, 130, 131, 132, 325, 510, 520, 521, 522, 523, 529, 530, 540, 585, 590)\n",
    "        THEN 0.222 * floor_area \n",
    "    WHEN use_code IN (140, 150, 160, 185, 190, 320, 321, 322, 324, 329, 390, 410, 411, 412, 413, 414, 415, 419, 531, 532, 533, 534, 539)\n",
    "        THEN floor_area * (0.4063 + 0.00003489 * floor_area)\n",
    "    WHEN use_code <@ int4range(420,490)\n",
    "        THEN floor_area * (0.4063 + 0.00003489 * floor_area)\n",
    "    WHEN use_code <@ int4range(210,319)\n",
    "        THEN floor_area*0.1\n",
    "    WHEN use_code IN (323, 416,535)\n",
    "        THEN floor_area*0.1\n",
    "    ELSE NULL\n",
    "          END) AS intwallsurface) lt\n",
    ")\n",
    "\n",
    "INSERT INTO buildings (id_lokalId,int_wall_surface_lb)\n",
    "SELECT bbrid, intwallsurface FROM iws\n",
    "ON CONFLICT ON CONSTRAINT buildings_pkey DO UPDATE SET (id_lokalId,int_wall_surface_lb) = (EXCLUDED.id_lokalId,EXCLUDED.int_wall_surface_lb)\"\"\""
   ]
  },
  {
   "cell_type": "markdown",
   "id": "83a97d74",
   "metadata": {},
   "source": [
    "The dimensioning of non-load-bearing internal walls uses a compacity index \"icomp\", calculated using the building's external surface (surface of external walls and roof) and its volume."
   ]
  },
  {
   "cell_type": "code",
   "execution_count": null,
   "id": "8951ee56",
   "metadata": {},
   "outputs": [],
   "source": [
    "fill_int_walls_nlb=\"\"\"\n",
    "WITH iws AS (\n",
    "SELECT\n",
    "b.id_lokalId AS bbrid,\n",
    "intwallsurface\n",
    "FROM buildings b,\n",
    "LATERAL (SELECT b.byg021BygningensAnvendelse::int4 AS use_code) lt1,\n",
    "LATERAL (SELECT COALESCE(b.byg038SamletBygningsareal,b.byg041BebyggetAreal) AS floor_area) lt2,\n",
    "LATERAL (SELECT %s*floor_area AS volume) lt3,\n",
    "LATERAL (%s) lt4,\n",
    "LATERAL (SELECT (CASE WHEN (b.byg054AntalEtager IS NULL OR b.byg054AntalEtager = 0) THEN b.byg041BebyggetAreal+perimeter*%s ELSE b.byg041BebyggetAreal+perimeter*b.byg054AntalEtager*%s END) AS external_surface) lt5,\n",
    "LATERAL (SELECT (CASE WHEN volume<=0 THEN NULL ELSE external_surface/POWER(volume,0.666667) END) AS icomp) lt6,\n",
    "    LATERAL (SELECT \n",
    "         (CASE \n",
    "    WHEN use_code IN (110, 120, 121, 122, 130, 131, 132, 325, 510, 520, 521, 522, 523, 529, 530, 540, 585, 590)\n",
    "        THEN 0.37 * floor_area \n",
    "    WHEN use_code IN (140, 150, 160, 185, 190, 320, 321, 322, 324, 329, 390, 410, 411, 412, 413, 414, 415, 419, 531, 532, 533, 534, 539)\n",
    "        THEN floor_area * (0.1803 + 0.0883 * icomp)\n",
    "    WHEN use_code <@ int4range(420,490)\n",
    "        THEN floor_area * (0.1803 + 0.0883 * icomp)\n",
    "    WHEN use_code <@ int4range(210,319)\n",
    "        THEN floor_area*0.15\n",
    "    WHEN use_code IN (323, 416,535)\n",
    "        THEN floor_area*0.15\n",
    "    ELSE NULL\n",
    "          END) AS intwallsurface) lt\n",
    ")\n",
    "\n",
    "INSERT INTO buildings (id_lokalId,int_wall_surface_nlb)\n",
    "SELECT bbrid, intwallsurface FROM iws\n",
    "ON CONFLICT ON CONSTRAINT buildings_pkey DO UPDATE SET (id_lokalId,int_wall_surface_nlb) = (EXCLUDED.id_lokalId,EXCLUDED.int_wall_surface_nlb)\n",
    "\"\"\" % (FloorHeight,get_perimeter_sql,FloorHeight,FloorHeight)"
   ]
  },
  {
   "cell_type": "markdown",
   "id": "e01157d4",
   "metadata": {},
   "source": [
    "Then, we compute these SQL statements and insert values for internal wall surfaces in the database."
   ]
  },
  {
   "cell_type": "code",
   "execution_count": null,
   "id": "65296699",
   "metadata": {},
   "outputs": [],
   "source": [
    "run_sql(params,fill_int_walls_lb)"
   ]
  },
  {
   "cell_type": "code",
   "execution_count": null,
   "id": "c7806924",
   "metadata": {},
   "outputs": [],
   "source": [
    "run_sql(params,fill_int_walls_nlb)"
   ]
  },
  {
   "cell_type": "markdown",
   "id": "d4ad37cc",
   "metadata": {},
   "source": [
    "# Getting material amounts for all elements"
   ]
  },
  {
   "cell_type": "markdown",
   "id": "e329ecec",
   "metadata": {},
   "source": [
    "This section shows how to quantify material amounts for all components of all buildings in the database. These results are reported in the \"results_material_amounts\" table in the database. "
   ]
  },
  {
   "cell_type": "markdown",
   "id": "18d3f315",
   "metadata": {},
   "source": [
    "First, we define SQL queries to computes material amounts for each type of component in each building."
   ]
  },
  {
   "cell_type": "code",
   "execution_count": null,
   "id": "6d840d1e",
   "metadata": {},
   "outputs": [],
   "source": [
    "result_ext_wall_sql=\"\"\"\n",
    "WITH quant_table AS\n",
    "(SELECT \n",
    "    b.id_lokalId bbrid,\n",
    "    pr.name product,\n",
    "    amount_product,\n",
    "    pmap.unit unit\n",
    "FROM buildings b\n",
    "INNER JOIN buildings_to_ext_walls bmap\n",
    "    ON b.id_lokalId = bmap.bbr_id\n",
    "INNER JOIN ext_wall_types typ\n",
    "    ON bmap.ext_wall_id=typ.id\n",
    "INNER JOIN ext_walls_to_subcomponents submap\n",
    "    ON typ.id = submap.ext_wall_id\n",
    "INNER JOIN subcomponents sc\n",
    "    ON sc.lcabyg_id = submap.subcomponent_id\n",
    "INNER JOIN subcomponents_to_products pmap\n",
    "    ON pmap.subcomponent_id = sc.lcabyg_id\n",
    "INNER JOIN products pr\n",
    "    ON pr.lcabyg_id = pmap.product_id,\n",
    "LATERAL (%s) ltp,\n",
    "LATERAL (SELECT (CASE WHEN (b.byg054AntalEtager IS NOT NULL AND b.byg054AntalEtager > 0) THEN perimeter*b.byg054AntalEtager*%s*(1-%s)*pmap.amount ELSE perimeter*%s*(1-%s)*pmap.amount END) AS amount_product) lta)\n",
    "\n",
    "INSERT INTO results_material_amounts(element, product, amount, unit, bbr_id)\n",
    "SELECT 'ext_wall', product, amount_product, unit, bbrid\n",
    "FROM quant_table\n",
    "\"\"\" % (get_perimeter_sql, FloorHeight, WindowWallRatio, FloorHeight, WindowWallRatio)"
   ]
  },
  {
   "cell_type": "code",
   "execution_count": null,
   "id": "08bc3312",
   "metadata": {},
   "outputs": [],
   "source": [
    "result_window_sql=\"\"\"\n",
    "WITH quant_table AS\n",
    "(SELECT \n",
    "    b.id_lokalId bbrid,\n",
    "    pr.name product,\n",
    "    amount_product,\n",
    "    pmap.unit unit\n",
    "FROM buildings b\n",
    "INNER JOIN subcomponents sc ON sc.name = 'Window - iBuildGreen'\n",
    "INNER JOIN subcomponents_to_products pmap\n",
    "    ON pmap.subcomponent_id = sc.lcabyg_id\n",
    "INNER JOIN products pr\n",
    "    ON pr.lcabyg_id = pmap.product_id,\n",
    "LATERAL (%s) ltp,\n",
    "LATERAL (SELECT (CASE WHEN (b.byg054AntalEtager IS NOT NULL AND b.byg054AntalEtager > 0) THEN perimeter*b.byg054AntalEtager*%s*%s*pmap.amount ELSE perimeter*%s*%s*pmap.amount END) AS amount_product) lta)\n",
    "\n",
    "INSERT INTO results_material_amounts(element, product, amount, unit, bbr_id)\n",
    "SELECT 'window', product, amount_product, unit, bbrid\n",
    "FROM quant_table\n",
    "\"\"\" % (get_perimeter_sql, FloorHeight, WindowWallRatio, FloorHeight, WindowWallRatio)"
   ]
  },
  {
   "cell_type": "code",
   "execution_count": null,
   "id": "034910b4",
   "metadata": {},
   "outputs": [],
   "source": [
    "result_int_wall_sql=\"\"\"WITH quant_table AS\n",
    "(SELECT \n",
    "    b.id_lokalId bbrid,\n",
    "    pr.name product,\n",
    "    amount_product,\n",
    "    pmap.unit unit\n",
    "FROM buildings b\n",
    "INNER JOIN buildings_to_int_walls bmap\n",
    "    ON b.id_lokalId = bmap.bbr_id\n",
    "INNER JOIN int_wall_types typ\n",
    "    ON bmap.int_wall_id=typ.id\n",
    "INNER JOIN int_walls_to_subcomponents submap\n",
    "    ON typ.id = submap.int_wall_id\n",
    "INNER JOIN subcomponents sc\n",
    "    ON sc.lcabyg_id = submap.subcomponent_id\n",
    "INNER JOIN subcomponents_to_products pmap\n",
    "    ON pmap.subcomponent_id = sc.lcabyg_id\n",
    "INNER JOIN products pr\n",
    "    ON pr.lcabyg_id = pmap.product_id,\n",
    "LATERAL (SELECT (b.int_wall_surface_nlb+b.int_wall_surface_lb)*pmap.amount AS amount_product) lta)\n",
    "\n",
    "INSERT INTO results_material_amounts(element,product,amount,unit, bbr_id)\n",
    "SELECT 'int_wall',product,amount_product, unit, bbrid\n",
    "FROM quant_table\n",
    "\"\"\""
   ]
  },
  {
   "cell_type": "code",
   "execution_count": null,
   "id": "ff740c6d",
   "metadata": {},
   "outputs": [],
   "source": [
    "result_roof_cover_sql=\"\"\"WITH quant_table AS\n",
    "(SELECT \n",
    "    b.id_lokalId bbrid,\n",
    "    pr.name product,\n",
    "    amount_product,\n",
    "    pmap.unit unit\n",
    "FROM buildings b\n",
    "INNER JOIN buildings_to_roof_covers bmap\n",
    "    ON b.id_lokalId = bmap.bbr_id\n",
    "INNER JOIN roof_cover_types typ\n",
    "    ON bmap.roof_cover_id=typ.id\n",
    "INNER JOIN roof_covers_to_subcomponents submap\n",
    "    ON typ.id = submap.roof_cover_id\n",
    "INNER JOIN subcomponents sc\n",
    "    ON sc.lcabyg_id = submap.subcomponent_id\n",
    "INNER JOIN subcomponents_to_products pmap\n",
    "    ON pmap.subcomponent_id = sc.lcabyg_id\n",
    "INNER JOIN products pr\n",
    "    ON pr.lcabyg_id = pmap.product_id,\n",
    "LATERAL (SELECT b.byg041BebyggetAreal/COS(b.roof_pitch*PI()*180) AS roof_surface) lt1,\n",
    "LATERAL (SELECT roof_surface*pmap.amount AS amount_product) lt2)\n",
    "\n",
    "INSERT INTO results_material_amounts(element,product,amount,unit, bbr_id)\n",
    "SELECT 'roof_cover',product,amount_product, unit, bbrid\n",
    "FROM quant_table\n",
    "\"\"\""
   ]
  },
  {
   "cell_type": "code",
   "execution_count": null,
   "id": "294eced4",
   "metadata": {},
   "outputs": [],
   "source": [
    "result_roof_structure_sql=\"\"\"WITH quant_table AS\n",
    "(SELECT \n",
    "    b.id_lokalId bbrid,\n",
    "    pr.name product,\n",
    "    amount_product,\n",
    "    pmap.unit unit\n",
    "FROM buildings b\n",
    "INNER JOIN buildings_to_roof_structures bmap\n",
    "    ON b.id_lokalId = bmap.bbr_id\n",
    "INNER JOIN roof_structure_types typ\n",
    "    ON bmap.roof_structure_id=typ.id\n",
    "INNER JOIN roof_structures_to_subcomponents submap\n",
    "    ON typ.id = submap.roof_structure_id\n",
    "INNER JOIN subcomponents sc\n",
    "    ON sc.lcabyg_id = submap.subcomponent_id\n",
    "INNER JOIN subcomponents_to_products pmap\n",
    "    ON pmap.subcomponent_id = sc.lcabyg_id\n",
    "INNER JOIN products pr\n",
    "    ON pr.lcabyg_id = pmap.product_id,\n",
    "LATERAL (SELECT b.byg041BebyggetAreal/COS(b.roof_pitch*PI()*180) AS roof_surface) lt1,\n",
    "LATERAL (SELECT roof_surface*pmap.amount AS amount_product) lt2\n",
    "WHERE typ.name NOT IN ('Ridge board', 'Top floor ceiling'))\n",
    "\n",
    "INSERT INTO results_material_amounts(element,product,amount,unit, bbr_id)\n",
    "SELECT 'roof_structure',product,amount_product, unit, bbrid\n",
    "FROM quant_table\n",
    "\"\"\""
   ]
  },
  {
   "cell_type": "code",
   "execution_count": null,
   "id": "21e1c46f",
   "metadata": {},
   "outputs": [],
   "source": [
    "result_floor_sql=\"\"\"WITH quant_table AS\n",
    "(SELECT \n",
    "    b.id_lokalId bbrid,\n",
    "    pr.name product,\n",
    "    amount_product,\n",
    "    pmap.unit unit\n",
    "FROM buildings b\n",
    "INNER JOIN buildings_to_floors bmap\n",
    "    ON b.id_lokalId = bmap.bbr_id\n",
    "INNER JOIN floor_types typ\n",
    "    ON bmap.floor_id=typ.id\n",
    "INNER JOIN floors_to_subcomponents submap\n",
    "    ON typ.id = submap.floor_id\n",
    "INNER JOIN subcomponents sc\n",
    "    ON sc.lcabyg_id = submap.subcomponent_id\n",
    "INNER JOIN subcomponents_to_products pmap\n",
    "    ON pmap.subcomponent_id = sc.lcabyg_id\n",
    "INNER JOIN products pr\n",
    "    ON pr.lcabyg_id = pmap.product_id,\n",
    "LATERAL (SELECT (CASE WHEN (b.byg054AntalEtager IS NOT NULL AND b.byg054AntalEtager > 0) THEN b.byg041BebyggetAreal*(b.byg054AntalEtager-1)*pmap.amount ELSE 0 END) AS amount_product) lta)\n",
    "\n",
    "INSERT INTO results_material_amounts(element,product,amount,unit, bbr_id)\n",
    "SELECT 'floor',product,amount_product, unit, bbrid\n",
    "FROM quant_table\n",
    "\"\"\""
   ]
  },
  {
   "cell_type": "code",
   "execution_count": null,
   "id": "83a53feb",
   "metadata": {},
   "outputs": [],
   "source": [
    "result_foundation_sql=\"\"\"WITH quant_table AS\n",
    "(SELECT \n",
    "    b.id_lokalId bbrid,\n",
    "    pr.name product,\n",
    "    amount_product,\n",
    "    pmap.unit unit\n",
    "FROM buildings b\n",
    "INNER JOIN buildings_to_foundations bmap\n",
    "    ON b.id_lokalId = bmap.bbr_id\n",
    "INNER JOIN foundation_types typ\n",
    "    ON bmap.foundation_id=typ.id\n",
    "INNER JOIN foundations_to_subcomponents submap\n",
    "    ON typ.id = submap.foundation_id\n",
    "INNER JOIN subcomponents sc\n",
    "    ON sc.lcabyg_id = submap.subcomponent_id\n",
    "INNER JOIN subcomponents_to_products pmap\n",
    "    ON pmap.subcomponent_id = sc.lcabyg_id\n",
    "INNER JOIN products pr\n",
    "    ON pr.lcabyg_id = pmap.product_id,\n",
    "LATERAL (SELECT b.byg041BebyggetAreal*pmap.amount AS amount_product) lta)\n",
    "\n",
    "INSERT INTO results_material_amounts(element,product,amount,unit, bbr_id)\n",
    "SELECT 'foundation',product,amount_product, unit, bbrid\n",
    "FROM quant_table\n",
    "\"\"\""
   ]
  },
  {
   "cell_type": "code",
   "execution_count": null,
   "id": "5b090717",
   "metadata": {},
   "outputs": [],
   "source": [
    "result_ridge_board_sql=\"\"\"WITH quant_table AS\n",
    "(SELECT \n",
    "    b.id_lokalId bbrid,\n",
    "    pr.name product,\n",
    "    amount_product,\n",
    "    pmap.unit unit\n",
    "FROM buildings b\n",
    "INNER JOIN buildings_to_roof_structures bmap\n",
    "    ON b.id_lokalId = bmap.bbr_id\n",
    "INNER JOIN roof_structure_types typ\n",
    "    ON bmap.roof_structure_id=typ.id\n",
    "INNER JOIN roof_structures_to_subcomponents submap\n",
    "    ON typ.id = submap.roof_structure_id\n",
    "INNER JOIN subcomponents sc\n",
    "    ON sc.lcabyg_id = submap.subcomponent_id\n",
    "INNER JOIN subcomponents_to_products pmap\n",
    "    ON pmap.subcomponent_id = sc.lcabyg_id\n",
    "INNER JOIN products pr\n",
    "    ON pr.lcabyg_id = pmap.product_id,\n",
    "LATERAL (SELECT SQRT(b.byg041BebyggetAreal)*%s AS beam_length) lt1,\n",
    "LATERAL (SELECT beam_length*pmap.amount AS amount_product) lt2\n",
    "WHERE typ.name = 'Ridge board')\n",
    "\n",
    "INSERT INTO results_material_amounts(element,product,amount,unit, bbr_id)\n",
    "SELECT 'ridge_board',product,amount_product, unit, bbrid\n",
    "FROM quant_table\n",
    "\"\"\" % SEF"
   ]
  },
  {
   "cell_type": "code",
   "execution_count": null,
   "id": "e3e002c9",
   "metadata": {},
   "outputs": [],
   "source": [
    "result_top_ceiling_sql=\"\"\"WITH quant_table AS\n",
    "(SELECT \n",
    "    b.id_lokalId bbrid,\n",
    "    pr.name product,\n",
    "    amount_product,\n",
    "    pmap.unit unit\n",
    "FROM buildings b\n",
    "INNER JOIN buildings_to_roof_structures bmap\n",
    "    ON b.id_lokalId = bmap.bbr_id\n",
    "INNER JOIN roof_structure_types typ\n",
    "    ON bmap.roof_structure_id=typ.id\n",
    "INNER JOIN roof_structures_to_subcomponents submap\n",
    "    ON typ.id = submap.roof_structure_id\n",
    "INNER JOIN subcomponents sc\n",
    "    ON sc.lcabyg_id = submap.subcomponent_id\n",
    "INNER JOIN subcomponents_to_products pmap\n",
    "    ON pmap.subcomponent_id = sc.lcabyg_id\n",
    "INNER JOIN products pr\n",
    "    ON pr.lcabyg_id = pmap.product_id,\n",
    "LATERAL (SELECT b.byg041BebyggetAreal*pmap.amount AS amount_product) lta\n",
    "WHERE typ.name = 'Top floor ceiling')\n",
    "\n",
    "INSERT INTO results_material_amounts(element,product,amount,unit, bbr_id)\n",
    "SELECT 'top_floor_ceiling',product,amount_product, unit, bbrid\n",
    "FROM quant_table\n",
    "\"\"\""
   ]
  },
  {
   "cell_type": "code",
   "execution_count": null,
   "id": "88dd36f3",
   "metadata": {},
   "outputs": [],
   "source": [
    "result_ground_slab_sql=\"\"\"WITH quant_table AS\n",
    "(SELECT \n",
    "    b.id_lokalId bbrid,\n",
    "    pr.name product,\n",
    "    amount_product,\n",
    "    pmap.unit unit\n",
    "FROM buildings b\n",
    "INNER JOIN buildings_to_ground_slabs bmap\n",
    "    ON b.id_lokalId = bmap.bbr_id\n",
    "INNER JOIN ground_slab_types typ\n",
    "    ON bmap.ground_slab_id=typ.id\n",
    "INNER JOIN ground_slabs_to_subcomponents submap\n",
    "    ON typ.id = submap.ground_slab_id\n",
    "INNER JOIN subcomponents sc\n",
    "    ON sc.lcabyg_id = submap.subcomponent_id\n",
    "INNER JOIN subcomponents_to_products pmap\n",
    "    ON pmap.subcomponent_id = sc.lcabyg_id\n",
    "INNER JOIN products pr\n",
    "    ON pr.lcabyg_id = pmap.product_id,\n",
    "LATERAL (SELECT b.byg041BebyggetAreal*pmap.amount AS amount_product) lta)\n",
    "\n",
    "INSERT INTO results_material_amounts(element,product,amount,unit, bbr_id)\n",
    "SELECT 'ground_slab',product,amount_product, unit, bbrid\n",
    "FROM quant_table\n",
    "\"\"\""
   ]
  },
  {
   "cell_type": "code",
   "execution_count": null,
   "id": "88ec9868",
   "metadata": {},
   "outputs": [],
   "source": [
    "run_sql(params,\"DELETE FROM results_material_amounts\")"
   ]
  },
  {
   "cell_type": "code",
   "execution_count": null,
   "id": "6d8aa0d0",
   "metadata": {},
   "outputs": [],
   "source": [
    "run_sql(params,result_ext_wall_sql)"
   ]
  },
  {
   "cell_type": "code",
   "execution_count": null,
   "id": "3d27fa88",
   "metadata": {},
   "outputs": [],
   "source": [
    "run_sql(params,result_int_wall_sql)"
   ]
  },
  {
   "cell_type": "code",
   "execution_count": null,
   "id": "f8158193",
   "metadata": {},
   "outputs": [],
   "source": [
    "run_sql(params,result_roof_structure_sql)"
   ]
  },
  {
   "cell_type": "code",
   "execution_count": null,
   "id": "3f10818a",
   "metadata": {},
   "outputs": [],
   "source": [
    "run_sql(params,result_roof_cover_sql)"
   ]
  },
  {
   "cell_type": "code",
   "execution_count": null,
   "id": "7453bb12",
   "metadata": {},
   "outputs": [],
   "source": [
    "run_sql(params,result_floor_sql)"
   ]
  },
  {
   "cell_type": "code",
   "execution_count": null,
   "id": "c53e7708",
   "metadata": {},
   "outputs": [],
   "source": [
    "run_sql(params,result_foundation_sql)"
   ]
  },
  {
   "cell_type": "code",
   "execution_count": null,
   "id": "050ff317",
   "metadata": {},
   "outputs": [],
   "source": [
    "run_sql(params,result_ridge_board_sql)"
   ]
  },
  {
   "cell_type": "code",
   "execution_count": null,
   "id": "25cc5048",
   "metadata": {},
   "outputs": [],
   "source": [
    "run_sql(params,result_window_sql)"
   ]
  },
  {
   "cell_type": "code",
   "execution_count": null,
   "id": "8645fffb",
   "metadata": {},
   "outputs": [],
   "source": [
    "run_sql(params,result_top_ceiling_sql)"
   ]
  },
  {
   "cell_type": "code",
   "execution_count": null,
   "id": "2f5555c2",
   "metadata": {},
   "outputs": [],
   "source": [
    "run_sql(params,result_ground_slab_sql)"
   ]
  },
  {
   "cell_type": "markdown",
   "id": "a82d54ca",
   "metadata": {},
   "source": [
    "Alternatively, we can define SQL queries to directly compute the total amounts of each material for each building. The results are stored in the \"tot_materials_amounts\" table."
   ]
  },
  {
   "cell_type": "code",
   "execution_count": null,
   "id": "a6ebbaa2",
   "metadata": {},
   "outputs": [],
   "source": [
    "tot_ext_wall_sql=\"\"\"\n",
    "WITH quant_table AS\n",
    "(SELECT \n",
    "    pr.name product,\n",
    "    amount_product,\n",
    "    pmap.unit unit\n",
    "FROM buildings b\n",
    "INNER JOIN buildings_to_ext_walls bmap\n",
    "    ON b.id_lokalId = bmap.bbr_id\n",
    "INNER JOIN ext_wall_types typ\n",
    "    ON bmap.ext_wall_id=typ.id\n",
    "INNER JOIN ext_walls_to_subcomponents submap\n",
    "    ON typ.id = submap.ext_wall_id\n",
    "INNER JOIN subcomponents sc\n",
    "    ON sc.lcabyg_id = submap.subcomponent_id\n",
    "INNER JOIN subcomponents_to_products pmap\n",
    "    ON pmap.subcomponent_id = sc.lcabyg_id\n",
    "INNER JOIN products pr\n",
    "    ON pr.lcabyg_id = pmap.product_id,\n",
    "LATERAL (%s) ltp,\n",
    "LATERAL (SELECT (CASE WHEN (b.byg054AntalEtager IS NOT NULL AND b.byg054AntalEtager > 0) THEN perimeter*b.byg054AntalEtager*%s*(1-%s)*pmap.amount ELSE perimeter*%s*(1-%s)*pmap.amount END) AS amount_product) lta)\n",
    "\n",
    "INSERT INTO tot_material_amounts(element, product, amount, unit)\n",
    "SELECT 'ext_wall', product, SUM(amount_product), unit\n",
    "FROM quant_table\n",
    "GROUP BY product, unit\"\"\" % (get_perimeter_sql, FloorHeight, WindowWallRatio, FloorHeight, WindowWallRatio)"
   ]
  },
  {
   "cell_type": "code",
   "execution_count": null,
   "id": "91722f64",
   "metadata": {},
   "outputs": [],
   "source": [
    "tot_window_sql=\"\"\"\n",
    "WITH quant_table AS\n",
    "(SELECT \n",
    "    pr.name product,\n",
    "    amount_product,\n",
    "    pmap.unit unit\n",
    "FROM buildings b\n",
    "INNER JOIN subcomponents sc ON sc.name = 'Window - iBuildGreen'\n",
    "INNER JOIN subcomponents_to_products pmap\n",
    "    ON pmap.subcomponent_id = sc.lcabyg_id\n",
    "INNER JOIN products pr\n",
    "    ON pr.lcabyg_id = pmap.product_id,\n",
    "LATERAL (%s) ltp,\n",
    "LATERAL (SELECT (CASE WHEN (b.byg054AntalEtager IS NOT NULL AND b.byg054AntalEtager > 0) THEN perimeter*b.byg054AntalEtager*%s*%s*pmap.amount ELSE perimeter*%s*%s*pmap.amount END) AS amount_product) lta)\n",
    "\n",
    "INSERT INTO tot_material_amounts(element, product, amount, unit)\n",
    "SELECT 'window', product, SUM(amount_product), unit\n",
    "FROM quant_table\n",
    "GROUP BY product, unit\"\"\" % (get_perimeter_sql, FloorHeight, WindowWallRatio, FloorHeight, WindowWallRatio)"
   ]
  },
  {
   "cell_type": "code",
   "execution_count": null,
   "id": "d33a3cf6",
   "metadata": {},
   "outputs": [],
   "source": [
    "tot_int_wall_sql=\"\"\"WITH quant_table AS\n",
    "(SELECT \n",
    "    pr.name product,\n",
    "    amount_product,\n",
    "    pmap.unit unit\n",
    "FROM buildings b\n",
    "INNER JOIN buildings_to_int_walls bmap\n",
    "    ON b.id_lokalId = bmap.bbr_id\n",
    "INNER JOIN int_wall_types typ\n",
    "    ON bmap.int_wall_id=typ.id\n",
    "INNER JOIN int_walls_to_subcomponents submap\n",
    "    ON typ.id = submap.int_wall_id\n",
    "INNER JOIN subcomponents sc\n",
    "    ON sc.lcabyg_id = submap.subcomponent_id\n",
    "INNER JOIN subcomponents_to_products pmap\n",
    "    ON pmap.subcomponent_id = sc.lcabyg_id\n",
    "INNER JOIN products pr\n",
    "    ON pr.lcabyg_id = pmap.product_id,\n",
    "LATERAL (SELECT (b.int_wall_surface_nlb+b.int_wall_surface_lb)*pmap.amount AS amount_product) lta)\n",
    "\n",
    "INSERT INTO tot_material_amounts(element,product,amount,unit)\n",
    "SELECT 'int_wall',product,SUM(amount_product),unit\n",
    "FROM quant_table\n",
    "GROUP BY product, unit\"\"\""
   ]
  },
  {
   "cell_type": "code",
   "execution_count": null,
   "id": "496dc17a",
   "metadata": {},
   "outputs": [],
   "source": [
    "tot_roof_cover_sql=\"\"\"WITH quant_table AS\n",
    "(SELECT \n",
    "    pr.name product,\n",
    "    amount_product,\n",
    "    pmap.unit unit\n",
    "FROM buildings b\n",
    "INNER JOIN buildings_to_roof_covers bmap\n",
    "    ON b.id_lokalId = bmap.bbr_id\n",
    "INNER JOIN roof_cover_types typ\n",
    "    ON bmap.roof_cover_id=typ.id\n",
    "INNER JOIN roof_covers_to_subcomponents submap\n",
    "    ON typ.id = submap.roof_cover_id\n",
    "INNER JOIN subcomponents sc\n",
    "    ON sc.lcabyg_id = submap.subcomponent_id\n",
    "INNER JOIN subcomponents_to_products pmap\n",
    "    ON pmap.subcomponent_id = sc.lcabyg_id\n",
    "INNER JOIN products pr\n",
    "    ON pr.lcabyg_id = pmap.product_id,\n",
    "LATERAL (SELECT b.byg041BebyggetAreal/COS(b.roof_pitch*PI()*180) AS roof_surface) lt1,\n",
    "LATERAL (SELECT roof_surface*pmap.amount AS amount_product) lt2)\n",
    "\n",
    "INSERT INTO tot_material_amounts(element,product,amount,unit)\n",
    "SELECT 'roof_cover',product,SUM(amount_product),unit\n",
    "FROM quant_table\n",
    "GROUP BY product, unit\"\"\""
   ]
  },
  {
   "cell_type": "code",
   "execution_count": null,
   "id": "ee7896fc",
   "metadata": {},
   "outputs": [],
   "source": [
    "tot_roof_structure_sql=\"\"\"WITH quant_table AS\n",
    "(SELECT \n",
    "    pr.name product,\n",
    "    amount_product,\n",
    "    pmap.unit unit\n",
    "FROM buildings b\n",
    "INNER JOIN buildings_to_roof_structures bmap\n",
    "    ON b.id_lokalId = bmap.bbr_id\n",
    "INNER JOIN roof_structure_types typ\n",
    "    ON bmap.roof_structure_id=typ.id\n",
    "INNER JOIN roof_structures_to_subcomponents submap\n",
    "    ON typ.id = submap.roof_structure_id\n",
    "INNER JOIN subcomponents sc\n",
    "    ON sc.lcabyg_id = submap.subcomponent_id\n",
    "INNER JOIN subcomponents_to_products pmap\n",
    "    ON pmap.subcomponent_id = sc.lcabyg_id\n",
    "INNER JOIN products pr\n",
    "    ON pr.lcabyg_id = pmap.product_id,\n",
    "LATERAL (SELECT b.byg041BebyggetAreal/COS(b.roof_pitch*PI()*180) AS roof_surface) lt1,\n",
    "LATERAL (SELECT roof_surface*pmap.amount AS amount_product) lt2\n",
    "WHERE typ.name NOT IN ('Ridge board', 'Top floor ceiling'))\n",
    "\n",
    "\n",
    "INSERT INTO tot_material_amounts(element,product,amount,unit)\n",
    "SELECT 'roof_structure',product,SUM(amount_product),unit\n",
    "FROM quant_table\n",
    "GROUP BY product, unit\"\"\""
   ]
  },
  {
   "cell_type": "code",
   "execution_count": null,
   "id": "cad89b4f",
   "metadata": {},
   "outputs": [],
   "source": [
    "tot_floor_sql=\"\"\"WITH quant_table AS\n",
    "(SELECT \n",
    "    pr.name product,\n",
    "    amount_product,\n",
    "    pmap.unit unit\n",
    "FROM buildings b\n",
    "INNER JOIN buildings_to_floors bmap\n",
    "    ON b.id_lokalId = bmap.bbr_id\n",
    "INNER JOIN floor_types typ\n",
    "    ON bmap.floor_id=typ.id\n",
    "INNER JOIN floors_to_subcomponents submap\n",
    "    ON typ.id = submap.floor_id\n",
    "INNER JOIN subcomponents sc\n",
    "    ON sc.lcabyg_id = submap.subcomponent_id\n",
    "INNER JOIN subcomponents_to_products pmap\n",
    "    ON pmap.subcomponent_id = sc.lcabyg_id\n",
    "INNER JOIN products pr\n",
    "    ON pr.lcabyg_id = pmap.product_id,\n",
    "LATERAL (SELECT (CASE WHEN (b.byg054AntalEtager IS NOT NULL AND b.byg054AntalEtager > 0) THEN b.byg041BebyggetAreal*(b.byg054AntalEtager-1)*pmap.amount ELSE 0 END) AS amount_product) lta)\n",
    "\n",
    "INSERT INTO tot_material_amounts(element,product,amount,unit)\n",
    "SELECT 'floor',product,SUM(amount_product),unit\n",
    "FROM quant_table\n",
    "GROUP BY product, unit\"\"\""
   ]
  },
  {
   "cell_type": "code",
   "execution_count": null,
   "id": "97392c24",
   "metadata": {},
   "outputs": [],
   "source": [
    "tot_foundation_sql=\"\"\"WITH quant_table AS\n",
    "(SELECT \n",
    "    pr.name product,\n",
    "    amount_product,\n",
    "    pmap.unit unit\n",
    "FROM buildings b\n",
    "INNER JOIN buildings_to_foundations bmap\n",
    "    ON b.id_lokalId = bmap.bbr_id\n",
    "INNER JOIN foundation_types typ\n",
    "    ON bmap.foundation_id=typ.id\n",
    "INNER JOIN foundations_to_subcomponents submap\n",
    "    ON typ.id = submap.foundation_id\n",
    "INNER JOIN subcomponents sc\n",
    "    ON sc.lcabyg_id = submap.subcomponent_id\n",
    "INNER JOIN subcomponents_to_products pmap\n",
    "    ON pmap.subcomponent_id = sc.lcabyg_id\n",
    "INNER JOIN products pr\n",
    "    ON pr.lcabyg_id = pmap.product_id,\n",
    "LATERAL (SELECT b.byg041BebyggetAreal*pmap.amount AS amount_product) lta)\n",
    "\n",
    "INSERT INTO tot_material_amounts(element,product,amount,unit)\n",
    "SELECT 'foundation',product,SUM(amount_product),unit\n",
    "FROM quant_table\n",
    "GROUP BY product, unit\"\"\""
   ]
  },
  {
   "cell_type": "code",
   "execution_count": null,
   "id": "91aab53c",
   "metadata": {},
   "outputs": [],
   "source": [
    "tot_ridge_board_sql=\"\"\"WITH quant_table AS\n",
    "(SELECT \n",
    "    pr.name product,\n",
    "    amount_product,\n",
    "    pmap.unit unit\n",
    "FROM buildings b\n",
    "INNER JOIN buildings_to_roof_structures bmap\n",
    "    ON b.id_lokalId = bmap.bbr_id\n",
    "INNER JOIN roof_structure_types typ\n",
    "    ON bmap.roof_structure_id=typ.id\n",
    "INNER JOIN roof_structures_to_subcomponents submap\n",
    "    ON typ.id = submap.roof_structure_id\n",
    "INNER JOIN subcomponents sc\n",
    "    ON sc.lcabyg_id = submap.subcomponent_id\n",
    "INNER JOIN subcomponents_to_products pmap\n",
    "    ON pmap.subcomponent_id = sc.lcabyg_id\n",
    "INNER JOIN products pr\n",
    "    ON pr.lcabyg_id = pmap.product_id,\n",
    "LATERAL (SELECT SQRT(b.byg041BebyggetAreal)*%s AS beam_length) lt1,\n",
    "LATERAL (SELECT beam_length*pmap.amount AS amount_product) lt2\n",
    "WHERE typ.name = 'Ridge board')\n",
    "\n",
    "\n",
    "INSERT INTO tot_material_amounts(element,product,amount,unit)\n",
    "SELECT 'ridge_board',product,SUM(amount_product),unit\n",
    "FROM quant_table\n",
    "GROUP BY product, unit\"\"\" % SEF"
   ]
  },
  {
   "cell_type": "code",
   "execution_count": null,
   "id": "b4376650",
   "metadata": {},
   "outputs": [],
   "source": [
    "tot_top_ceiling_sql=\"\"\"WITH quant_table AS\n",
    "(SELECT \n",
    "    pr.name product,\n",
    "    amount_product,\n",
    "    pmap.unit unit\n",
    "FROM buildings b\n",
    "INNER JOIN buildings_to_roof_structures bmap\n",
    "    ON b.id_lokalId = bmap.bbr_id\n",
    "INNER JOIN roof_structure_types typ\n",
    "    ON bmap.roof_structure_id=typ.id\n",
    "INNER JOIN roof_structures_to_subcomponents submap\n",
    "    ON typ.id = submap.roof_structure_id\n",
    "INNER JOIN subcomponents sc\n",
    "    ON sc.lcabyg_id = submap.subcomponent_id\n",
    "INNER JOIN subcomponents_to_products pmap\n",
    "    ON pmap.subcomponent_id = sc.lcabyg_id\n",
    "INNER JOIN products pr\n",
    "    ON pr.lcabyg_id = pmap.product_id,\n",
    "LATERAL (SELECT b.byg041BebyggetAreal*pmap.amount AS amount_product) lta\n",
    "WHERE typ.name = 'Top floor ceiling')\n",
    "\n",
    "\n",
    "INSERT INTO tot_material_amounts(element,product,amount,unit)\n",
    "SELECT 'top_floor_ceiling',product,SUM(amount_product),unit\n",
    "FROM quant_table\n",
    "GROUP BY product, unit\"\"\" "
   ]
  },
  {
   "cell_type": "code",
   "execution_count": null,
   "id": "20c3f117",
   "metadata": {},
   "outputs": [],
   "source": [
    "tot_ground_slab_sql=\"\"\"WITH quant_table AS\n",
    "(SELECT \n",
    "    pr.name product,\n",
    "    amount_product,\n",
    "    pmap.unit unit\n",
    "FROM buildings b\n",
    "INNER JOIN buildings_to_ground_slabs bmap\n",
    "    ON b.id_lokalId = bmap.bbr_id\n",
    "INNER JOIN ground_slab_types typ\n",
    "    ON bmap.ground_slab_id=typ.id\n",
    "INNER JOIN ground_slabs_to_subcomponents submap\n",
    "    ON typ.id = submap.ground_slab_id\n",
    "INNER JOIN subcomponents sc\n",
    "    ON sc.lcabyg_id = submap.subcomponent_id\n",
    "INNER JOIN subcomponents_to_products pmap\n",
    "    ON pmap.subcomponent_id = sc.lcabyg_id\n",
    "INNER JOIN products pr\n",
    "    ON pr.lcabyg_id = pmap.product_id,\n",
    "LATERAL (SELECT b.byg041BebyggetAreal*pmap.amount AS amount_product) lta)\n",
    "\n",
    "\n",
    "INSERT INTO tot_material_amounts(element,product,amount,unit)\n",
    "SELECT 'ground_slab',product,SUM(amount_product),unit\n",
    "FROM quant_table\n",
    "GROUP BY product, unit\"\"\" "
   ]
  },
  {
   "cell_type": "code",
   "execution_count": null,
   "id": "4dc21202",
   "metadata": {},
   "outputs": [],
   "source": [
    "run_sql(params,\"DELETE FROM tot_material_amounts\")"
   ]
  },
  {
   "cell_type": "code",
   "execution_count": null,
   "id": "b412cc20",
   "metadata": {},
   "outputs": [],
   "source": [
    "run_sql(params,tot_ext_wall_sql)"
   ]
  },
  {
   "cell_type": "code",
   "execution_count": null,
   "id": "14a3b7c3",
   "metadata": {},
   "outputs": [],
   "source": [
    "run_sql(params,tot_int_wall_sql)"
   ]
  },
  {
   "cell_type": "code",
   "execution_count": null,
   "id": "c09b52a9",
   "metadata": {},
   "outputs": [],
   "source": [
    "run_sql(params,tot_roof_structure_sql)"
   ]
  },
  {
   "cell_type": "code",
   "execution_count": null,
   "id": "178463c8",
   "metadata": {},
   "outputs": [],
   "source": [
    "run_sql(params,tot_roof_cover_sql)"
   ]
  },
  {
   "cell_type": "code",
   "execution_count": null,
   "id": "a4b891a4",
   "metadata": {},
   "outputs": [],
   "source": [
    "run_sql(params,tot_floor_sql)"
   ]
  },
  {
   "cell_type": "code",
   "execution_count": null,
   "id": "189b11f4",
   "metadata": {},
   "outputs": [],
   "source": [
    "run_sql(params,tot_foundation_sql)"
   ]
  },
  {
   "cell_type": "code",
   "execution_count": null,
   "id": "9021e854",
   "metadata": {},
   "outputs": [],
   "source": [
    "run_sql(params,tot_ridge_board_sql)"
   ]
  },
  {
   "cell_type": "code",
   "execution_count": null,
   "id": "f93cd748",
   "metadata": {},
   "outputs": [],
   "source": [
    "run_sql(params,tot_window_sql)"
   ]
  },
  {
   "cell_type": "code",
   "execution_count": null,
   "id": "3cb3fcc2",
   "metadata": {},
   "outputs": [],
   "source": [
    "run_sql(params,tot_top_ceiling_sql)"
   ]
  },
  {
   "cell_type": "code",
   "execution_count": null,
   "id": "0cc365a8",
   "metadata": {},
   "outputs": [],
   "source": [
    "run_sql(params,tot_ground_slab_sql)"
   ]
  }
 ],
 "metadata": {
  "kernelspec": {
   "display_name": "Python 3 (ipykernel)",
   "language": "python",
   "name": "python3"
  },
  "language_info": {
   "codemirror_mode": {
    "name": "ipython",
    "version": 3
   },
   "file_extension": ".py",
   "mimetype": "text/x-python",
   "name": "python",
   "nbconvert_exporter": "python",
   "pygments_lexer": "ipython3",
   "version": "3.9.12"
  }
 },
 "nbformat": 4,
 "nbformat_minor": 5
}
