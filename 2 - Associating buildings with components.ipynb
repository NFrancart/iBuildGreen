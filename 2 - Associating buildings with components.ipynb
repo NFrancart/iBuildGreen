{
 "cells": [
  {
   "cell_type": "markdown",
   "id": "8a3780f3",
   "metadata": {},
   "source": [
    "# Associating buildings with macrocomponents in the macrocomponents database"
   ]
  },
  {
   "cell_type": "markdown",
   "id": "42162cc2",
   "metadata": {},
   "source": [
    "This notebook explains the procedure to link buildings with related macrocomponents (types of internal and external wall, roof, etc) in the iBuildGreen macrocomponents database. <br>\n",
    "\n",
    "The database includes a \"buildings\" table with building information retrieved primarily from BBR, and a number of tables comprising types of macrocomponents for different building parts (e.g. a table with all types of external walls, another with all types of roof covers, etc). The linkages between buildings and macrocomponent types are handled by separate tables called \"mapping tables\" (e.g. \"buildings_to_ext_walls\", \"buildings_to_roof_covers\", etc). Each row of a mapping table indicates a building id and a macromponent id corresponding to the building. This allows mapping a building to one or several types of walls, roof covers, etc."
   ]
  },
  {
   "cell_type": "markdown",
   "id": "b8f4196e",
   "metadata": {},
   "source": [
    "# Setup"
   ]
  },
  {
   "cell_type": "code",
   "execution_count": null,
   "id": "3d50e5c7",
   "metadata": {},
   "outputs": [],
   "source": [
    "import psycopg as pg\n",
    "import random as rd"
   ]
  },
  {
   "cell_type": "code",
   "execution_count": null,
   "id": "dee29da5",
   "metadata": {},
   "outputs": [],
   "source": [
    "from IPython.display import clear_output # Function to clear output when counting rows"
   ]
  },
  {
   "cell_type": "code",
   "execution_count": null,
   "id": "e648c1c8",
   "metadata": {},
   "outputs": [],
   "source": [
    "params='dbname=macrocomponents user=postgres password=mypassword' # Write the parameters to connect to your PostgresQL database here."
   ]
  },
  {
   "cell_type": "markdown",
   "id": "6c195c3b",
   "metadata": {},
   "source": [
    "## Random choice function"
   ]
  },
  {
   "cell_type": "markdown",
   "id": "fe150c3f",
   "metadata": {},
   "source": [
    "In the absence of data to determine exactly what component is in a building, we need a function to randomly choose one component from a list of possible choices. For instance, if we only know that a wall is made of brick, this function will randomly choose a type of brick wall (hollow, massive, etc) that was used when the building was constructed. Later on, this function could be refined by adding for instance probability distributions for various components."
   ]
  },
  {
   "cell_type": "code",
   "execution_count": null,
   "id": "4eb0183c",
   "metadata": {},
   "outputs": [],
   "source": [
    "def random_possible_element (elem_list, id_list, construction_year): \n",
    "    # From a list of possible solutions, picks a random one based on building construction year\n",
    "    # elem_list is the list of all  macrocomponents for one particular building part (e.g. external walls). It is a list of tuples that will later be retrieved from the database.\n",
    "    # The first element of each tuple is the macrocomponent id and the 3rd and 4th are min and max years of use for this component.\n",
    "    # id_list is the list of element ids for possible elements. We can narrow down the list of possible elements based on information from BBR regarding facade and roof cover.\n",
    "    \n",
    "    if construction_year == None:\n",
    "        return None\n",
    "    else:\n",
    "        valid_choices=[] # list of macrocomponents where the building's construction year is between the component's min and max years of use.\n",
    "        early_choices=[] # list of macrocomponents where the building's construction year is before the component's min year\n",
    "        late_choices=[]  # list of macrocomponents where the building's construction year is after the component's max year\n",
    "           \n",
    "        for elem in elem_list:\n",
    "            elem_id=elem[0]\n",
    "            min_year=elem[2]\n",
    "            max_year=elem[3]\n",
    "            if elem_id in id_list and min_year<=construction_year<=max_year:\n",
    "                valid_choices.append(elem)\n",
    "            elif elem_id in id_list and max_year<construction_year:\n",
    "                late_choices.append(elem)\n",
    "            elif elem_id in id_list and construction_year<min_year:\n",
    "                early_choices.append(elem)\n",
    "                \n",
    "        if len(valid_choices)!=0:\n",
    "            random_solution = rd.choice(valid_choices)   # if there are valid choices, pick one of them\n",
    "            return random_solution \n",
    "        elif len(late_choices)!=0:\n",
    "            random_solution = rd.choice(late_choices)    # otherwise, return one of the late choices if any\n",
    "            return random_solution\n",
    "        elif len(early_choices)!=0:\n",
    "            random_solution = rd.choice(early_choices)   # otherwise, return one of the early choices if any\n",
    "            return random_solution\n",
    "        else:\n",
    "            print('no valid choice')\n",
    "            return None\n",
    "            "
   ]
  },
  {
   "cell_type": "markdown",
   "id": "7d099329",
   "metadata": {},
   "source": [
    "# Filling the external wall mapping table"
   ]
  },
  {
   "cell_type": "markdown",
   "id": "3eb58f2a",
   "metadata": {},
   "source": [
    "For external walls, we can look up the reported wall material in bbr, then pick a type of wall that matches this reported material (at random if several choices are possible). First, we define a function to choose one type of wall given a building's construction year and reported wall material. Buildings have a \"byg032ydervæggensmateriale\" column with the bbr code for their external wall, and external wall types have a \"bbr_material_id\" column indicating which BBR code they can correspond to."
   ]
  },
  {
   "cell_type": "code",
   "execution_count": null,
   "id": "ee70f9cd",
   "metadata": {},
   "outputs": [],
   "source": [
    "def get_ext_wall(elems, bbr_material, cyear): \n",
    "    valid_elements = []\n",
    "    for e in elems:\n",
    "        if bbr_material in e[-1]:\n",
    "            valid_elements.append(e[0]) # Make a list of all wall types that fit the BBR code\n",
    "    return random_possible_element(elems,valid_elements,cyear) # Pick one of these at random"
   ]
  },
  {
   "cell_type": "markdown",
   "id": "71528b87",
   "metadata": {},
   "source": [
    "Then we can use this function to fill the external walls mapping table:"
   ]
  },
  {
   "cell_type": "code",
   "execution_count": null,
   "id": "71cb7c86",
   "metadata": {},
   "outputs": [],
   "source": [
    "try:\n",
    "    conn = pg.connect(params)\n",
    "    cur_elem=conn.cursor()\n",
    "    cur_elem.execute(\"SELECT * FROM ext_wall_types ORDER BY id\")\n",
    "    elems = cur_elem.fetchall() # Retrieve the list of all external wall types, which can be fed to the random choice function\n",
    "    # Make sure that bbr_material_id is the last column of the ext_walls table in the database - if not, adjust the SQL query to make sure that it returns a row where bbr_material_id is the last item\n",
    "    \n",
    "    cur = conn.cursor()\n",
    "    cur.execute(\"DELETE FROM buildings_to_ext_walls\")\n",
    "    cur.execute(\"SELECT id_lokalid, byg032ydervæggensmateriale, byg026opførelsesår, byg021bygningensanvendelse FROM buildings\")\n",
    "    row = cur.fetchone() # Get properties from the first building as a tuple\n",
    "        \n",
    "    cur_write=conn.cursor()\n",
    "    row_number=0\n",
    "\n",
    "    while row is not None:\n",
    "        row_number+=1\n",
    "        clear_output(wait=True)\n",
    "        print(row_number)\n",
    "        bbr_material=row[1] # Get reported wall material for the building\n",
    "        cyear=row[2] # Get the building's construction year\n",
    "        ext_wall=get_ext_wall(elems, bbr_material, cyear) # Pick a suitable type of external wall for the building\n",
    "        if ext_wall is not None:\n",
    "            # Add entry to the mapping table\n",
    "            cur_write.execute(\"INSERT INTO buildings_to_ext_walls(bbr_id, ext_wall_id) VALUES (%s, %s)\", (row[0], ext_wall[0]))\n",
    "        else:\n",
    "            # If there is no valid choice, add NULL to the mapping table\n",
    "            cur_write.execute(\"INSERT INTO buildings_to_ext_walls(bbr_id) VALUES (%s)\", (row[0],))\n",
    "        \n",
    "        row=cur.fetchone() # Retrieve the next building as a tuple and iterate\n",
    "\n",
    "    conn.commit()\n",
    "    cur_write.close()\n",
    "    cur_elem.close()\n",
    "    cur.close()\n",
    "\n",
    "except (Exception, pg.DatabaseError) as error:\n",
    "    print('row number'+str(row_number)+'error: ')\n",
    "    print(error)\n",
    "finally:\n",
    "    if conn is not None:\n",
    "        conn.close()\n"
   ]
  },
  {
   "cell_type": "markdown",
   "id": "2e5a03d7",
   "metadata": {},
   "source": [
    "# Filling the roof cover mapping table"
   ]
  },
  {
   "cell_type": "markdown",
   "id": "432c8eb3",
   "metadata": {},
   "source": [
    "Similarly, we can write a function to retrieve the roof cover based on reported BBR material and construction year"
   ]
  },
  {
   "cell_type": "code",
   "execution_count": null,
   "id": "08f58032",
   "metadata": {},
   "outputs": [],
   "source": [
    "def get_roof_cover(elems, bbr_material, cyear): # No category for shingles in BBR?\n",
    "    valid_elements = []\n",
    "    for e in elems:\n",
    "        if bbr_material in e[-1]:\n",
    "            valid_elements.append(e[0])\n",
    "    return random_possible_element(elems,valid_elements,cyear)"
   ]
  },
  {
   "cell_type": "markdown",
   "id": "287d433f",
   "metadata": {},
   "source": [
    "And then use this function to fill the mapping table for roof covers:"
   ]
  },
  {
   "cell_type": "code",
   "execution_count": null,
   "id": "ed554d1f",
   "metadata": {},
   "outputs": [],
   "source": [
    "try:\n",
    "    conn = pg.connect(params)\n",
    "    cur_elem=conn.cursor()\n",
    "    cur_elem.execute(\"SELECT * FROM roof_cover_types ORDER BY id\")\n",
    "    elems = cur_elem.fetchall() # Retrieve the list of all roof cover types, which can be fed to the random choice function\n",
    "\n",
    "    cur = conn.cursor()\n",
    "    cur.execute(\"DELETE FROM buildings_to_roof_covers\")    \n",
    "    cur.execute(\"SELECT id_lokalid, byg033tagdækningsmateriale, byg026opførelsesår, byg021bygningensanvendelse FROM buildings\")\n",
    "    row = cur.fetchone() # Get properties from the first building as a tuple\n",
    "        \n",
    "    cur_write=conn.cursor()\n",
    "    row_number=0\n",
    "\n",
    "    while row is not None:\n",
    "        row_number+=1\n",
    "        clear_output(wait=True)\n",
    "        print(row_number)\n",
    "        bbr_material=row[1] # Get reported roof cover material for the building\n",
    "        cyear=row[2] # Get the building's construction year\n",
    "        roof_cover=get_roof_cover(elems, bbr_material, cyear)\n",
    "        if roof_cover is not None:\n",
    "            # Add entry to the mapping table\n",
    "            cur_write.execute(\"INSERT INTO buildings_to_roof_covers(bbr_id, roof_cover_id) VALUES (%s, %s)\", (row[0], roof_cover[0]))\n",
    "        else:\n",
    "            # If there is no valid choice, add None to the mapping table\n",
    "            cur_write.execute(\"INSERT INTO buildings_to_roof_covers(bbr_id) VALUES (%s)\", (row[0],))\n",
    "        \n",
    "        row=cur.fetchone() # Retrieve the next building as a tuple and iterate\n",
    "\n",
    "    conn.commit()\n",
    "    cur_write.close()\n",
    "    cur_elem.close()\n",
    "    cur.close()\n",
    "\n",
    "except (Exception, pg.DatabaseError) as error:\n",
    "    print(error)\n",
    "finally:\n",
    "    if conn is not None:\n",
    "        conn.close()"
   ]
  },
  {
   "cell_type": "markdown",
   "id": "3b954208",
   "metadata": {},
   "source": [
    "# Filling the roof structure mapping table"
   ]
  },
  {
   "cell_type": "markdown",
   "id": "67f53a02",
   "metadata": {},
   "source": [
    "While the roof structure is not indicated in BBR, we can still use BBR information about the roof cover material to estimate the roof pitch, which in turn informs the type of roof structure."
   ]
  },
  {
   "cell_type": "markdown",
   "id": "c5179fa8",
   "metadata": {},
   "source": [
    "## Approximating the roof pitch"
   ]
  },
  {
   "cell_type": "markdown",
   "id": "8eeb2b12",
   "metadata": {},
   "source": [
    "In the absence of any further information on roof pitch at this early stage, the following code will approximate the roof pitch for a building based only on the roof cover material, and insert this roof pitch value in the \"roof_pitch\" column of the \"buildings\" table."
   ]
  },
  {
   "cell_type": "code",
   "execution_count": null,
   "id": "3cdaa71f",
   "metadata": {},
   "outputs": [],
   "source": [
    "try:\n",
    "    conn = pg.connect(params)\n",
    "    cur=conn.cursor()\n",
    "    cur.execute(\"SELECT id_lokalid, byg033tagdækningsmateriale FROM buildings\")\n",
    "    building = cur.fetchone() # Retrieve parameters for the first building.\n",
    "    \n",
    "    while building is not None:\n",
    "        bbr_material = building[1] # Retrieve the roof cover material\n",
    "        if bbr_material in [2,6]: # Depending on the type of roof cover material, the roof pitch is estimated\n",
    "            pitch = 10\n",
    "        elif bbr_material in [3, 5, 10]:\n",
    "            pitch = 40\n",
    "        elif bbr_material in [4, 90]:\n",
    "            pitch = 35\n",
    "        elif bbr_material ==7:\n",
    "            pitch = 20\n",
    "        else:             \n",
    "            pitch = 1\n",
    "            \n",
    "        cur2=conn.cursor()\n",
    "        # Insert the roof pitch value in the \"buildings\" table for the corresponding building.\n",
    "        cur2.execute(\"UPDATE buildings SET roof_pitch = %s WHERE id_lokalid = %s\", (pitch, building[0]))\n",
    "        \n",
    "        building = cur.fetchone() # Retrieve the next building and iterate.\n",
    "\n",
    "    conn.commit()\n",
    "    cur2.close()\n",
    "    cur.close()\n",
    "\n",
    "except (Exception, pg.DatabaseError) as error:\n",
    "    print(error)\n",
    "finally:\n",
    "    if conn is not None:\n",
    "        conn.close()"
   ]
  },
  {
   "cell_type": "markdown",
   "id": "35ddc53a",
   "metadata": {},
   "source": [
    "## Filling the roof  structure mapping table"
   ]
  },
  {
   "cell_type": "code",
   "execution_count": null,
   "id": "b10f2e72",
   "metadata": {},
   "outputs": [],
   "source": [
    "def get_roof_structure(elems, cyear, pitch): #This function selects all roof structure types that can be used with the building's roof pitch, then selects a random one based on construction year.\n",
    "    id_list = []\n",
    "    for elem in elems:\n",
    "        if elem[4] <= pitch and pitch <= elem[5]:\n",
    "            id_list.append(elem[0])\n",
    "    return random_possible_element(elems,id_list,cyear)  "
   ]
  },
  {
   "cell_type": "code",
   "execution_count": null,
   "id": "b0aae570",
   "metadata": {},
   "outputs": [],
   "source": [
    "try:\n",
    "    conn = pg.connect(params)\n",
    "    cur_elem=conn.cursor()\n",
    "    cur_elem.execute(\"SELECT * FROM roof_structure_types WHERE name NOT IN ('Ridge board', 'Top floor ceiling') ORDER BY id\")\n",
    "    elems = cur_elem.fetchall() # Retrieve the list of all roof structure types, which can be fed to the random choice function\n",
    "\n",
    "    cur = conn.cursor()\n",
    "    cur.execute(\"DELETE FROM buildings_to_roof_structures\")    \n",
    "    cur.execute(\"SELECT id_lokalid, byg026opførelsesår, byg021bygningensanvendelse, roof_pitch FROM buildings\")\n",
    "    row = cur.fetchone() # Retrieve information for the first building\n",
    "        \n",
    "    cur_write=conn.cursor()\n",
    "    row_number=0\n",
    "\n",
    "    while row is not None:\n",
    "        row_number+=1\n",
    "        clear_output(wait=True)\n",
    "        print(row_number)\n",
    "        pitch=row[-1] # Retrieve the roof pitch\n",
    "        cyear=row[1] # Retrieve the construction year\n",
    "        roof_structure=get_roof_structure(elems, cyear, pitch) # Select a suitable roof structure based on roof pitch and construction year\n",
    "        if roof_structure is not None:\n",
    "            # Add entry to the mapping table\n",
    "            cur_write.execute(\"INSERT INTO buildings_to_roof_structures(bbr_id, roof_structure_id) VALUES (%s, %s)\", (row[0], roof_structure[0]))\n",
    "        else:\n",
    "            # If there is no suitable choice, add NULL to the mapping table.\n",
    "            cur_write.execute(\"INSERT INTO buildings_to_roof_structures(bbr_id) VALUES (%s)\", (row[0],))\n",
    "\n",
    "        row=cur.fetchone() # Retrieve the next building and iterate.\n",
    "\n",
    "    conn.commit()\n",
    "    cur_write.close()\n",
    "    cur_elem.close()\n",
    "    cur.close()\n",
    "\n",
    "except (Exception, pg.DatabaseError) as error:\n",
    "    print(error)\n",
    "finally:\n",
    "    if conn is not None:\n",
    "        conn.close()"
   ]
  },
  {
   "cell_type": "markdown",
   "id": "a0214432",
   "metadata": {},
   "source": [
    "### Adding the ridge board and top floor ceiling"
   ]
  },
  {
   "cell_type": "markdown",
   "id": "dd061d35",
   "metadata": {},
   "source": [
    "All roofs except flat roofs have a ridge board on top. In the model, the ridge board as well as beam in the top floor ceiling were implemented separately from the roof structure. This is due to the fact that the material amounts are calculated differently later on: material amounts for the roof structure are calculated per m2 of roof, whereas material amounts for the ridge board are calculated per m of building length and amounts for the top floor ceiling per m2 of footprint."
   ]
  },
  {
   "cell_type": "code",
   "execution_count": null,
   "id": "af5c9e05",
   "metadata": {},
   "outputs": [],
   "source": [
    "try:\n",
    "    conn = pg.connect(params)\n",
    "    cur_elem=conn.cursor()\n",
    "    cur_elem.execute(\"SELECT id FROM roof_structure_types WHERE name = 'Ridge board'\") # Select the ridge board macrocomponent\n",
    "    elem = cur_elem.fetchone()\n",
    "    \n",
    "    cur = conn.cursor()\n",
    "    cur.execute(\"\"\"\n",
    "    SELECT b.id_lokalid\n",
    "    FROM buildings b \n",
    "    INNER JOIN buildings_to_roof_structures btt ON b.id_lokalid=btt.bbr_id\n",
    "    INNER JOIN roof_structure_types typ ON typ.id=btt.roof_structure_id\n",
    "    WHERE typ.name NOT LIKE 'Flat%'\n",
    "    \"\"\") # Flat roofs do not have a ridge board, so we get all buildings that don't have a flat roof.\n",
    "    row = cur.fetchone() # Retrieve information for the first building\n",
    "    \n",
    "    cur_write=conn.cursor()\n",
    "    row_number=0\n",
    "        \n",
    "    while row is not None:\n",
    "        row_number+=1\n",
    "        clear_output(wait=True)\n",
    "        print(row_number)\n",
    "        cur_write.execute(\"INSERT INTO buildings_to_roof_structures(bbr_id, roof_structure_id) VALUES (%s, %s)\", (row[0], elem[0]))\n",
    "\n",
    "        row=cur.fetchone() # Retrieve the next building and iterate.\n",
    "\n",
    "    conn.commit()\n",
    "    cur_elem.close()\n",
    "    cur_write.close()\n",
    "    cur.close()\n",
    "\n",
    "except (Exception, pg.DatabaseError) as error:\n",
    "    print(error)\n",
    "finally:\n",
    "    if conn is not None:\n",
    "        conn.close()"
   ]
  },
  {
   "cell_type": "code",
   "execution_count": null,
   "id": "a115fce5",
   "metadata": {},
   "outputs": [],
   "source": [
    "try:\n",
    "    conn = pg.connect(params)\n",
    "    cur_elem=conn.cursor()\n",
    "    cur_elem.execute(\"SELECT id FROM roof_structure_types WHERE name = 'Top floor ceiling'\") # Select the top floor ceiling macrocomponent\n",
    "    elem = cur_elem.fetchone()\n",
    "    \n",
    "    cur = conn.cursor()\n",
    "    cur.execute(\"\"\"\n",
    "    SELECT b.id_lokalid\n",
    "    FROM buildings b \n",
    "    INNER JOIN buildings_to_roof_structures btt ON b.id_lokalid=btt.bbr_id\n",
    "    INNER JOIN roof_structure_types typ ON typ.id=btt.roof_structure_id\n",
    "    WHERE typ.name NOT IN ('Ridge board', 'Flat wood', 'Flat concrete')\n",
    "    \"\"\") # Flat roofs are assumed not to have additional beams on the top floor ceiling, so we get all buildings that don't have a flat roof.\n",
    "    row = cur.fetchone() # Retrieve information for the first building\n",
    "    \n",
    "    cur_write=conn.cursor()\n",
    "    row_number=0\n",
    "        \n",
    "    while row is not None:\n",
    "        row_number+=1\n",
    "        clear_output(wait=True)\n",
    "        print(row_number)\n",
    "        cur_write.execute(\"INSERT INTO buildings_to_roof_structures(bbr_id, roof_structure_id) VALUES (%s, %s)\", (row[0], elem[0]))\n",
    "\n",
    "        row=cur.fetchone() # Retrieve the next building and iterate.\n",
    "\n",
    "    conn.commit()\n",
    "    cur_elem.close()\n",
    "    cur_write.close()\n",
    "    cur.close()\n",
    "\n",
    "except (Exception, pg.DatabaseError) as error:\n",
    "    print(error)\n",
    "finally:\n",
    "    if conn is not None:\n",
    "        conn.close()"
   ]
  },
  {
   "cell_type": "markdown",
   "id": "123321db",
   "metadata": {},
   "source": [
    "# Picking elements without BBR indication"
   ]
  },
  {
   "cell_type": "markdown",
   "id": "bfbfcdef",
   "metadata": {},
   "source": [
    "In this first iteration of the model, components for which there is no indication in BBR (e.g. internal walls, floors, etc) are randomly selected based only on the building's construction year. We can therefore use the same approach for all of these components.<br>\n",
    "First, we define simple functions to randomly pick each component. We can adjust these functions individually later if needed."
   ]
  },
  {
   "cell_type": "code",
   "execution_count": null,
   "id": "07f1279d",
   "metadata": {},
   "outputs": [],
   "source": [
    "def get_floor(elems, cyear): # This function just selects a random appropriate component given the building's construction year\n",
    "    id_list = []\n",
    "    for elem in elems:\n",
    "        id_list.append(elem[0])\n",
    "    return random_possible_element(elems,id_list,cyear)   "
   ]
  },
  {
   "cell_type": "code",
   "execution_count": null,
   "id": "31a1b5a4",
   "metadata": {},
   "outputs": [],
   "source": [
    "def get_int_wall(elems, cyear):\n",
    "    id_list = []\n",
    "    for elem in elems:\n",
    "        id_list.append(elem[0])\n",
    "    return random_possible_element(elems,id_list,cyear)   "
   ]
  },
  {
   "cell_type": "code",
   "execution_count": null,
   "id": "cb228d35",
   "metadata": {},
   "outputs": [],
   "source": [
    "def get_ground_slab(elems, cyear):\n",
    "    id_list = []\n",
    "    for elem in elems:\n",
    "        id_list.append(elem[0])\n",
    "    return random_possible_element(elems,id_list,cyear)   "
   ]
  },
  {
   "cell_type": "code",
   "execution_count": null,
   "id": "f8181ce8",
   "metadata": {},
   "outputs": [],
   "source": [
    "def get_foundation(elems, cyear):\n",
    "    id_list = []\n",
    "    for elem in elems:\n",
    "        id_list.append(elem[0])\n",
    "    return random_possible_element(elems,id_list,cyear)   "
   ]
  },
  {
   "cell_type": "markdown",
   "id": "26ec17c6",
   "metadata": {},
   "source": [
    "Then, we define generic functions to fill the mapping table for elements without further indications in BBR"
   ]
  },
  {
   "cell_type": "code",
   "execution_count": null,
   "id": "05ed178e",
   "metadata": {},
   "outputs": [],
   "source": [
    "def get_element(element,elems,cyear,**kwargs): # Calls the function to select one particular type of element\n",
    "    var=globals()[\"get_\"+element](elems, cyear)\n",
    "    return var"
   ]
  },
  {
   "cell_type": "code",
   "execution_count": null,
   "id": "c58beea5",
   "metadata": {},
   "outputs": [],
   "source": [
    "def fill_mapping_table(element): # Fills the mapping table for one particular type of element, as long as the function to get that element only needs the building's construction year\n",
    "    try:\n",
    "        conn = pg.connect(params)\n",
    "        cur_elem=conn.cursor()\n",
    "        cur_elem.execute(\"SELECT * FROM %s ORDER BY id\" % (element+\"_types\",))\n",
    "        elems = cur_elem.fetchall() # Retrieve the list of all possible types for the given element, which can be fed to the random choice function\n",
    "        \n",
    "        cur = conn.cursor()\n",
    "        cur.execute(\"DELETE FROM buildings_to_\"+element+\"s\")\n",
    "        cur.execute(\"SELECT id_lokalid, byg026opførelsesår, byg021bygningensanvendelse FROM buildings\")\n",
    "        row = cur.fetchone() # Get properties from the first building as a tuple\n",
    "\n",
    "        cur_write=conn.cursor()\n",
    "        row_number=0\n",
    "\n",
    "        while row is not None:\n",
    "            row_number+=1\n",
    "            clear_output(wait=True)\n",
    "            print(row_number)\n",
    "            \n",
    "            cyear=row[1] # Get the building's construction year\n",
    "            elem=get_element(element,elems, cyear) # Select a suitable type for the given element in this building\n",
    "            if elem is not None:\n",
    "                # Add entry to the mapping table\n",
    "                cur_write.execute(\"INSERT INTO buildings_to_\"+element+\"s(bbr_id, \"+element+\"_id) VALUES (%s, %s)\", (row[0],elem[0]))\n",
    "            else:\n",
    "                # If there is no suitable choice, add None to the mapping table\n",
    "                cur_write.execute(\"INSERT INTO buildings_to_\"+element+\"s(bbr_id) VALUES (%s)\", (row[0],))\n",
    "\n",
    "            row=cur.fetchone() # Retrieve the next building as a tuple and iterate\n",
    "\n",
    "        conn.commit()\n",
    "        cur_write.close()\n",
    "        cur_elem.close()\n",
    "        cur.close()\n",
    "\n",
    "    except (Exception, pg.DatabaseError) as error:\n",
    "        print(error)\n",
    "    finally:\n",
    "        if conn is not None:\n",
    "            conn.close()"
   ]
  },
  {
   "cell_type": "markdown",
   "id": "f8ac360d",
   "metadata": {},
   "source": [
    "Now we just have to call this function to fill the mapping table for each of these elements."
   ]
  },
  {
   "cell_type": "code",
   "execution_count": null,
   "id": "6e953982",
   "metadata": {},
   "outputs": [],
   "source": [
    "fill_mapping_table(\"ground_slab\")"
   ]
  },
  {
   "cell_type": "code",
   "execution_count": null,
   "id": "5f8f929f",
   "metadata": {},
   "outputs": [],
   "source": [
    "fill_mapping_table(\"int_wall\")"
   ]
  },
  {
   "cell_type": "code",
   "execution_count": null,
   "id": "f438f1ea",
   "metadata": {},
   "outputs": [],
   "source": [
    "fill_mapping_table(\"foundation\")"
   ]
  },
  {
   "cell_type": "code",
   "execution_count": null,
   "id": "70a90c5a",
   "metadata": {},
   "outputs": [],
   "source": [
    "fill_mapping_table(\"floor\")"
   ]
  }
 ],
 "metadata": {
  "kernelspec": {
   "display_name": "Python 3 (ipykernel)",
   "language": "python",
   "name": "python3"
  },
  "language_info": {
   "codemirror_mode": {
    "name": "ipython",
    "version": 3
   },
   "file_extension": ".py",
   "mimetype": "text/x-python",
   "name": "python",
   "nbconvert_exporter": "python",
   "pygments_lexer": "ipython3",
   "version": "3.9.12"
  }
 },
 "nbformat": 4,
 "nbformat_minor": 5
}
