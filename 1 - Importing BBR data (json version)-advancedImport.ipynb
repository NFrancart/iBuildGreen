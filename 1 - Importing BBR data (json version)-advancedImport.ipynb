{
 "cells": [
  {
   "cell_type": "markdown",
   "id": "50c9f6ad",
   "metadata": {},
   "source": [
    "# Importing data from BBR into a relational database"
   ]
  },
  {
   "cell_type": "markdown",
   "id": "0296d49d",
   "metadata": {},
   "source": [
    "This document shows how to retrieve data from the Danish building registry, BBR, and insert it into a relational database for easier use. <br>\n",
    "\n",
    "As prerequisites, you need to be able to run Python and have a PostgresQL database ready with a table to receive the BBR data."
   ]
  },
  {
   "cell_type": "markdown",
   "id": "a7936ba9",
   "metadata": {},
   "source": [
    "# 1) Obtaining the data"
   ]
  },
  {
   "cell_type": "markdown",
   "id": "220eea17",
   "metadata": {},
   "source": [
    "1. Go to https://datafordeler.dk/ <br>\n",
    "Click on \"log in\" and create a new web user. You should get a user name and password to access datafordeler. <br>\n",
    "<br>\n",
    "2. With your username and password, log in to the datafordeler self-service to retrieve data: <br> https://selfservice.datafordeler.dk/ <br>\n",
    "<br>\n",
    "3. It's not intuitive, but your account is linked to several \"users\", each with different permissions. Check the Users tab (Brugere) - if you only have the user \"Webbruger\", you need to create a new one. Click on the + tab and create a service user with the \"user name and access code\" method.<br>\n",
    "<br>\n",
    "4. You are now ready to request public data on datafordeler. Go to the Downloads tab (Filudtræk). You should see an empty field - that's because you haven't requested data yet. To get access to data, you need to create a download. You have three choices:<br> - Clicking Opret will allow you to create a permanent download button, that is kept up to date and that you can use multiple times.<br> - Clicking Download will allow you to request a one-time download of the dataset.<br> - Clicking Predefined will allow you to download a dataset with a fixed set of parameters (instead of customizing everything). In particular, you can use Predefined to download the BBR dataset with only up-to-date entries, in JSON or XML format. <br>\n",
    "<br>\n",
    "5. You should now see a list of all available downloads. Give your download a name (Visningsnavn) and select BBR Totaludtræk in the list (or BBR Aktuelt Totaludtræk if using Predefined). Click Next. If you chose Opret or Download, you can now adjust a lot of parameters, such as downloading entries for only a specific municipality. If you used Predefined, the parameters are locked.<br><br>\n",
    "\n",
    "6. Click Save (Gem). You will be taken back to the Download tabs. If you used Opret or Predefined, you should see your data subscription there. You can modify or delete it if you don't think that you will need to download it again in the future. You will receive an email with information on how to get your data.<br>\n",
    "<br>\n",
    "7. Actually getting the data is a bit tricky: you cannot download it from Datafordeler directly. You need to use a FTP client like https://filezilla-project.org/ <br>\n",
    "Download and install FileZilla. When you launch it, enter the address provided in the email you got from Datafordeler, as well as your Datafordeler service user number (*not* your initial username: this is the user number you created in step 3) and password. Click Connect, and you should finally be able to see and download your files! \n",
    "\n"
   ]
  },
  {
   "cell_type": "markdown",
   "id": "211a5d95",
   "metadata": {},
   "source": [
    "### Note on file format"
   ]
  },
  {
   "cell_type": "markdown",
   "id": "70421b40",
   "metadata": {},
   "source": [
    "Because BBR is a very large dataset (if you download the whole thing), your computer will run out of memory when trying to parse it in one chunk. For this reason, we want to parse the file iteratively. Doing this with an XML file is relatively straightforward on Python, but takes a lot of time. Working with a JSON file requires installing a specific package, *ijson*, to allow for iterative parsing - but it will be faster. In this notebook, we will work with the JSON format."
   ]
  },
  {
   "cell_type": "markdown",
   "id": "c1fdfaf9",
   "metadata": {},
   "source": [
    "# 2) Inserting values in the PostgresQL database"
   ]
  },
  {
   "cell_type": "markdown",
   "id": "587321fa",
   "metadata": {},
   "source": [
    "Before retrieving values from the database, we need to define a function that will process these values and insert them into the database. Here the idea is to write a function that inserts one row into the database. It takes as input a Python dictionary where values of various parameters for the building are recorded. You need to adjust the SQL code to fit the names of your table and columns."
   ]
  },
  {
   "cell_type": "markdown",
   "id": "aa73201b",
   "metadata": {},
   "source": [
    "### Setup"
   ]
  },
  {
   "cell_type": "code",
   "execution_count": null,
   "id": "be1f1622",
   "metadata": {},
   "outputs": [],
   "source": [
    "import psycopg as pg # Package to communicate between Python and PostgresQL"
   ]
  },
  {
   "cell_type": "code",
   "execution_count": null,
   "id": "5cc7e4a0",
   "metadata": {},
   "outputs": [],
   "source": [
    "params='dbname=macrocomponents3 user=postgres password=19Ni93co44PG!' # Write the parameters to connect to your PostgresQL database here."
   ]
  },
  {
   "cell_type": "code",
   "execution_count": 3,
   "id": "0525cdae",
   "metadata": {},
   "outputs": [],
   "source": [
    "# Write here the parameters you want to retrieve from the BBR data file. These need to be the same names as in BBR, in Danish\n",
    "parameters=['id_lokalId','kommunekode', 'byg007Bygningsnummer', 'jordstykke', 'grund', 'husnummer', 'byg404Koordinat', 'byg026Opførelsesår', 'byg027OmTilbygningsår', 'byg021BygningensAnvendelse', 'byg041BebyggetAreal', 'byg038SamletBygningsareal', 'byg039BygningensSamledeBoligAreal', 'byg040BygningensSamledeErhvervsAreal', 'byg042ArealIndbyggetGarage', 'byg043ArealIndbyggetCarport', 'byg044ArealIndbyggetUdhus', 'byg045ArealIndbyggetUdestueEllerLign', 'byg046SamletArealAfLukkedeOverdækningerPåBygningen', 'byg047ArealAfAffaldsrumITerrænniveau', 'byg048AndetAreal',  'byg049ArealAfOverdækketAreal', 'byg032YdervæggensMateriale', 'byg050ArealÅbneOverdækningerPåBygningenSamlet', 'byg051Adgangsareal',  'byg054AntalEtager', 'byg055AfvigendeEtager', 'byg033Tagdækningsmateriale', 'byg034SupplerendeYdervæggensMateriale', 'byg035SupplerendeTagdækningsMateriale', 'byg036AsbestholdigtMateriale', 'byg056Varmeinstallation', 'byg057Opvarmningsmiddel', 'byg058SupplerendeVarme', 'byg071BevaringsværdighedReference', 'byg130ArealAfUdvendigEfterisolering', 'byg150Gulvbelægning', 'byg151Frihøjde']"
   ]
  },
  {
   "cell_type": "markdown",
   "id": "18eb0312",
   "metadata": {},
   "source": [
    "### Insertion function"
   ]
  },
  {
   "cell_type": "code",
   "execution_count": 13,
   "id": "ea9f60c2",
   "metadata": {},
   "outputs": [],
   "source": [
    "def insert_bbr_from_dict(row_dict):\n",
    "    # We first convert the dictionary into a tuple, since the insertion function takes a tuple as input\n",
    "    # The keys are the names of parameters from BBR, in Danish\n",
    "    l=list()\n",
    "    parameters=row_dict.keys()\n",
    "    for p in parameters:\n",
    "        l.append(row_dict[p])\n",
    "    row_tuple=tuple(l)\n",
    "    \n",
    "    # Building the SQL query to insert values in the database.     \n",
    "    sql =\"INSERT INTO buildings(\"\n",
    "    for p in parameters:\n",
    "        sql+=p+', '\n",
    "    sql=sql[0:len(sql)-2]+') VALUES('\n",
    "    for n in range(len(parameters)):\n",
    "        sql+='%s, '\n",
    "    sql=sql[0:len(sql)-2]+') ON CONFLICT ON CONSTRAINT buildings_pkey DO UPDATE SET ('\n",
    "    for p in parameters:\n",
    "        sql+=p+', '\n",
    "    sql=sql[0:len(sql)-2]+') = ('\n",
    "    for p in parameters:\n",
    "        sql+='EXCLUDED.'+p+', '\n",
    "    sql=sql[0:len(sql)-2]+');'\n",
    "    \n",
    "    connector = None\n",
    "    bbrid = None\n",
    "    \n",
    "    try:\n",
    "        # connect to the PostgreSQL database\n",
    "        connector = pg.connect(params)\n",
    "        # create a new cursor\n",
    "        cur = connector.cursor()\n",
    "        # execute the INSERT statement\n",
    "        cur.execute(sql, row_tuple)\n",
    "        # commit the changes to the database\n",
    "        connector.commit()\n",
    "        # close communication with the database\n",
    "        cur.close()\n",
    "        \n",
    "    except (Exception, pg.DatabaseError) as error:\n",
    "        print(error)\n",
    "        \n",
    "    finally:\n",
    "        if connector is not None:\n",
    "            connector.close()"
   ]
  },
  {
   "cell_type": "code",
   "execution_count": 73,
   "id": "996df408",
   "metadata": {},
   "outputs": [],
   "source": [
    "def insert_bbr_from_dict(row_dict):\n",
    "    # We first convert the dictionary into a tuple, since the insertion function takes a tuple as input\n",
    "    # The keys are the names of parameters from BBR, in Danish\n",
    "    row_tuple = (row_dict['id_lokalId'], row_dict['kommunekode'], row_dict['grund'], row_dict['husnummer'], row_dict['byg404Koordinat'], row_dict['byg026Opførelsesår'], row_dict['byg027OmTilbygningsår'], row_dict['byg021BygningensAnvendelse'], row_dict['byg041BebyggetAreal'], row_dict['byg038SamletBygningsareal'], row_dict['byg054AntalEtager'], row_dict['byg032YdervæggensMateriale'], row_dict['byg033Tagdækningsmateriale'])\n",
    "    \n",
    "    # SQL query to insert values in the database. Replace table and column names by the ones in your PostgresQL database.    \n",
    "    sql = \"\"\"INSERT INTO buildings(\n",
    "    bbr_id, \n",
    "    municipality_nr, \n",
    "    grund, \n",
    "    husnummer, \n",
    "    coord, \n",
    "    construction_year, \n",
    "    latest_renovation_year,\n",
    "    bbr_use_category, \n",
    "    built_area, \n",
    "    total_building_area, \n",
    "    n_floors, \n",
    "    wall_material,\n",
    "    sup_wall_material,\n",
    "    roof_material,\n",
    "    sup_roof_material,\n",
    "    used_area_under_roof,\n",
    "    used_basement_area,\n",
    "    commercial_area,\n",
    "    residential_area,\n",
    "    built_in_garage_area,\n",
    "    built_in_carport_area,\n",
    "    built_in_outhouse_area,\n",
    "    built_in_conservatory_area,\n",
    "    enclosed_covered_area,\n",
    "    waste_room_area,\n",
    "    other_area,\n",
    "    covered_area,\n",
    "    total_area_open_roofs,\n",
    "    access_area,\n",
    "    different_floors,\n",
    "    heat_installation,\n",
    "    heat_supply,\n",
    "    heat_supplement,\n",
    "    materials_with_asbestos,\n",
    "    materials_source,\n",
    "    conservation_value) \n",
    "    \n",
    "    VALUES(%s, %s, %s, %s, %s, %s, %s, %s, %s, %s, %s, %s, %s)\n",
    "    \n",
    "    ON CONFLICT ON CONSTRAINT buildings_pkey DO UPDATE SET (\n",
    "    bbr_id, \n",
    "    municipality_nr, \n",
    "    grund, \n",
    "    husnummer, \n",
    "    coord, \n",
    "    construction_year, \n",
    "    latest_renovation_year,\n",
    "    bbr_use_category, \n",
    "    built_area, \n",
    "    total_building_area, \n",
    "    n_floors, \n",
    "    wall_material,\n",
    "    sup_wall_material,\n",
    "    roof_material,\n",
    "    sup_roof_material,\n",
    "    used_area_under_roof,\n",
    "    used_basement_area,\n",
    "    commercial_area,\n",
    "    residential_area,\n",
    "    built_in_garage_area,\n",
    "    built_in_carport_area,\n",
    "    built_in_outhouse_area,\n",
    "    built_in_conservatory_area,\n",
    "    enclosed_covered_area,\n",
    "    waste_room_area,\n",
    "    other_area,\n",
    "    covered_area,\n",
    "    total_area_open_roofs,\n",
    "    access_area,\n",
    "    different_floors,\n",
    "    heat_installation,\n",
    "    heat_supply,\n",
    "    heat_supplement,\n",
    "    materials_with_asbestos,\n",
    "    materials_source,\n",
    "    conservation_value) =\n",
    "    \n",
    "    (EXCLUDED.bbr_id, \n",
    "    EXCLUDED.municipality_nr, \n",
    "    EXCLUDED.grund, \n",
    "    EXCLUDED.husnummer, \n",
    "    EXCLUDED.coord, \n",
    "    EXCLUDED.construction_year, \n",
    "    EXCLUDED.latest_renovation_year,\n",
    "    EXCLUDED.bbr_use_category, \n",
    "    EXCLUDED.built_area, \n",
    "    EXCLUDED.total_building_area, \n",
    "    EXCLUDED.n_floors, \n",
    "    EXCLUDED.wall_material,\n",
    "    EXCLUDED.sup_wall_material,\n",
    "    EXCLUDED.roof_material,\n",
    "    EXCLUDED.sup_roof_material,\n",
    "    EXCLUDED.used_area_under_roof,\n",
    "    EXCLUDED.used_basement_area,\n",
    "    EXCLUDED.commercial_area,\n",
    "    EXCLUDED.residential_area,\n",
    "    EXCLUDED.built_in_garage_area,\n",
    "    EXCLUDED.built_in_carport_area,\n",
    "    EXCLUDED.built_in_outhouse_area,\n",
    "    EXCLUDED.built_in_conservatory_area,\n",
    "    EXCLUDED.enclosed_covered_area,\n",
    "    EXCLUDED.waste_room_area,\n",
    "    EXCLUDED.other_area,\n",
    "    EXCLUDED.covered_area,\n",
    "    EXCLUDED.total_area_open_roofs,\n",
    "    EXCLUDED.access_area,\n",
    "    EXCLUDED.different_floors,\n",
    "    EXCLUDED.heat_installation,\n",
    "    EXCLUDED.heat_supply,\n",
    "    EXCLUDED.heat_supplement,\n",
    "    EXCLUDED.materials_with_asbestos,\n",
    "    EXCLUDED.materials_source,\n",
    "    EXCLUDED.conservation_value);\"\"\"\n",
    "    \n",
    "    connector = None\n",
    "    bbrid = None\n",
    "    \n",
    "    try:\n",
    "        # connect to the PostgreSQL database\n",
    "        connector = pg.connect(params)\n",
    "        # create a new cursor\n",
    "        cur = connector.cursor()\n",
    "        # execute the INSERT statement\n",
    "        cur.execute(sql, row_tuple)\n",
    "        # commit the changes to the database\n",
    "        connector.commit()\n",
    "        # close communication with the database\n",
    "        cur.close()\n",
    "        \n",
    "    except (Exception, pg.DatabaseError) as error:\n",
    "        print(error)\n",
    "        \n",
    "    finally:\n",
    "        if connector is not None:\n",
    "            connector.close()"
   ]
  },
  {
   "cell_type": "markdown",
   "id": "b29ada23",
   "metadata": {},
   "source": [
    "Note: it is possible to write a slightly simpler function that inserts all rows at once, using the *executemany* method instead of *execute*. However, that requires building a dictionary with all rows first - and we want to avoid this due to the size of the dataset."
   ]
  },
  {
   "cell_type": "markdown",
   "id": "74f1dc40",
   "metadata": {},
   "source": [
    "# 3) Retrieving values from the database"
   ]
  },
  {
   "cell_type": "markdown",
   "id": "8a8a73c2",
   "metadata": {},
   "source": [
    "Python has a very easy to use *json* package to read JSON files and convert them into Python objects. However, the *json* package works by loading the entire JSON file into memory before processing it. With a very large file like BBR, this will likely cause errors and crashes. Instead, we want to parse BBR iteratively using the *ijson* package. "
   ]
  },
  {
   "cell_type": "markdown",
   "id": "7dd37471",
   "metadata": {},
   "source": [
    "### Setup"
   ]
  },
  {
   "cell_type": "code",
   "execution_count": 14,
   "id": "d40de3b8",
   "metadata": {},
   "outputs": [],
   "source": [
    "import ijson # package to parse JSON iteratively "
   ]
  },
  {
   "cell_type": "code",
   "execution_count": 15,
   "id": "35d82cb4",
   "metadata": {},
   "outputs": [],
   "source": [
    "import reprlib # package to limit print size if you want to avoid very long prints. \n",
    "# If you have many very long prints, the notebook might crash when you open it later.\n",
    "# Tip: on Jupyter, press Esc then R then Y to reset a cell and delete its output."
   ]
  },
  {
   "cell_type": "code",
   "execution_count": 16,
   "id": "f4b0e9ed",
   "metadata": {},
   "outputs": [],
   "source": [
    "jsonfile='C:/Users/KJ35FA/Documents/BBR_Aktuelt_Totaludtraek_JSON_20221107180020.json' #Write the location of your JSON file here."
   ]
  },
  {
   "cell_type": "markdown",
   "id": "11f71a0c",
   "metadata": {},
   "source": [
    "### Parsing the JSON file"
   ]
  },
  {
   "cell_type": "markdown",
   "id": "7626129f",
   "metadata": {},
   "source": [
    "The *ijson parse* method reads the JSON file as a stream, without loading it all into memory. It scans through the JSON file, recording each event it encounters (events include the start and end of the record, each time a new path to a value is defined, and each time a new data point is recorded). For each event, it records the current location/path in the database (prefix), the nature of the event, and the corresponding value, if any."
   ]
  },
  {
   "cell_type": "markdown",
   "id": "2909cda8",
   "metadata": {},
   "source": [
    "The following function will parse iteratively through the JSON file, and record the parameters we're interested in. When a new building is encountered, existing parameters are inserted into the database and their values are cleared to record values for the new building. Note: it is important that the parameters we give as inputs to the function are written in the same way as in the JSON record, or they won't be recognized. "
   ]
  },
  {
   "cell_type": "code",
   "execution_count": 77,
   "id": "32fb05d0",
   "metadata": {},
   "outputs": [],
   "source": [
    "def retrieve_values(parameters,jsonfile):\n",
    "    jsondata = open(jsonfile, encoding='utf8')\n",
    "    parser = ijson.parse(jsondata)\n",
    "    building_dict=dict()\n",
    "    \n",
    "    for prefix, event, value in parser:\n",
    "        if 'BygningList.item.forretningshændelse' in prefix: \n",
    "            # This is the first parameter recorded in the JSON file for each building, so it indicates the start of a new building.\n",
    "            # Insert previously recorded values, if any:\n",
    "            if len(building_dict.values())>0:\n",
    "                insert_bbr_from_dict(building_dict)\n",
    "            #Reset the building dictionary to record values for the new building:\n",
    "            building_dict=dict()\n",
    "\n",
    "        elif 'BygningList.item.' in prefix:\n",
    "            n=0\n",
    "            # Iterate over all desired parameters until we find one that corresponds to the value we're reading (if any)\n",
    "            while n < len(parameters):\n",
    "                if parameters[n] in prefix:\n",
    "                    # If we find a matching parameter, record it and exit the loop\n",
    "                    building_dict[parameters[n]]=value\n",
    "                    n=len(parameters)\n",
    "                else:\n",
    "                    n+=1"
   ]
  },
  {
   "cell_type": "code",
   "execution_count": 17,
   "id": "181018ee",
   "metadata": {},
   "outputs": [],
   "source": [
    "def retrieve_values(parameters,jsonfile):\n",
    "    jsondata = open(jsonfile, encoding='utf8')\n",
    "    items = ijson.kvitems(jsondata, 'BygningList.item')\n",
    "    building_dict=dict()\n",
    "    \n",
    "    for param, value in items:\n",
    "        if param == 'forretningshændelse': \n",
    "            # This is the first parameter recorded in the JSON file for each building, so it indicates the start of a new building.\n",
    "            # Insert previously recorded values, if any:\n",
    "            if len(building_dict.values())>0:\n",
    "                insert_bbr_from_dict(building_dict)\n",
    "            # Reset the building dictionary to record values for the new building:\n",
    "            building_dict=dict()\n",
    "\n",
    "        elif param in parameters:\n",
    "            # If the parameter we're reading is one we're interested in, record it.\n",
    "            building_dict[param]=value\n"
   ]
  },
  {
   "cell_type": "markdown",
   "id": "9463bd8b",
   "metadata": {},
   "source": [
    "Note: Whenever we use the *ijson parse* method, we need to open the data file again to \"reset\" it. In other words, each occurence of *parser = ijson.parse(jsondata)* must be preceded by *jsondata = open(jsonfile)*. This is the case in the function above - but good to know if you need to parse the file again later."
   ]
  },
  {
   "cell_type": "markdown",
   "id": "6fb5d354",
   "metadata": {},
   "source": [
    "Now all we need to do is call the function we just defined."
   ]
  },
  {
   "cell_type": "code",
   "execution_count": null,
   "id": "96f6573e",
   "metadata": {},
   "outputs": [],
   "source": [
    "retrieve_values(parameters, jsonfile)"
   ]
  }
 ],
 "metadata": {
  "kernelspec": {
   "display_name": "Python 3 (ipykernel)",
   "language": "python",
   "name": "python3"
  },
  "language_info": {
   "codemirror_mode": {
    "name": "ipython",
    "version": 3
   },
   "file_extension": ".py",
   "mimetype": "text/x-python",
   "name": "python",
   "nbconvert_exporter": "python",
   "pygments_lexer": "ipython3",
   "version": "3.9.12"
  }
 },
 "nbformat": 4,
 "nbformat_minor": 5
}
