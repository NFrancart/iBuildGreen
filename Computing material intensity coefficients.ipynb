{
 "cells": [
  {
   "cell_type": "markdown",
   "id": "dea78cc7",
   "metadata": {},
   "source": [
    "# Computing material intensity coefficients"
   ]
  },
  {
   "cell_type": "markdown",
   "id": "58263140",
   "metadata": {},
   "source": [
    "This notebook deals with how to convert results from the model into material intensity coefficients for comparison with other studies."
   ]
  },
  {
   "cell_type": "markdown",
   "id": "9040fe5f",
   "metadata": {},
   "source": [
    "## Setup"
   ]
  },
  {
   "cell_type": "code",
   "execution_count": null,
   "id": "684ba46c",
   "metadata": {},
   "outputs": [],
   "source": [
    "import psycopg as pg\n",
    "import pandas as pd"
   ]
  },
  {
   "cell_type": "code",
   "execution_count": null,
   "id": "8355cf4e",
   "metadata": {},
   "outputs": [],
   "source": [
    "params='dbname=macrocomponents3 user=postgres password=19Ni93co44PG!'"
   ]
  },
  {
   "cell_type": "code",
   "execution_count": null,
   "id": "fc62d8d6",
   "metadata": {},
   "outputs": [],
   "source": [
    "material_types=['Metal','Concrete','Aggregates','Wood','Wool','Other','Glass','Cement_mortar','Gypsum_plaster','Clay']\n",
    "elements=['ext_wall','int_wall','floor','foundation','roof_cover','roof_structure','window','ridge_board', 'top_floor_ceiling', 'ground_slab']"
   ]
  },
  {
   "cell_type": "code",
   "execution_count": null,
   "id": "48e0fe66",
   "metadata": {},
   "outputs": [],
   "source": [
    "def run_sql (DBparameters,SQLcode):\n",
    "    try:\n",
    "        # connect to the PostgreSQL database\n",
    "        connector = pg.connect(DBparameters)\n",
    "\n",
    "        # create a new cursor\n",
    "        cur = connector.cursor()\n",
    "\n",
    "        # execute the SQL statement\n",
    "        cur.execute(SQLcode)\n",
    "\n",
    "        # commit the changes to the database\n",
    "        connector.commit()\n",
    "\n",
    "        # close communication with the database\n",
    "        cur.close()\n",
    "\n",
    "    except (Exception, pg.DatabaseError) as error:\n",
    "        print(error)\n",
    "\n",
    "    finally:\n",
    "        if connector is not None:\n",
    "            connector.close()"
   ]
  },
  {
   "cell_type": "markdown",
   "id": "d02bb720",
   "metadata": {},
   "source": [
    "## Block-wise Material intensity coefficients"
   ]
  },
  {
   "cell_type": "markdown",
   "id": "900640e1",
   "metadata": {},
   "source": [
    "This section computes block-wise material intensity coefficients in the same format as Lanau & Liu (2020) \"Developing an Urban Resource Cadaster for Circular Economy: A Case of Odense, Denmark\". Material intensity coefficients are calculated for the \"under-block\", corresponding to all underground elements, the \"vertical block\" corresponding to walls, the \"horizontal block\" corresponding to intermediate floors, and the \"over-block\" corresponding to the roof, attic, etc. The OB and UB MICs are calculated per m2 footprint, whereas the VB MIC is per m2 footprint and per floor, and the HB MIC per m2 of intermediate floors."
   ]
  },
  {
   "cell_type": "code",
   "execution_count": null,
   "id": "88f619eb",
   "metadata": {},
   "outputs": [],
   "source": [
    "def materials_per_element(material_types, elements):\n",
    "    SQL=\"\"\"CREATE TABLE IF NOT EXISTS materials_per_element (bbr_id varchar(50) PRIMARY KEY, \"\"\"\n",
    "    \n",
    "    for m in material_types:\n",
    "        for e in elements:\n",
    "            SQL+=m+'_'+e+' real, '\n",
    "    SQL=SQL[0:len(SQL)-2]+'); '\n",
    "    \n",
    "    SQL+=\"\"\"WITH t AS(\n",
    "    SELECT\n",
    "    rma.bbr_id,\n",
    "    rma.element,\n",
    "    rma.product,\n",
    "    weight,\n",
    "    material_type\n",
    "    FROM results_material_amounts rma\n",
    "    INNER JOIN products pr ON rma.product=pr.name,\n",
    "    LATERAL (SELECT (CASE WHEN unit='KG' THEN amount WHEN unit='M3' THEN amount*pr.density ELSE NULL END) AS weight) lt\n",
    "    )\n",
    "\n",
    "    SELECT\n",
    "    bbr_id,\n",
    "    SUM(weight) weightsum,\n",
    "    material_type,\n",
    "    element\n",
    "    INTO TEMP TABLE t2\n",
    "    FROM t\n",
    "    GROUP BY material_type, bbr_id, element\n",
    "    ORDER BY bbr_id;\n",
    "    \n",
    "    DELETE FROM materials_per_element;\n",
    "\n",
    "    \"\"\"\n",
    "    for m in material_types:\n",
    "        for e in elements:\n",
    "            SQL+=\"INSERT INTO materials_per_element(bbr_id, \"+m+'_'+e+\") SELECT bbr_id, weightsum FROM t2 WHERE material_type = '\"+m+\"' AND element = '\"+e+\"' ON CONFLICT ON CONSTRAINT materials_per_element_pkey DO UPDATE SET (bbr_id, \"+m+'_'+e+\") = (EXCLUDED.bbr_id, EXCLUDED.\"+m+'_'+e+\"); \"\n",
    "\n",
    "    try:\n",
    "        conn = pg.connect(params)\n",
    "        cur=conn.cursor()\n",
    "        \n",
    "        cur.execute(SQL)\n",
    "\n",
    "        conn.commit()\n",
    "        cur.close()\n",
    "        \n",
    "    except (Exception, pg.DatabaseError) as error:\n",
    "        print(error)\n",
    "    finally:\n",
    "        if conn is not None:\n",
    "            conn.close()     "
   ]
  },
  {
   "cell_type": "code",
   "execution_count": null,
   "id": "c508cceb",
   "metadata": {},
   "outputs": [],
   "source": [
    "materials_per_element(material_types, elements)"
   ]
  },
  {
   "cell_type": "code",
   "execution_count": null,
   "id": "4365097d",
   "metadata": {},
   "outputs": [],
   "source": [
    "def mics(material):\n",
    "    dic={'ob':[],'hb':[],'ub':[],'vb':[]}\n",
    "    index=[]\n",
    "    \n",
    "    SQL=\"\"\"SELECT \n",
    "    b.id_lokalid,\n",
    "    ob,\n",
    "    hb,\n",
    "    ub,\n",
    "    vb\n",
    "    FROM materials_per_element mpe\n",
    "    INNER JOIN buildings b ON b.id_lokalid=mpe.bbr_id,\n",
    "    LATERAL (SELECT (CASE WHEN (b.byg041BebyggetAreal>0 AND b.byg054AntalEtager>0) THEN (COALESCE(%s_ext_wall,0)+COALESCE(%s_int_wall,0)+COALESCE(%s_window,0))/(b.byg041BebyggetAreal*b.byg054AntalEtager) ELSE NULL END) AS vb) lvb,\n",
    "    LATERAL (SELECT (CASE WHEN (b.byg041BebyggetAreal>0) THEN (COALESCE(%s_roof_structure,0)+COALESCE(%s_roof_cover,0)+COALESCE(%s_ridge_board,0)+COALESCE(%s_top_floor_ceiling,0)+COALESCE(%s_top_floor_ceiling,0))/b.byg041BebyggetAreal ELSE NULL END) AS ob) lob,\n",
    "    LATERAL (SELECT (CASE WHEN (b.byg041BebyggetAreal>0) THEN (COALESCE(%s_foundation,0)+COALESCE(%s_ground_slab,0))/b.byg041BebyggetAreal ELSE NULL END) AS ub) lub,\n",
    "    LATERAL (SELECT (CASE WHEN (b.byg041BebyggetAreal>0 AND b.byg054AntalEtager>1) THEN COALESCE(%s_floor,0)/(b.byg041BebyggetAreal*(b.byg054AntalEtager-1)) ELSE NULL END) AS hb) lhb\n",
    "    ORDER BY id_lokalid ASC\"\"\" % (material,material,material,material,material,material,material,material,material,material,material)\n",
    "    \n",
    "   \n",
    "    try:\n",
    "        conn = pg.connect(params)\n",
    "        cur=conn.cursor()\n",
    "        \n",
    "        cur.execute(SQL)\n",
    "        \n",
    "        row=cur.fetchone()     \n",
    "              \n",
    "        while row is not None:\n",
    "            index.append(row[0])\n",
    "            n=1\n",
    "            for k in dic.keys():\n",
    "                dic[k].append(row[n])\n",
    "                n+=1\n",
    "\n",
    "            row=cur.fetchone()\n",
    "            \n",
    "        results=pd.DataFrame(dic,index)\n",
    "\n",
    "        conn.commit()\n",
    "        cur.close()\n",
    "        \n",
    "        return(results)\n",
    "        \n",
    "    except (Exception, pg.DatabaseError) as error:\n",
    "        print(error)\n",
    "    finally:\n",
    "        if conn is not None:\n",
    "            conn.close()   "
   ]
  },
  {
   "cell_type": "code",
   "execution_count": null,
   "id": "32081c5e",
   "metadata": {},
   "outputs": [],
   "source": [
    "m=mics('clay')"
   ]
  },
  {
   "cell_type": "code",
   "execution_count": null,
   "id": "40c76b9c",
   "metadata": {},
   "outputs": [],
   "source": [
    "m"
   ]
  },
  {
   "cell_type": "code",
   "execution_count": null,
   "id": "ac973bd8",
   "metadata": {},
   "outputs": [],
   "source": [
    "def all_mics(materials):\n",
    "    dic={}\n",
    "    index=[]\n",
    "\n",
    "    for m in materials:\n",
    "        ob=m+'_ob'\n",
    "        hb=m+'_hb'\n",
    "        ub=m+'_ub'    \n",
    "        vb=m+'_vb'\n",
    "    \n",
    "        dic[ob]=[]\n",
    "        dic[hb]=[]\n",
    "        dic[ub]=[]\n",
    "        dic[vb]=[]\n",
    "    \n",
    "        SQL=\"\"\"SELECT \n",
    "        b.id_lokalid,\n",
    "        ob,\n",
    "        hb,\n",
    "        ub,\n",
    "        vb\n",
    "        FROM materials_per_element mpe\n",
    "        INNER JOIN buildings b ON b.id_lokalid=mpe.bbr_id,\n",
    "        LATERAL (SELECT (CASE WHEN (b.byg041BebyggetAreal>0 AND b.byg054AntalEtager>0) THEN (COALESCE(%s_ext_wall,0)+COALESCE(%s_int_wall,0)+COALESCE(%s_window,0))/(b.byg041BebyggetAreal*b.byg054AntalEtager) ELSE NULL END) AS vb) lvb,\n",
    "        LATERAL (SELECT (CASE WHEN (b.byg041BebyggetAreal>0) THEN (COALESCE(%s_roof_structure,0)+COALESCE(%s_roof_cover,0)+COALESCE(%s_ridge_board,0)+COALESCE(%s_top_floor_ceiling,0)+COALESCE(%s_top_floor_ceiling,0))/b.byg041BebyggetAreal ELSE NULL END) AS ob) lob,\n",
    "        LATERAL (SELECT (CASE WHEN (b.byg041BebyggetAreal>0) THEN (COALESCE(%s_foundation,0)+COALESCE(%s_ground_slab,0))/b.byg041BebyggetAreal ELSE NULL END) AS ub) lub,\n",
    "        LATERAL (SELECT (CASE WHEN (b.byg041BebyggetAreal>0 AND b.byg054AntalEtager>1) THEN COALESCE(%s_floor,0)/(b.byg041BebyggetAreal*(b.byg054AntalEtager-1)) ELSE NULL END) AS hb) lhb\n",
    "        ORDER BY id_lokalid ASC\"\"\" % (m,m,m,m,m,m,m,m,m,m,m)\n",
    "\n",
    "\n",
    "        try:\n",
    "            conn = pg.connect(params, row_factory=pg.rows.dict_row)\n",
    "            cur=conn.cursor()\n",
    "\n",
    "            cur.execute(SQL)\n",
    "\n",
    "            row=cur.fetchone()     \n",
    "\n",
    "            while row is not None:\n",
    "                if m==materials[0]:\n",
    "                    index.append(row['id_lokalid'])\n",
    "\n",
    "                dic[ob].append(row['ob'])\n",
    "                dic[hb].append(row['hb'])\n",
    "                dic[ub].append(row['ub'])\n",
    "                dic[vb].append(row['vb'])\n",
    "\n",
    "                row=cur.fetchone()\n",
    "\n",
    "            cur.close()\n",
    "\n",
    "        except (Exception, pg.DatabaseError) as error:\n",
    "            print(error)\n",
    "        finally:\n",
    "            if conn is not None:\n",
    "                conn.close()           \n",
    "            \n",
    "    results=pd.DataFrame(dic,index)\n",
    "    return(results)"
   ]
  },
  {
   "cell_type": "code",
   "execution_count": null,
   "id": "50218af4",
   "metadata": {},
   "outputs": [],
   "source": [
    "All_MICs=all_mics(material_types)"
   ]
  },
  {
   "cell_type": "markdown",
   "id": "02e0e0c0",
   "metadata": {},
   "source": [
    "#### Reading data from SDU model:"
   ]
  },
  {
   "cell_type": "code",
   "execution_count": null,
   "id": "a7fae0f4",
   "metadata": {},
   "outputs": [],
   "source": [
    "SDU=pd.read_csv('C:/Users/KJ35FA/Downloads/bhuvans data.csv', sep=';')"
   ]
  },
  {
   "cell_type": "code",
   "execution_count": null,
   "id": "13aa9441",
   "metadata": {},
   "outputs": [],
   "source": [
    "def lowercase(str):\n",
    "    return str.lower()"
   ]
  },
  {
   "cell_type": "code",
   "execution_count": null,
   "id": "ab354b5c",
   "metadata": {},
   "outputs": [],
   "source": [
    "SDU['bygning_id']=SDU['bygning_id'].transform(lowercase)"
   ]
  },
  {
   "cell_type": "code",
   "execution_count": null,
   "id": "fa8612fd",
   "metadata": {},
   "outputs": [],
   "source": [
    "SDU.index=[x.lower() for x in SDU['bygning_id']]"
   ]
  },
  {
   "cell_type": "markdown",
   "id": "4cf84a3c",
   "metadata": {},
   "source": [
    "#### Computing MICs per archetype"
   ]
  },
  {
   "cell_type": "code",
   "execution_count": null,
   "id": "cb16f772",
   "metadata": {},
   "outputs": [],
   "source": [
    "AMSDU=pd.merge(All_MICs, SDU, left_index=True, right_index=True, how='inner')\n"
   ]
  },
  {
   "cell_type": "code",
   "execution_count": null,
   "id": "b8f62876",
   "metadata": {},
   "outputs": [],
   "source": [
    "AMSDU.describe()"
   ]
  },
  {
   "cell_type": "code",
   "execution_count": null,
   "id": "08d25e05",
   "metadata": {},
   "outputs": [],
   "source": [
    "archetypes=list(dict.fromkeys(AMSDU['archetype']))\n",
    "archetypes"
   ]
  },
  {
   "cell_type": "code",
   "execution_count": null,
   "id": "424a5ad7",
   "metadata": {},
   "outputs": [],
   "source": [
    "years=[0, 1850, 1930, 1950, 1960, 1972, 1978, 1998, 2006, 2010, 2100]"
   ]
  },
  {
   "cell_type": "code",
   "execution_count": null,
   "id": "a9114910",
   "metadata": {},
   "outputs": [],
   "source": [
    "mic_dic={}\n",
    "\n",
    "for a in archetypes:\n",
    "    for n in range(1,len(years)):\n",
    "        ymax=str(years[n])\n",
    "        ymin=str(years[n-1])\n",
    "        name=a+ymax\n",
    "        q='(archetype == \"'+a+'\") & (opfoerelse_aar <= '+ymax+') & (opfoerelse_aar > '+ymin+')'\n",
    "        mic_dic[name]=AMSDU.query(q)"
   ]
  },
  {
   "cell_type": "code",
   "execution_count": null,
   "id": "53d21c69",
   "metadata": {},
   "outputs": [],
   "source": [
    "mic_dic['SFH1850']"
   ]
  },
  {
   "cell_type": "code",
   "execution_count": null,
   "id": "eeb5dfa8",
   "metadata": {},
   "outputs": [],
   "source": [
    "mic_means={}\n",
    "for k in mic_dic.keys():\n",
    "    means=mic_dic[k].mean(numeric_only=True)\n",
    "    mic_means[k]=means"
   ]
  },
  {
   "cell_type": "code",
   "execution_count": null,
   "id": "4910d9e9",
   "metadata": {},
   "outputs": [],
   "source": [
    "mic_meds={}\n",
    "for k in mic_dic.keys():\n",
    "    meds=mic_dic[k].median(numeric_only=True)\n",
    "    mic_meds[k]=meds"
   ]
  },
  {
   "cell_type": "code",
   "execution_count": null,
   "id": "de32051a",
   "metadata": {},
   "outputs": [],
   "source": [
    "mic_10={}\n",
    "for k in mic_dic.keys():\n",
    "    q=mic_dic[k].quantile(0.1)\n",
    "    mic_10[k]=q"
   ]
  },
  {
   "cell_type": "code",
   "execution_count": null,
   "id": "388cedab",
   "metadata": {},
   "outputs": [],
   "source": [
    "mic_90={}\n",
    "for k in mic_dic.keys():\n",
    "    q=mic_dic[k].quantile(0.9)\n",
    "    mic_90[k]=q"
   ]
  },
  {
   "cell_type": "code",
   "execution_count": null,
   "id": "637b7491",
   "metadata": {},
   "outputs": [],
   "source": [
    "mic_std={}\n",
    "for k in mic_dic.keys():\n",
    "    std=mic_dic[k].std(numeric_only=True)\n",
    "    mic_std[k]=std"
   ]
  },
  {
   "cell_type": "code",
   "execution_count": null,
   "id": "4b66bef2",
   "metadata": {},
   "outputs": [],
   "source": [
    "MICS={}\n",
    "for k in mic_dic.keys():\n",
    "    d={}\n",
    "    d['mean']=mic_means[k]\n",
    "    d['median']=mic_meds[k]\n",
    "    d['10q']=mic_10[k]\n",
    "    d['90q']=mic_90[k]\n",
    "    d['std']=mic_std[k]\n",
    "    MICS[k]=d"
   ]
  },
  {
   "cell_type": "code",
   "execution_count": null,
   "id": "6e301341",
   "metadata": {},
   "outputs": [],
   "source": [
    "MICS['SFH1850']['mean']"
   ]
  },
  {
   "cell_type": "code",
   "execution_count": null,
   "id": "585192a0",
   "metadata": {},
   "outputs": [],
   "source": [
    "mics_list=[]\n",
    "for k in MICS.keys():\n",
    "    df=pd.DataFrame({k:MICS[k]['mean']})\n",
    "    mics_list.append(df)\n",
    "mics_table=pd.concat(mics_list, axis=1)"
   ]
  },
  {
   "cell_type": "code",
   "execution_count": null,
   "id": "879dfc4e",
   "metadata": {},
   "outputs": [],
   "source": [
    "mics_table.to_excel('C:/Users/KJ35FA/Documents/Python/MICS0603.xlsx')"
   ]
  },
  {
   "cell_type": "markdown",
   "id": "25f02265",
   "metadata": {},
   "source": [
    "# Visualization"
   ]
  },
  {
   "cell_type": "code",
   "execution_count": null,
   "id": "20dbd4b2",
   "metadata": {},
   "outputs": [],
   "source": [
    "import numpy as np\n",
    "import matplotlib.pyplot as plt"
   ]
  },
  {
   "cell_type": "code",
   "execution_count": null,
   "id": "7e16f2eb",
   "metadata": {},
   "outputs": [],
   "source": [
    "boxplot=AMSDU.boxplot(column=['Clay_vb','Concrete_vb','Wood_vb'])"
   ]
  },
  {
   "cell_type": "code",
   "execution_count": null,
   "id": "508eab1d",
   "metadata": {},
   "outputs": [],
   "source": [
    "boxplot.figure"
   ]
  },
  {
   "cell_type": "code",
   "execution_count": null,
   "id": "0b579090",
   "metadata": {},
   "outputs": [],
   "source": [
    "import seaborn as sns"
   ]
  },
  {
   "cell_type": "code",
   "execution_count": null,
   "id": "f62df02d",
   "metadata": {},
   "outputs": [],
   "source": [
    "kde=sns.displot(AMSDU,x='Concrete_vb')"
   ]
  },
  {
   "cell_type": "code",
   "execution_count": null,
   "id": "890ae2b8",
   "metadata": {},
   "outputs": [],
   "source": [
    "kde.set(ylim=(0,350))"
   ]
  },
  {
   "cell_type": "code",
   "execution_count": null,
   "id": "497a2d0f",
   "metadata": {},
   "outputs": [],
   "source": [
    "kde.figure"
   ]
  },
  {
   "cell_type": "markdown",
   "id": "7fe615b0",
   "metadata": {},
   "source": [
    "## Material intensity coefficients per m2"
   ]
  },
  {
   "cell_type": "markdown",
   "id": "235c6467",
   "metadata": {},
   "source": [
    "This section computes MICs at the building level in kg material per m2 of floor area. This is a common indicator, useful for comparison with previous studies."
   ]
  },
  {
   "cell_type": "code",
   "execution_count": null,
   "id": "12afc618",
   "metadata": {},
   "outputs": [],
   "source": [
    "def all_mics2(materials):\n",
    "    dic={}\n",
    "    for m in materials:\n",
    "        dic[m]=[]\n",
    "    index=[]\n",
    "    SQL=\"SELECT mpe.*, b.byg038SamletBygningsareal FROM materials_per_element mpe INNER JOIN buildings b ON b.id_lokalid=mpe.bbr_id ORDER BY id_lokalid ASC\"\n",
    "    conn=None \n",
    "    \n",
    "    try:\n",
    "        conn = pg.connect(params, row_factory=pg.rows.dict_row)\n",
    "        cur=conn.cursor()\n",
    "\n",
    "        cur.execute(SQL)\n",
    "\n",
    "        row=cur.fetchone()\n",
    "        \n",
    "        while row is not None:\n",
    "\n",
    "            for m in materials:\n",
    "                material_amount=0    \n",
    "                if m==materials[0]:\n",
    "                    index.append(row['bbr_id'])\n",
    "                    \n",
    "                for k in row.keys():\n",
    "                    if m in k:\n",
    "                    material_amount+=row[k]    \n",
    "\n",
    "                dic[m].append(material_amount/row['byg038SamletBygningsareal'])\n",
    "\n",
    "            row=cur.fetchone()\n",
    "\n",
    "            cur.close()\n",
    "\n",
    "        except (Exception, pg.DatabaseError) as error:\n",
    "            print(error)\n",
    "        finally:\n",
    "            if conn is not None:\n",
    "                conn.close()           \n",
    "            \n",
    "    results=pd.DataFrame(dic,index)\n",
    "    return(results)"
   ]
  }
 ],
 "metadata": {
  "kernelspec": {
   "display_name": "Python 3 (ipykernel)",
   "language": "python",
   "name": "python3"
  },
  "language_info": {
   "codemirror_mode": {
    "name": "ipython",
    "version": 3
   },
   "file_extension": ".py",
   "mimetype": "text/x-python",
   "name": "python",
   "nbconvert_exporter": "python",
   "pygments_lexer": "ipython3",
   "version": "3.9.12"
  }
 },
 "nbformat": 4,
 "nbformat_minor": 5
}
