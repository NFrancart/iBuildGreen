{
 "cells": [
  {
   "cell_type": "markdown",
   "id": "eb465645",
   "metadata": {},
   "source": [
    "# Mapping components from the iBuildGreen database to LCAbyg constructions and products"
   ]
  },
  {
   "cell_type": "markdown",
   "id": "a072f397",
   "metadata": {},
   "source": [
    "This notebook shows how components in the iBuildGreen database (i.e. types of roofs, external walls, etc) are linked with constructions and products from LCAbyg. LCAbyg is a Danish software tool for building LCA, freely accessible at https://lcabyg.dk/en/ <br>\n",
    "Using LCAbyg is useful because it provides a user-friendly interface to create and modify components, as well as an already existing database of constructions and products. Furthermore, ensuring compatibility with LCAbyg is a safe choice: it will allow us to link the two programs more closely in the future, to use LCAbyg to perform environmental calculations in iBuildGreen, to also import data on \"stages\" from LCAbyg if needed, etc."
   ]
  },
  {
   "cell_type": "markdown",
   "id": "e5dd49aa",
   "metadata": {},
   "source": [
    "In LCAbyg, buildings are defined as sets of \"elements\". Each element is made of \"constructions\", and each construction is made of \"products\". Each product is then described as a set of LCA \"stages\". In this notebook, we will only be importing \"construction\" and \"products\" for now. We will link each iBuildGreen macrocomponent with one or several constructions, and each construction with one or several products."
   ]
  },
  {
   "cell_type": "markdown",
   "id": "725fe883",
   "metadata": {},
   "source": [
    "This notebook requires access to JSON files containing all constructions and products used in LCAbyg. If these files are not readily available, they can be created manually via LCAbyg, although this is time-consuming. This requires creating a new project in LCAbyg, adding manually to that project all possible constructions and products, and finally exporting the project as a JSON folder. In this case, it might be better to only focus on the constructions and products that are directly needed in the iBuildGreen database."
   ]
  },
  {
   "cell_type": "markdown",
   "id": "92fad19d",
   "metadata": {},
   "source": [
    "# Setup"
   ]
  },
  {
   "cell_type": "code",
   "execution_count": null,
   "id": "7016dccb",
   "metadata": {},
   "outputs": [],
   "source": [
    "import json\n",
    "import psycopg as pg\n",
    "with open('database_parameters.txt','r') as f: # Text file containing parameters to connect to the database\n",
    "    params=f.read()\n",
    "    f.close()"
   ]
  },
  {
   "cell_type": "markdown",
   "id": "5781121d",
   "metadata": {},
   "source": [
    "The following generic function is used to compute SQL code in Python and interact with the PostgresQL database:"
   ]
  },
  {
   "cell_type": "code",
   "execution_count": null,
   "id": "d147ca7b",
   "metadata": {},
   "outputs": [],
   "source": [
    "def run_sql (DBparameters,SQLcode):\n",
    "    try:\n",
    "        # connect to the PostgreSQL database\n",
    "        connector = pg.connect(DBparameters)\n",
    "\n",
    "        # create a new cursor\n",
    "        cur = connector.cursor()\n",
    "\n",
    "        # execute the SQL statement\n",
    "        cur.execute(SQLcode)\n",
    "\n",
    "        # commit the changes to the database\n",
    "        connector.commit()\n",
    "\n",
    "        # close communication with the database\n",
    "        cur.close()\n",
    "\n",
    "    except (Exception, pg.DatabaseError) as error:\n",
    "        print(error)\n",
    "\n",
    "    finally:\n",
    "        if connector is not None:\n",
    "            connector.close()"
   ]
  },
  {
   "cell_type": "markdown",
   "id": "fd9db823",
   "metadata": {},
   "source": [
    "# Constructions"
   ]
  },
  {
   "cell_type": "markdown",
   "id": "e0a61d87",
   "metadata": {},
   "source": [
    "This section shows how to import \"constructions\" from LCAbyg into the database. First, we need to read the json file containing data on these constructions."
   ]
  },
  {
   "cell_type": "code",
   "execution_count": null,
   "id": "f127492b",
   "metadata": {},
   "outputs": [],
   "source": [
    "# Write here the location of the LCAbyg \"constructions\" json file on your computer\n",
    "with open('C:/.../LCAbyg/constructions.json') as json_data: # Write the location of the LCAbyg \"constructions\" file here\n",
    "    const = json.load(json_data) # Load LCAbyg constructions"
   ]
  },
  {
   "cell_type": "code",
   "execution_count": null,
   "id": "d972368a",
   "metadata": {},
   "outputs": [],
   "source": [
    "for c in const: # For information - display the names of all constructions\n",
    "    for key in c.keys():        \n",
    "        if key=='Node':\n",
    "            name=c[key]['Construction']['name']['English']\n",
    "            print(name)        "
   ]
  },
  {
   "cell_type": "markdown",
   "id": "ddd03007",
   "metadata": {},
   "source": [
    "In iBuildGreen database, we leave open the possibility that each macrocomponent (e.g. external wall type) could be linked with one or several LCAbyg constructions. So we insert LCAbyg constructions into a separate table, called \"subcomponents\". Later, we will link macrocomponents with the subcomponents table."
   ]
  },
  {
   "cell_type": "markdown",
   "id": "8ea6c1a5",
   "metadata": {},
   "source": [
    "First, we define a function to insert items in the subcomponents table."
   ]
  },
  {
   "cell_type": "code",
   "execution_count": null,
   "id": "587e10a7",
   "metadata": {},
   "outputs": [],
   "source": [
    "def insert_subcomponent(list_of_rows):\n",
    "    sql = \"INSERT INTO subcomponents(lcabyg_id, name, unit, layer, comment) VALUES(%s, %s, %s, %s, %s) ON CONFLICT ON CONSTRAINT subcomponents_pkey DO UPDATE SET (lcabyg_id, name, unit, layer, comment) = (EXCLUDED.lcabyg_id, EXCLUDED.name, EXCLUDED.unit, EXCLUDED.layer, EXCLUDED.comment);\"\n",
    "    connector = None\n",
    "    bbrid = None\n",
    "    try:\n",
    "        # connect to the PostgreSQL database\n",
    "        connector = pg.connect(params)\n",
    "        # create a new cursor\n",
    "        cur = connector.cursor()\n",
    "        # execute the INSERT statement\n",
    "        cur.executemany(sql, list_of_rows)\n",
    "        # commit the changes to the database\n",
    "        connector.commit()\n",
    "        # close communication with the database\n",
    "        cur.close()\n",
    "    except (Exception, pg.DatabaseError) as error:\n",
    "        print(error)\n",
    "    finally:\n",
    "        if connector is not None:\n",
    "            connector.close()"
   ]
  },
  {
   "cell_type": "markdown",
   "id": "7a1f1c75",
   "metadata": {},
   "source": [
    "Then, we retrieve our subcomponents from the imported json object, as a list:"
   ]
  },
  {
   "cell_type": "code",
   "execution_count": null,
   "id": "e76f76e9",
   "metadata": {},
   "outputs": [],
   "source": [
    "list_of_const=[]\n",
    "\n",
    "for c in const:\n",
    "    for key in c.keys():        \n",
    "        if key=='Node':\n",
    "            ID=c[key]['Construction']['id']\n",
    "            name=c[key]['Construction']['name']['English']\n",
    "            unit=c[key]['Construction']['unit']\n",
    "            layer=c[key]['Construction']['layer']\n",
    "            comment=c[key]['Construction']['comment']['Danish']\n",
    "            list_of_const.append((ID,name,unit,layer,comment))"
   ]
  },
  {
   "cell_type": "markdown",
   "id": "5ee35d06",
   "metadata": {},
   "source": [
    "Finally, we insert this list of rows into the database using the function we just defined:"
   ]
  },
  {
   "cell_type": "code",
   "execution_count": null,
   "id": "21d5557c",
   "metadata": {},
   "outputs": [],
   "source": [
    "insert_subcomponent(list_of_const)"
   ]
  },
  {
   "cell_type": "markdown",
   "id": "f2285a8f",
   "metadata": {},
   "source": [
    "# Products"
   ]
  },
  {
   "cell_type": "markdown",
   "id": "b9f50b79",
   "metadata": {},
   "source": [
    "As above, we start by importing the json file containing data on LCAbyg products:"
   ]
  },
  {
   "cell_type": "code",
   "execution_count": null,
   "id": "998868a7",
   "metadata": {},
   "outputs": [],
   "source": [
    "with open('C:/.../LCAbyg/products.json') as json_data: # Write the location of the LCAbyg \"products\" file here\n",
    "    prod = json.load(json_data) "
   ]
  },
  {
   "cell_type": "code",
   "execution_count": null,
   "id": "4fcc8251",
   "metadata": {},
   "outputs": [],
   "source": [
    "for c in prod: # For information - display the names of all products\n",
    "    for k,p in c.items():        \n",
    "         print(k,p)"
   ]
  },
  {
   "cell_type": "markdown",
   "id": "744d1825",
   "metadata": {},
   "source": [
    "Then we define a function to insert products into the database:"
   ]
  },
  {
   "cell_type": "code",
   "execution_count": null,
   "id": "367d35eb",
   "metadata": {},
   "outputs": [],
   "source": [
    "def insert_product(list_of_prods):\n",
    "    sql = \"INSERT INTO products(lcabyg_id, name, comment) VALUES(%s, %s, %s) ON CONFLICT ON CONSTRAINT products_pkey DO UPDATE SET (lcabyg_id, name, comment) = (EXCLUDED.lcabyg_id, EXCLUDED.name, EXCLUDED.comment);\"\n",
    "    connector = None\n",
    "    bbrid = None\n",
    "    try:\n",
    "        # connect to the PostgreSQL database\n",
    "        connector = pg.connect(params)\n",
    "        # create a new cursor\n",
    "        cur = connector.cursor()\n",
    "        # execute the INSERT statement\n",
    "        cur.executemany(sql, list_of_prods)\n",
    "        # commit the changes to the database\n",
    "        connector.commit()\n",
    "        # close communication with the database\n",
    "        cur.close()\n",
    "    except (Exception, pg.DatabaseError) as error:\n",
    "        print(error)\n",
    "    finally:\n",
    "        if connector is not None:\n",
    "            connector.close()"
   ]
  },
  {
   "cell_type": "markdown",
   "id": "9c549f17",
   "metadata": {},
   "source": [
    "Finally we retrieve information about products from the json object into a list, and we insert this list using the function above."
   ]
  },
  {
   "cell_type": "code",
   "execution_count": null,
   "id": "c6a31be8",
   "metadata": {},
   "outputs": [],
   "source": [
    "list_of_prods=[]\n",
    "for p in prod:\n",
    "    for key in p.keys():        \n",
    "        if key=='Node':\n",
    "            ID=p[key]['Product']['id']\n",
    "            name=p[key]['Product']['name']['English']\n",
    "            comment=p[key]['Product']['comment']\n",
    "            list_of_prods.append((ID,name,comment))"
   ]
  },
  {
   "cell_type": "code",
   "execution_count": null,
   "id": "cf92970e",
   "metadata": {},
   "outputs": [],
   "source": [
    "insert_product(list_of_prods)"
   ]
  },
  {
   "cell_type": "markdown",
   "id": "f5a79b7d",
   "metadata": {},
   "source": [
    "# Mapping table"
   ]
  },
  {
   "cell_type": "markdown",
   "id": "7c0144d5",
   "metadata": {},
   "source": [
    "We have just imported constructions and products into the database, but for now we haven't imported any information on how the two are linked together: we don't know which products are in which constructions. We will now solve this by filling a mapping table \"subcomponents_to_products\". Each row of the mapping table will indicate the id of a construction, the id of a product, and the amount of this particular product found in this particular construction."
   ]
  },
  {
   "cell_type": "markdown",
   "id": "fc3868ea",
   "metadata": {},
   "source": [
    "We start by clearing the mapping table if it wasn't already empty:"
   ]
  },
  {
   "cell_type": "code",
   "execution_count": null,
   "id": "e2df55bd",
   "metadata": {},
   "outputs": [],
   "source": [
    "run_sql(params,\"DELETE FROM subcomponents_to_products\")"
   ]
  },
  {
   "cell_type": "markdown",
   "id": "2b5fe76d",
   "metadata": {},
   "source": [
    "Links between constructions and products are recorded in the LCAbyg \"constructions\" json file. They are objects of type \"Edge\". We can start by retrieving these edges from the \"constructions\" json file:"
   ]
  },
  {
   "cell_type": "code",
   "execution_count": null,
   "id": "fa1e0716",
   "metadata": {},
   "outputs": [],
   "source": [
    "list_of_edges=[]\n",
    "for c in const:\n",
    "    for key in c.keys():        \n",
    "        if key=='Edge':\n",
    "            ID=c[key][0]['ConstructionToProduct']['id']\n",
    "            amount=c[key][0]['ConstructionToProduct']['amount']\n",
    "            unit=c[key][0]['ConstructionToProduct']['unit']\n",
    "            lifespan=c[key][0]['ConstructionToProduct']['lifespan']\n",
    "            const_id=c[key][1]\n",
    "            prod_id=c[key][2]\n",
    "            list_of_edges.append((ID,const_id,prod_id,amount,unit,lifespan))"
   ]
  },
  {
   "cell_type": "markdown",
   "id": "29935860",
   "metadata": {},
   "source": [
    "Then, as above, we define a function to insert elements into the mapping table:"
   ]
  },
  {
   "cell_type": "code",
   "execution_count": null,
   "id": "f77c9e29",
   "metadata": {},
   "outputs": [],
   "source": [
    "def map_component_product(list_of_edges):\n",
    "    sql = \"INSERT INTO subcomponents_to_products(id, subcomponent_id, product_id, amount, unit, lifespan) VALUES(%s, %s, %s, %s, %s, %s) ON CONFLICT ON CONSTRAINT subcomponents_to_products_pkey DO UPDATE SET (id, subcomponent_id, product_id, amount, unit, lifespan) = (EXCLUDED.id, EXCLUDED.subcomponent_id, EXCLUDED.product_id, EXCLUDED.amount, EXCLUDED.unit, EXCLUDED.lifespan);\"\n",
    "    try:\n",
    "        # connect to the PostgreSQL database\n",
    "        connector = pg.connect(params)\n",
    "        \n",
    "        # fetch construction ids\n",
    "        cur_const = connector.cursor()\n",
    "        cur_const.execute('SELECT lcabyg_id FROM subcomponents')\n",
    "        const_ids=[]\n",
    "        for i in cur_const.fetchall():\n",
    "            const_ids.append(i[0])\n",
    "            \n",
    "        # fetch product ids       \n",
    "        cur_prod = connector.cursor()\n",
    "        cur_prod.execute('SELECT lcabyg_id FROM products')\n",
    "        prod_ids=[]\n",
    "        for i in cur_prod.fetchall():\n",
    "            prod_ids.append(i[0])\n",
    "        \n",
    "        # checking for foreign key constraints\n",
    "        # The LCAbyg edges may include references to products or constructions that are not recorded in the respective files,\n",
    "        # for instance because a product has been deleted but the corresponding edge hasn't. We need to deal with these cases separately,\n",
    "        # otherwise the insertion query will raise foreign key constraints (we are trying to insert a row referring to products that do not exist)\n",
    "        \n",
    "        valid_edges=[]\n",
    "        missing_subcomponents=[]\n",
    "        missing_products=[]\n",
    "        for edge in list_of_edges:\n",
    "            if edge[1] in const_ids and edge[2] in prod_ids:\n",
    "                valid_edges.append(edge)\n",
    "            if edge[1] not in const_ids:\n",
    "                missing_subcomponents.append((edge[1],))\n",
    "            if edge[2] not in prod_ids:\n",
    "                missing_products.append((edge[2],))\n",
    "                      \n",
    "        # insert missing subcomponents\n",
    "        cur = connector.cursor()\n",
    "        sql_const = \"INSERT INTO subcomponents(lcabyg_id, name) VALUES(%s, 'missing subcomponent') ON CONFLICT ON CONSTRAINT subcomponents_pkey DO NOTHING\"\n",
    "        cur.executemany(sql_const, missing_subcomponents)\n",
    "        \n",
    "        # insert missing products\n",
    "        sql_prod = \"INSERT INTO products(lcabyg_id, name) VALUES(%s, 'missing product') ON CONFLICT ON CONSTRAINT products_pkey DO NOTHING\"\n",
    "        cur.executemany(sql_prod, missing_products)\n",
    "        \n",
    "        # insert edges in mapping table\n",
    "        cur.executemany(sql, list_of_edges)\n",
    "        \n",
    "        # commit the changes to the database\n",
    "        connector.commit()\n",
    "        # close communication with the database\n",
    "        cur.close()\n",
    "        cur_const.close()\n",
    "        cur_prod.close()\n",
    "    except (Exception, pg.DatabaseError) as error:\n",
    "        print(error)\n",
    "    finally:\n",
    "        if connector is not None:\n",
    "            connector.close()"
   ]
  },
  {
   "cell_type": "markdown",
   "id": "e4d125f2",
   "metadata": {},
   "source": [
    "Finally we insert the list of edges we just retrieved:"
   ]
  },
  {
   "cell_type": "code",
   "execution_count": null,
   "id": "c9faa0b1",
   "metadata": {},
   "outputs": [],
   "source": [
    "map_component_product(list_of_edges)"
   ]
  },
  {
   "cell_type": "markdown",
   "id": "1d562ca3",
   "metadata": {},
   "source": [
    "# Handmade components"
   ]
  },
  {
   "cell_type": "markdown",
   "id": "2613044b",
   "metadata": {},
   "source": [
    "Because LCAbyg did not include appropriate constructions and products to describe all iBuildGreen macrocomponents, additional constructions and products were added manually. To preserve compatibility with LCAbyg, the constructions and products were created in LCAbyg, exported into a json file, and then imported into the database as previously:"
   ]
  },
  {
   "cell_type": "code",
   "execution_count": null,
   "id": "715b2398",
   "metadata": {},
   "outputs": [],
   "source": [
    "with open('C:/Users/KJ35FA/Documents/ibuildgreen_data.json') as json_data: # Write the location of the \"ibuildgreen_data\" file here\n",
    "    byhand = json.load(json_data) \n",
    "\n",
    "list_prods_byhand=[]\n",
    "for p in byhand:\n",
    "    for key in p.keys():        \n",
    "        if key=='Node':\n",
    "            if 'Product' in p[key].keys():\n",
    "                ID=p[key]['Product']['id']\n",
    "                name=p[key]['Product']['name']['English']\n",
    "                comment=p[key]['Product']['comment']['English']\n",
    "                list_prods_byhand.append((ID,name,comment)) \n",
    "\n",
    "    \n",
    "list_comp_byhand=[]\n",
    "for c in byhand:\n",
    "    for key in c.keys():        \n",
    "        if key=='Node':\n",
    "            if 'Construction' in c[key].keys():\n",
    "                ID=c[key]['Construction']['id']\n",
    "                name=c[key]['Construction']['name']['English']\n",
    "                unit=c[key]['Construction']['unit']\n",
    "                comment=c[key]['Construction']['comment']['Danish']\n",
    "                if 'layer' in c[key]['Construction'].keys():\n",
    "                    layer=c[key]['Construction']['layer']\n",
    "                else:\n",
    "                    layer=None\n",
    "                list_comp_byhand.append((ID,name,unit,layer,comment))\n",
    "    \n",
    "list_edges_byhand=[]\n",
    "for c in byhand:\n",
    "    for key in c.keys():        \n",
    "        if key=='Edge':\n",
    "            if 'ConstructionToProduct' in c[key][0].keys():\n",
    "                ID=c[key][0]['ConstructionToProduct']['id']\n",
    "                amount=c[key][0]['ConstructionToProduct']['amount']\n",
    "                unit=c[key][0]['ConstructionToProduct']['unit']\n",
    "                lifespan=c[key][0]['ConstructionToProduct']['lifespan']\n",
    "                const_id=c[key][1]\n",
    "                prod_id=c[key][2]\n",
    "                list_edges_byhand.append((ID,const_id,prod_id,amount,unit,lifespan))\n"
   ]
  },
  {
   "cell_type": "code",
   "execution_count": null,
   "id": "8af178c9",
   "metadata": {},
   "outputs": [],
   "source": [
    "insert_product(list_prods_byhand)\n",
    "insert_subcomponent(list_comp_byhand)"
   ]
  },
  {
   "cell_type": "code",
   "execution_count": null,
   "id": "5f2c00ed",
   "metadata": {},
   "outputs": [],
   "source": [
    "map_component_product(list_edges_byhand)"
   ]
  },
  {
   "cell_type": "markdown",
   "id": "ac5868b5",
   "metadata": {},
   "source": [
    "# Mapping iBuildGreen macrocomponents to subcomponents/constructions"
   ]
  },
  {
   "cell_type": "markdown",
   "id": "85d91f00",
   "metadata": {},
   "source": [
    "The following code establishes the link between iBuildGreen macrocomponents and LCAbyg subcomponents in the database. This has to be established manually."
   ]
  },
  {
   "cell_type": "code",
   "execution_count": null,
   "id": "85a7abd2",
   "metadata": {},
   "outputs": [],
   "source": [
    "SQLlink= \"\"\"\n",
    "BEGIN;\n",
    "\n",
    "INSERT INTO public.ext_walls_to_subcomponents(id,ext_wall_id,subcomponent_id,proportion)\n",
    "VALUES \n",
    "(1, 1, 'bdc45ada-2d86-41d4-b62f-6a9aeebd8013',0.8), \n",
    "(2, 2, 'ce1e5b61-ccb4-4a82-80ed-3063809ebb72',0.8),\n",
    "(3, 3, '9c613681-ca0f-4f23-9fd6-d81972922f6c',0.8),\n",
    "(4, 4, 'b81294fb-a3fa-45e3-b11f-7fc3f4d3cf57',0.8),\n",
    "(5, 5, '91617bec-ea5d-476e-9ef8-0a156a364928',0.8),\n",
    "(6, 6, '87e6bf1c-2664-4856-895d-86786809f162',0.8),\n",
    "(7, 7, '8300127d-69ab-4458-a9b9-9cb248b4445d',0.8),\n",
    "(8, 8, '7c1e34c6-d00a-428d-8076-c48a7a8804f3',0.8),\n",
    "(9, 9, '6e9ec424-1bab-4282-b9ff-fd1892122329',0.8),\n",
    "(10, 10, 'ef3b5d0c-0a72-4b44-aff4-36617526e857',0.8),\n",
    "(11, 11, '67f9a6b3-7d31-49b6-95f1-f325ec2c8066',0.8),\n",
    "(12, 12, '1e333afc-137f-4e79-b556-555cd4193248',0.8)\n",
    "ON CONFLICT ON CONSTRAINT extwalls_to_subcomponents_pkey DO UPDATE SET (id,ext_wall_id,subcomponent_id,proportion)=(EXCLUDED.id,EXCLUDED.ext_wall_id,EXCLUDED.subcomponent_id,EXCLUDED.proportion);\n",
    "\n",
    "INSERT INTO public.floors_to_subcomponents(id,floor_id,subcomponent_id,proportion)\n",
    "VALUES \n",
    "(1, 1, '8d131da5-ff16-4686-80e7-91269b9d9956',1), \n",
    "(2, 2, '348bc8ea-68ce-400b-a5fc-c990462520c1',1),\n",
    "(3, 3, 'e46431c2-fd9d-4c86-acdc-20d9e51eda3d',1),\n",
    "(4, 4, '0d45f990-057e-4d42-b9ec-5be5818ecdb6',1),\n",
    "(5, 5, 'cb9d4f82-d1b3-4ee8-a27a-8aab8029b8f0',1),\n",
    "(6, 6, '9e551209-32fe-403d-b70f-1cbc08a21194',1),\n",
    "(7, 7, '07e1418b-c454-4933-8819-215ec288c7d0',1)\n",
    "ON CONFLICT ON CONSTRAINT floors_to_subcomponents_pkey DO UPDATE SET (id,floor_id,subcomponent_id,proportion)=(EXCLUDED.id,EXCLUDED.floor_id,EXCLUDED.subcomponent_id,EXCLUDED.proportion);\n",
    "\n",
    "INSERT INTO public.foundations_to_subcomponents(id,foundation_id,subcomponent_id,proportion)\n",
    "VALUES \n",
    "(1, 1, '19fda529-d0b2-424b-b62c-7f68ea62c60e',1), \n",
    "(2, 2, 'dc9ec215-7244-4c71-9024-df423dfdfc8c',1),\n",
    "(3, 3, '5984f57b-21b6-4de8-b815-258c0699ab56',1),\n",
    "(4, 4, '05af6821-459b-48ca-b00b-0b5d345b88f3',1)\n",
    "ON CONFLICT ON CONSTRAINT foundations_to_subcomponents_pkey DO UPDATE SET (id,foundation_id,subcomponent_id,proportion)=(EXCLUDED.id,EXCLUDED.foundation_id,EXCLUDED.subcomponent_id,EXCLUDED.proportion);\n",
    "\n",
    "INSERT INTO public.int_walls_to_subcomponents(id,int_wall_id,subcomponent_id,proportion)\n",
    "VALUES \n",
    "(1, 1, 'bfcee293-03b7-4bc5-ad56-cd2dc8a5c486',1), \n",
    "(2, 2, '5de78da5-e80c-4240-aa17-af8ac88db0de',1),\n",
    "(3, 3, '669ac0df-2b26-4e38-8734-c1e3bf681db2',1),\n",
    "(4, 4, '0987d73f-8770-4e81-ac8d-ec68836682e7',1),\n",
    "(5, 5, 'ae720b3d-d6b5-4819-b661-754635f60add',1),\n",
    "(6, 6, 'c6691ead-ee1b-4863-b1a9-419b7209d9e3',1),\n",
    "(7, 7, '887b2b33-8bb2-4136-9206-e9e577afadd9',1),\n",
    "(8, 8, 'b59dc6ff-7849-4ef4-9eb7-9176ea2dd640',1),\n",
    "(9, 9, 'a9706d09-cff3-41d1-a0a5-9564c9f6b59c',1),\n",
    "(10, 10, '4b39157e-d8c5-4216-b7c7-da8915dc6d3a',1)\n",
    "ON CONFLICT ON CONSTRAINT intwalls_to_subcomponents_pkey DO UPDATE SET (id,int_wall_id,subcomponent_id,proportion)=(EXCLUDED.id,EXCLUDED.int_wall_id,EXCLUDED.subcomponent_id,EXCLUDED.proportion);\n",
    "\n",
    "INSERT INTO public.roof_structures_to_subcomponents(id,roof_structure_id,subcomponent_id,proportion)\n",
    "VALUES \n",
    "(1, 1, '0a5c03db-3826-4013-bcc0-53b877bfeaa0',1), \n",
    "(2, 2, '9d5ecb0c-bc0f-402c-a0dc-a5bd0da84e23',1),\n",
    "(3, 3, '23d6279e-bc45-46e4-8e1f-171329cfe488',1),\n",
    "(4, 4, 'd1705472-0843-42c2-ae7c-53c168946be6',1),\n",
    "(5, 5, 'ac175afd-edad-458b-b5e8-ccd2439920c6',1),\n",
    "(6, 6, 'aa751390-4099-4cc9-81b7-db2e6d0c04b7',1),\n",
    "(7, 7, '4d59e5b7-b0bb-44cf-9e6d-7060bf4be0aa',1),\n",
    "(8, 8, '88d5c8b6-59f8-467c-b8cb-c46ea1048844',1),\n",
    "(9, 9, '3776a0b4-8cb0-4ff3-9304-cc135f138bf3',1)\n",
    "ON CONFLICT ON CONSTRAINT roofstructures_to_subcomponents_pkey DO UPDATE SET (id,roof_structure_id,subcomponent_id,proportion)=(EXCLUDED.id,EXCLUDED.roof_structure_id,EXCLUDED.subcomponent_id,EXCLUDED.proportion);\n",
    "\n",
    "INSERT INTO public.roof_covers_to_subcomponents(id,roof_cover_id,subcomponent_id,proportion)\n",
    "VALUES \n",
    "(1, 1, 'b8a24c62-b0dd-43f1-898e-c51857d1acea',1), \n",
    "(2, 2, '5e5a3976-ce56-4e5d-8c81-aaacf355775c',1),\n",
    "(3, 3, 'f6c5b728-dd32-480a-9b02-fa6a6adb6b3c',1),\n",
    "(4, 4, '68be6a39-5907-4e33-8dc9-29291462cbcc',1),\n",
    "(5, 5, 'b965cf07-25df-43ce-9f9e-3abf2c8057d4',1),\n",
    "(6, 6, '2258bb9b-2378-43e4-843f-2c1e4f12e905',1),\n",
    "(7, 7, '68be6a39-5907-4e33-8dc9-29291462cbcc',1),\n",
    "(8, 8, 'ccf07cdb-9f83-49ef-a324-11c6c9a9ad57',1),\n",
    "(9, 9, 'de662e26-9008-41f7-817d-9db0116bedf5',1),\n",
    "(10, 10, '76250b64-0f59-4ef8-ab3f-2427f9e43c69',1),\n",
    "(11, 11, '9366b106-548a-42cf-af83-d7842acd43c7',1)\n",
    "ON CONFLICT ON CONSTRAINT roofcovers_to_subcomponents_pkey DO UPDATE SET (id,roof_cover_id,subcomponent_id,proportion)=(EXCLUDED.id,EXCLUDED.roof_cover_id,EXCLUDED.subcomponent_id,EXCLUDED.proportion);\n",
    "\n",
    "INSERT INTO public.ground_slabs_to_subcomponents(id,ground_slab_id,subcomponent_id,proportion)\n",
    "VALUES \n",
    "(1, 1, '22e1693f-f4ea-498c-a4a1-e96600457e32',1)\n",
    "ON CONFLICT ON CONSTRAINT groundslabs_to_subcomponents_pkey DO UPDATE SET (id,ground_slab_id,subcomponent_id,proportion)=(EXCLUDED.id,EXCLUDED.ground_slab_id,EXCLUDED.subcomponent_id,EXCLUDED.proportion);\n",
    "\n",
    "END;\"\"\""
   ]
  },
  {
   "cell_type": "code",
   "execution_count": null,
   "id": "f07932d2",
   "metadata": {},
   "outputs": [],
   "source": [
    "run_sql(params,SQLlink)"
   ]
  },
  {
   "cell_type": "markdown",
   "id": "698ae2b7",
   "metadata": {},
   "source": [
    "# Adding densities and material types for products"
   ]
  },
  {
   "cell_type": "markdown",
   "id": "47c823a9",
   "metadata": {},
   "source": [
    "We need to add additional information on material densities and broad categories of material types for relevant products, in order to convert material amounts between volumes and weights and categorize results in a small number of material categories."
   ]
  },
  {
   "cell_type": "code",
   "execution_count": null,
   "id": "cfb07a17",
   "metadata": {},
   "outputs": [],
   "source": [
    "SQLmaterial=\"\"\"\n",
    "UPDATE products SET density = 7800, material_type='Metal' WHERE name LIKE '%eel beams%';\n",
    "UPDATE products SET density = 7800, material_type='Metal' WHERE name LIKE '%eel bars%';\n",
    "UPDATE products SET density = 7800, material_type='Metal' WHERE name LIKE '%forcement stee%';\n",
    "UPDATE products SET density = 7800, material_type='Metal' WHERE name LIKE '%eel screws%';\n",
    "UPDATE products SET density = 7140, material_type='Metal' WHERE name LIKE '%Zin%';\n",
    "UPDATE products SET density = 2700, material_type='Metal' WHERE name LIKE '%Alumin%';\n",
    "UPDATE products SET density = 1650, material_type='Concrete' WHERE name LIKE '%ightweight conc%';\n",
    "UPDATE products SET density = 2400, material_type='Concrete' WHERE name LIKE '%mixed conc%';\n",
    "UPDATE products SET density = 1650, material_type='Concrete' WHERE name LIKE '%of tiles, con%';\n",
    "UPDATE products SET density = 650, material_type='Wood' WHERE name LIKE 'Timber%';\n",
    "UPDATE products SET density = 650, material_type='Wood' WHERE name LIKE 'Wood beam%';\n",
    "UPDATE products SET density = 650, material_type='Wood' WHERE name LIKE 'Plywood%';\n",
    "UPDATE products SET density = 650, material_type='Wood' WHERE name LIKE '%spruce%';\n",
    "UPDATE products SET density = 50, material_type='Wool' WHERE name LIKE '%wool%';\n",
    "UPDATE products SET density = 50, material_type='Other' WHERE name LIKE '%amp insulat%';\n",
    "UPDATE products SET density = 100, material_type='Other' WHERE name LIKE '%EPDM%';\n",
    "UPDATE products SET density = 100, material_type='Other' WHERE name LIKE '%Foil%';\n",
    "UPDATE products SET density = 100, material_type='Other' WHERE name LIKE '%PE%';\n",
    "UPDATE products SET density = 2580, material_type='Glass' WHERE name LIKE '%glaz%';\n",
    "UPDATE products SET density = 50, material_type='Other' WHERE name LIKE '%itumen sheet%';\n",
    "UPDATE products SET density = 650, material_type='Wood' WHERE name LIKE '%pine and spruce (skeleton)%';\n",
    "UPDATE products SET density = 2000, material_type='Cement_mortar' WHERE name LIKE '%ement mortar%';\n",
    "UPDATE products SET density = 2000, material_type='Cement_mortar' WHERE name LIKE '%ime mortar%';\n",
    "UPDATE products SET density = 2000, material_type='Cement_mortar' WHERE name LIKE '%ement screed%';\n",
    "UPDATE products SET density = 700, material_type='Gypsum_plaster' WHERE name LIKE '%ime plaster%';\n",
    "UPDATE products SET density = 700, material_type='Gypsum_plaster' WHERE name LIKE '%psum plaster%';\n",
    "UPDATE products SET density = 700, material_type='Gypsum_plaster' WHERE name LIKE '%terior plaster%';\n",
    "UPDATE products SET density = 1600, material_type='Other' WHERE name LIKE '%slate%';\n",
    "UPDATE products SET density = 2000, material_type='Aggregates' WHERE name LIKE '%rushed stone%';\n",
    "UPDATE products SET density = 1600, material_type='Clay' WHERE name IN ('Facing brick', 'Foundation brick or stones', 'Foundation brick', 'Hollow core brick', 'Internal brick', 'Roof tile');\n",
    "UPDATE products SET density = 650, material_type='Concrete' WHERE name LIKE '%erated%';\n",
    "UPDATE products SET density = 1650, material_type='Cement_mortar' WHERE name LIKE '%ibre cement%';\n",
    "UPDATE products SET density = 1000, material_type='Gypsum_plaster' WHERE name LIKE '%alcium silicate boar%';\n",
    "UPDATE products SET density = 1000, material_type='Gypsum_plaster' WHERE name LIKE '%psum boar%';\n",
    "UPDATE products SET density = 1000, material_type='Gypsum_plaster' WHERE name LIKE '%psum wallboar%';\n",
    "UPDATE products SET density = 500, material_type='Wood' WHERE name LIKE '%hipboard%';\n",
    "UPDATE products SET density = 1700, material_type='Clay' WHERE name LIKE 'Clay%';\n",
    "UPDATE products SET density = 1700, material_type='Other' WHERE name LIKE '%Baustroh%';\n",
    "\"\"\""
   ]
  },
  {
   "cell_type": "code",
   "execution_count": null,
   "id": "01d6ab10",
   "metadata": {},
   "outputs": [],
   "source": [
    "run_sql(params,SQLmaterial)"
   ]
  }
 ],
 "metadata": {
  "kernelspec": {
   "display_name": "Python 3 (ipykernel)",
   "language": "python",
   "name": "python3"
  },
  "language_info": {
   "codemirror_mode": {
    "name": "ipython",
    "version": 3
   },
   "file_extension": ".py",
   "mimetype": "text/x-python",
   "name": "python",
   "nbconvert_exporter": "python",
   "pygments_lexer": "ipython3",
   "version": "3.9.12"
  }
 },
 "nbformat": 4,
 "nbformat_minor": 5
}
