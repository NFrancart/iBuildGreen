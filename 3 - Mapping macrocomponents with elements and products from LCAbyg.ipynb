{
 "cells": [
  {
   "cell_type": "markdown",
   "id": "eb465645",
   "metadata": {},
   "source": [
    "# Mapping components from the iBuildGreen database to LCAbyg constructions and products"
   ]
  },
  {
   "cell_type": "markdown",
   "id": "a072f397",
   "metadata": {},
   "source": [
    "This notebook shows how components in the iBuildGreen database (i.e. types of roofs, external walls, etc) are linked with constructions and products from LCAbyg. Using LCAbyg is useful because it provides a user-friendly interface to create and modify components, as well as an already existing database of constructions and products. Furthermore, ensuring compatibility with LCAbyg is a safe choice: it will allow us to link the two programs more closely in the future, to use LCAbyg to perform environmental calculations in iBuildGreen, to also import data on \"stages\" from LCAbyg if needed, etc."
   ]
  },
  {
   "cell_type": "markdown",
   "id": "e5dd49aa",
   "metadata": {},
   "source": [
    "In LCAbyg, buildings are defined as sets of \"elements\". Each element is made of \"constructions\", and each construction is made of \"products\". Each product is then described as a set of LCA \"stages\". In this notebook, we will only be importing \"construction\" and \"products\" for now. We will link each iBuildGreen macrocomponent with one or several constructions, and each construction with one or several products."
   ]
  },
  {
   "cell_type": "markdown",
   "id": "92fad19d",
   "metadata": {},
   "source": [
    "# Setup"
   ]
  },
  {
   "cell_type": "code",
   "execution_count": 3,
   "id": "7016dccb",
   "metadata": {},
   "outputs": [],
   "source": [
    "import json\n",
    "import psycopg\n",
    "params='dbname=macrocomponents user=postgres password=19Ni93co44PG!' # Write the parameters to connect to your database here"
   ]
  },
  {
   "cell_type": "markdown",
   "id": "fd9db823",
   "metadata": {},
   "source": [
    "# Constructions"
   ]
  },
  {
   "cell_type": "markdown",
   "id": "e0a61d87",
   "metadata": {},
   "source": [
    "This section shows how to import \"constructions\" from LCAbyg into the database. First, we need to read the json file containing data on these constructions."
   ]
  },
  {
   "cell_type": "code",
   "execution_count": 2,
   "id": "f127492b",
   "metadata": {},
   "outputs": [],
   "source": [
    "# Write here the location of the LCAbyg \"constructions\" json file on your computer\n",
    "with open('C:/Users/KJ35FA/OneDrive - Aalborg Universitet/Documents/Available building data/LCAbyg/constructions.json') as json_data:\n",
    "    const = json.load(json_data) # Load LCAbyg constructions"
   ]
  },
  {
   "cell_type": "code",
   "execution_count": null,
   "id": "5f6cce90",
   "metadata": {},
   "outputs": [],
   "source": [
    "for c in const: # For information - display the names of all constructions\n",
    "    for key in c.keys():        \n",
    "        if key=='Node':\n",
    "            name=c[key]['Construction']['name']['English']\n",
    "            print(name)        "
   ]
  },
  {
   "cell_type": "markdown",
   "id": "ddd03007",
   "metadata": {},
   "source": [
    "In iBuildGreen database, we leave open the possibility that each macrocomponent (e.g. external wall type) could be linked with one or several LCAbyg constructions. So we insert LCAbyg constructions into a separate table, called \"subcomponents\". Later, we will then link macrocomponents with the subcomponents table."
   ]
  },
  {
   "cell_type": "markdown",
   "id": "8ea6c1a5",
   "metadata": {},
   "source": [
    "First, we define a function to insert items in the subcomponents table."
   ]
  },
  {
   "cell_type": "code",
   "execution_count": 8,
   "id": "587e10a7",
   "metadata": {},
   "outputs": [],
   "source": [
    "def insert_subcomponent(list_of_rows):\n",
    "    sql = \"INSERT INTO subcomponents(lcabyg_id, name, unit, layer, comment) VALUES(%s, %s, %s, %s, %s) ON CONFLICT ON CONSTRAINT subcomponents_pkey DO UPDATE SET (lcabyg_id, name, unit, layer, comment) = (EXCLUDED.lcabyg_id, EXCLUDED.name, EXCLUDED.unit, EXCLUDED.layer, EXCLUDED.comment);\"\n",
    "    connector = None\n",
    "    bbrid = None\n",
    "    try:\n",
    "        # connect to the PostgreSQL database\n",
    "        connector = psycopg.connect(params)\n",
    "        # create a new cursor\n",
    "        cur = connector.cursor()\n",
    "        # execute the INSERT statement\n",
    "        cur.executemany(sql, list_of_rows)\n",
    "        # commit the changes to the database\n",
    "        connector.commit()\n",
    "        # close communication with the database\n",
    "        cur.close()\n",
    "    except (Exception, psycopg.DatabaseError) as error:\n",
    "        print(error)\n",
    "    finally:\n",
    "        if connector is not None:\n",
    "            connector.close()"
   ]
  },
  {
   "cell_type": "markdown",
   "id": "7a1f1c75",
   "metadata": {},
   "source": [
    "Then, we retrieve our subcomponents from the imported json object, as a list:"
   ]
  },
  {
   "cell_type": "code",
   "execution_count": 6,
   "id": "e76f76e9",
   "metadata": {},
   "outputs": [],
   "source": [
    "list_of_const=[]\n",
    "\n",
    "for c in const:\n",
    "    for key in c.keys():        \n",
    "        if key=='Node':\n",
    "            ID=c[key]['Construction']['id']\n",
    "            name=c[key]['Construction']['name']['English']\n",
    "            unit=c[key]['Construction']['unit']\n",
    "            layer=c[key]['Construction']['layer']\n",
    "            comment=c[key]['Construction']['comment']['Danish']\n",
    "            list_of_rows.append((ID,name,unit,layer,comment))"
   ]
  },
  {
   "cell_type": "markdown",
   "id": "5ee35d06",
   "metadata": {},
   "source": [
    "Finally, we insert this list of rows into the database using the function we just defined:"
   ]
  },
  {
   "cell_type": "code",
   "execution_count": null,
   "id": "21d5557c",
   "metadata": {},
   "outputs": [],
   "source": [
    "insert_subcomponent(list_of_const)"
   ]
  },
  {
   "cell_type": "markdown",
   "id": "f2285a8f",
   "metadata": {},
   "source": [
    "# Products"
   ]
  },
  {
   "cell_type": "markdown",
   "id": "b9f50b79",
   "metadata": {},
   "source": [
    "As above, we start by importing the json file containing data on LCAbyg products:"
   ]
  },
  {
   "cell_type": "code",
   "execution_count": 11,
   "id": "998868a7",
   "metadata": {},
   "outputs": [],
   "source": [
    "with open('C:/Users/KJ35FA/OneDrive - Aalborg Universitet/Documents/Available building data/LCAbyg/products.json') as json_data:\n",
    "    prod = json.load(json_data) "
   ]
  },
  {
   "cell_type": "code",
   "execution_count": null,
   "id": "a380571c",
   "metadata": {},
   "outputs": [],
   "source": [
    "for c in prod: # For information - display the names of all products\n",
    "    for k,p in c.items():        \n",
    "         print(k,p)"
   ]
  },
  {
   "cell_type": "markdown",
   "id": "744d1825",
   "metadata": {},
   "source": [
    "Then we define a function to insert products into the database:"
   ]
  },
  {
   "cell_type": "code",
   "execution_count": 9,
   "id": "367d35eb",
   "metadata": {},
   "outputs": [],
   "source": [
    "def insert_product(list_of_prods):\n",
    "    sql = \"INSERT INTO products(lcabyg_id, name, comment) VALUES(%s, %s, %s) ON CONFLICT ON CONSTRAINT products_pkey DO UPDATE SET (lcabyg_id, name, comment) = (EXCLUDED.lcabyg_id, EXCLUDED.name, EXCLUDED.comment);\"\n",
    "    connector = None\n",
    "    bbrid = None\n",
    "    try:\n",
    "        # connect to the PostgreSQL database\n",
    "        connector = psycopg.connect(params)\n",
    "        # create a new cursor\n",
    "        cur = connector.cursor()\n",
    "        # execute the INSERT statement\n",
    "        cur.executemany(sql, list_of_prods)\n",
    "        # commit the changes to the database\n",
    "        connector.commit()\n",
    "        # close communication with the database\n",
    "        cur.close()\n",
    "    except (Exception, psycopg.DatabaseError) as error:\n",
    "        print(error)\n",
    "    finally:\n",
    "        if connector is not None:\n",
    "            connector.close()"
   ]
  },
  {
   "cell_type": "markdown",
   "id": "9c549f17",
   "metadata": {},
   "source": [
    "Finally we retrieve information about products from the json object into a list, and we insert this list using the function above."
   ]
  },
  {
   "cell_type": "code",
   "execution_count": 12,
   "id": "c6a31be8",
   "metadata": {},
   "outputs": [],
   "source": [
    "list_of_prods=[]\n",
    "for p in prod:\n",
    "    for key in p.keys():        \n",
    "        if key=='Node':\n",
    "            ID=p[key]['Product']['id']\n",
    "            name=p[key]['Product']['name']['English']\n",
    "            comment=p[key]['Product']['comment']\n",
    "            list_of_prods.append((ID,name,comment))"
   ]
  },
  {
   "cell_type": "code",
   "execution_count": null,
   "id": "cf92970e",
   "metadata": {},
   "outputs": [],
   "source": [
    "insert_product(list_of_prods)"
   ]
  },
  {
   "cell_type": "markdown",
   "id": "f5a79b7d",
   "metadata": {},
   "source": [
    "# Mapping table"
   ]
  },
  {
   "cell_type": "markdown",
   "id": "7c0144d5",
   "metadata": {},
   "source": [
    "We have just imported constructions and products into the database, but for now we haven't imported any information on how the two are linked together: we don't know which products are in which constructions. We will now solve this by filling a mapping table \"subcomponents_to_products\". Each row of the mapping table will indicate the id of a construction, the id of a product, and the amount of this particular product found in this particular construction."
   ]
  },
  {
   "cell_type": "markdown",
   "id": "fc3868ea",
   "metadata": {},
   "source": [
    "We start by clearing the mapping table if it wasn't already empty:"
   ]
  },
  {
   "cell_type": "code",
   "execution_count": null,
   "id": "73df5978",
   "metadata": {},
   "outputs": [],
   "source": [
    "try:\n",
    "    connector = psycopg.connect(params)\n",
    "    cur = connector.cursor()\n",
    "    cur.execute(\"DELETE FROM subcomponents_to_products\")\n",
    "    connector.commit()\n",
    "    cur.close()\n",
    "except (Exception, psycopg.DatabaseError) as error:\n",
    "    print(error)\n",
    "finally:\n",
    "    if connector is not None:\n",
    "        connector.close()"
   ]
  },
  {
   "cell_type": "markdown",
   "id": "2b5fe76d",
   "metadata": {},
   "source": [
    "Links between constructions and products are recorded in the LCAbyg \"constructions\" json file. They are objects of type \"Edge\". We can start by retrieving these edges from the \"constructions\" json file:"
   ]
  },
  {
   "cell_type": "code",
   "execution_count": null,
   "id": "fa1e0716",
   "metadata": {},
   "outputs": [],
   "source": [
    "list_of_edges=[]\n",
    "for c in const:\n",
    "    for key in c.keys():        \n",
    "        if key=='Edge':\n",
    "            ID=c[key][0]['ConstructionToProduct']['id']\n",
    "            amount=c[key][0]['ConstructionToProduct']['amount']\n",
    "            unit=c[key][0]['ConstructionToProduct']['unit']\n",
    "            lifespan=c[key][0]['ConstructionToProduct']['lifespan']\n",
    "            const_id=c[key][1]\n",
    "            prod_id=c[key][2]\n",
    "            list_of_edges.append((ID,const_id,prod_id,amount,unit,lifespan))"
   ]
  },
  {
   "cell_type": "markdown",
   "id": "29935860",
   "metadata": {},
   "source": [
    "Then, as above, we define a function to insert elements into the mapping table:"
   ]
  },
  {
   "cell_type": "code",
   "execution_count": 15,
   "id": "f77c9e29",
   "metadata": {},
   "outputs": [],
   "source": [
    "def map_component_product(list_of_edges):\n",
    "    sql = \"INSERT INTO subcomponents_to_products(id, subcomponent_id, product_id, amount, unit, lifespan) VALUES(%s, %s, %s, %s, %s, %s) ON CONFLICT ON CONSTRAINT subcomponents_to_products_pkey DO UPDATE SET (id, subcomponent_id, product_id, amount, unit, lifespan) = (EXCLUDED.id, EXCLUDED.subcomponent_id, EXCLUDED.product_id, EXCLUDED.amount, EXCLUDED.unit, EXCLUDED.lifespan);\"\n",
    "    try:\n",
    "        # connect to the PostgreSQL database\n",
    "        connector = psycopg.connect(params)\n",
    "        \n",
    "        # fetch construction ids\n",
    "        cur_const = connector.cursor()\n",
    "        cur_const.execute('SELECT lcabyg_id FROM subcomponents')\n",
    "        const_ids=[]\n",
    "        for i in cur_const.fetchall():\n",
    "            const_ids.append(i[0])\n",
    "            \n",
    "        # fetch product ids       \n",
    "        cur_prod = connector.cursor()\n",
    "        cur_prod.execute('SELECT lcabyg_id FROM products')\n",
    "        prod_ids=[]\n",
    "        for i in cur_prod.fetchall():\n",
    "            prod_ids.append(i[0])\n",
    "        \n",
    "        # checking for foreign key constraints\n",
    "        # The LCAbyg edges may include references to products or constructions that are not recorded in the respective files,\n",
    "        # for instance because a product has been deleted but the corresponding edge hasn't. We need to deal with these cases separately,\n",
    "        # otherwise the insertion query will raise foreign key constraints (we are trying to insert a row referring to products that do not exist)\n",
    "        \n",
    "        valid_edges=[]\n",
    "        missing_subcomponents=[]\n",
    "        missing_products=[]\n",
    "        for edge in list_of_edges:\n",
    "            if edge[1] in const_ids and edge[2] in prod_ids:\n",
    "                valid_edges.append(edge)\n",
    "            if edge[1] not in const_ids:\n",
    "                missing_subcomponents.append((edge[1],))\n",
    "            if edge[2] not in prod_ids:\n",
    "                missing_products.append((edge[2],))\n",
    "                      \n",
    "        # insert missing subcomponents\n",
    "        cur = connector.cursor()\n",
    "        sql_const = \"INSERT INTO subcomponents(lcabyg_id, name) VALUES(%s, 'missing subcomponent') ON CONFLICT ON CONSTRAINT subcomponents_pkey DO NOTHING\"\n",
    "        cur.executemany(sql_const, missing_subcomponents)\n",
    "        \n",
    "        # insert missing products\n",
    "        sql_prod = \"INSERT INTO products(lcabyg_id, name) VALUES(%s, 'missing product') ON CONFLICT ON CONSTRAINT products_pkey DO NOTHING\"\n",
    "        cur.executemany(sql_prod, missing_products)\n",
    "        \n",
    "        # insert edges in mapping table\n",
    "        cur.executemany(sql, list_of_edges)\n",
    "        \n",
    "        # commit the changes to the database\n",
    "        connector.commit()\n",
    "        # close communication with the database\n",
    "        cur.close()\n",
    "        cur_const.close()\n",
    "        cur_prod.close()\n",
    "    except (Exception, psycopg.DatabaseError) as error:\n",
    "        print(error)\n",
    "    finally:\n",
    "        if connector is not None:\n",
    "            connector.close()"
   ]
  },
  {
   "cell_type": "markdown",
   "id": "e4d125f2",
   "metadata": {},
   "source": [
    "Finally we insert the list of edges we just retrieved:"
   ]
  },
  {
   "cell_type": "code",
   "execution_count": null,
   "id": "c9faa0b1",
   "metadata": {},
   "outputs": [],
   "source": [
    "map_component_product(list_of_edges)"
   ]
  },
  {
   "cell_type": "markdown",
   "id": "fbf91b21",
   "metadata": {},
   "source": [
    "# Extra components"
   ]
  },
  {
   "cell_type": "markdown",
   "id": "b0d98302",
   "metadata": {},
   "source": [
    "LCAbyg also includes other data files linked with specific projects. These include additional constructions and components, that we might as well import."
   ]
  },
  {
   "cell_type": "code",
   "execution_count": 21,
   "id": "a5828d3c",
   "metadata": {},
   "outputs": [],
   "source": [
    "with open('C:/Users/KJ35FA/OneDrive - Aalborg Universitet/Documents/Available building data/LCAbyg/constructions_new_br.json') as json_data:\n",
    "    const_new = json.load(json_data) "
   ]
  },
  {
   "cell_type": "code",
   "execution_count": 22,
   "id": "296b3b54",
   "metadata": {},
   "outputs": [],
   "source": [
    "list_comp_new=[]\n",
    "for c in const_new:\n",
    "    for key in c.keys():        \n",
    "        if key=='Node':\n",
    "            ID=c[key]['Construction']['id']\n",
    "            name=c[key]['Construction']['name']['English']\n",
    "            unit=c[key]['Construction']['unit']\n",
    "            layer=c[key]['Construction']['layer']\n",
    "            comment=c[key]['Construction']['comment']['Danish']\n",
    "            list_comp_new.append((ID,name,unit,layer,comment))"
   ]
  },
  {
   "cell_type": "code",
   "execution_count": null,
   "id": "ad5280c9",
   "metadata": {},
   "outputs": [],
   "source": [
    "insert_subcomponent(list_comp_new)"
   ]
  },
  {
   "cell_type": "code",
   "execution_count": 24,
   "id": "55807c46",
   "metadata": {},
   "outputs": [],
   "source": [
    "list_edges_new=[]\n",
    "for c in const_new:\n",
    "    for key in c.keys():        \n",
    "        if key=='Edge':\n",
    "            if 'ConstructionToProduct' in c[key][0].keys():\n",
    "                ID=c[key][0]['ConstructionToProduct']['id']\n",
    "                amount=c[key][0]['ConstructionToProduct']['amount']\n",
    "                unit=c[key][0]['ConstructionToProduct']['unit']\n",
    "                lifespan=c[key][0]['ConstructionToProduct']['lifespan']\n",
    "                const_id=c[key][1]\n",
    "                prod_id=c[key][2]\n",
    "                list_edges_new.append((ID,const_id,prod_id,amount,unit,lifespan))"
   ]
  },
  {
   "cell_type": "code",
   "execution_count": null,
   "id": "eb9e88dd",
   "metadata": {},
   "outputs": [],
   "source": [
    "map_component_product(list_edges_new)"
   ]
  },
  {
   "cell_type": "code",
   "execution_count": 27,
   "id": "2a71c2cf",
   "metadata": {},
   "outputs": [],
   "source": [
    "with open('C:/Users/KJ35FA/OneDrive - Aalborg Universitet/Documents/Available building data/LCAbyg/enf_constructions.json') as json_data:\n",
    "    const_enf = json.load(json_data) \n",
    "    \n",
    "list_comp_enf=[]\n",
    "for c in const_enf:\n",
    "    for key in c.keys():        \n",
    "        if key=='Node':\n",
    "            if 'Construction' in c[key].keys():\n",
    "                ID=c[key]['Construction']['id']\n",
    "                name=c[key]['Construction']['name']['English']\n",
    "                unit=c[key]['Construction']['unit']\n",
    "                comment=c[key]['Construction']['comment']['Danish']\n",
    "                if 'layer' in c[key]['Construction'].keys():\n",
    "                    layer=c[key]['Construction']['layer']\n",
    "                else:\n",
    "                    layer=None\n",
    "                list_comp_enf.append((ID,name,unit,layer,comment))\n",
    "    \n",
    "list_edges_enf=[]\n",
    "for c in const_enf:\n",
    "    for key in c.keys():        \n",
    "        if key=='Edge':\n",
    "            if 'ConstructionToProduct' in c[key][0].keys():\n",
    "                ID=c[key][0]['ConstructionToProduct']['id']\n",
    "                amount=c[key][0]['ConstructionToProduct']['amount']\n",
    "                unit=c[key][0]['ConstructionToProduct']['unit']\n",
    "                lifespan=c[key][0]['ConstructionToProduct']['lifespan']\n",
    "                const_id=c[key][1]\n",
    "                prod_id=c[key][2]\n",
    "                list_edges_enf.append((ID,const_id,prod_id,amount,unit,lifespan))\n"
   ]
  },
  {
   "cell_type": "code",
   "execution_count": null,
   "id": "b6a6e06d",
   "metadata": {},
   "outputs": [],
   "source": [
    "insert_subcomponent(list_comp_enf)\n",
    "map_component_product(list_edges_enf)"
   ]
  },
  {
   "cell_type": "code",
   "execution_count": 31,
   "id": "c348918a",
   "metadata": {},
   "outputs": [],
   "source": [
    "with open('C:/Users/KJ35FA/OneDrive - Aalborg Universitet/Documents/Available building data/LCAbyg/epd_products.json') as json_data:\n",
    "    epd_products = json.load(json_data) \n",
    "\n",
    "list_prods_epd=[]\n",
    "for p in epd_products:\n",
    "    for key in p.keys():        \n",
    "        if key=='Node':\n",
    "            if 'Product' in p[key].keys():\n",
    "                ID=p[key]['Product']['id']\n",
    "                name=p[key]['Product']['name']['English']\n",
    "                comment=p[key]['Product']['comment']\n",
    "                list_prods_epd.append((ID,name,comment)) "
   ]
  },
  {
   "cell_type": "code",
   "execution_count": null,
   "id": "f3a9bbe6",
   "metadata": {},
   "outputs": [],
   "source": [
    "insert_product(list_prods_epd)"
   ]
  },
  {
   "cell_type": "code",
   "execution_count": 34,
   "id": "b691a855",
   "metadata": {},
   "outputs": [],
   "source": [
    "with open('C:/Users/KJ35FA/OneDrive - Aalborg Universitet/Documents/Available building data/LCAbyg/reno_ex_constructions.json') as json_data:\n",
    "    reno_ex_constructions = json.load(json_data) \n",
    "    \n",
    "list_comp_ex=[]\n",
    "for c in reno_ex_constructions:\n",
    "    for key in c.keys():        \n",
    "        if key=='Node':\n",
    "            if 'Construction' in c[key].keys():\n",
    "                ID=c[key]['Construction']['id']\n",
    "                name=c[key]['Construction']['name']['English']\n",
    "                unit=c[key]['Construction']['unit']\n",
    "                comment=c[key]['Construction']['comment']['Danish']\n",
    "                if 'layer' in c[key]['Construction'].keys():\n",
    "                    layer=c[key]['Construction']['layer']\n",
    "                else:\n",
    "                    layer=None\n",
    "                list_comp_ex.append((ID,name,unit,layer,comment))\n",
    "    \n",
    "list_edges_ex=[]\n",
    "for c in reno_ex_constructions:\n",
    "    for key in c.keys():        \n",
    "        if key=='Edge':\n",
    "            if 'ConstructionToProduct' in c[key][0].keys():\n",
    "                ID=c[key][0]['ConstructionToProduct']['id']\n",
    "                amount=c[key][0]['ConstructionToProduct']['amount']\n",
    "                unit=c[key][0]['ConstructionToProduct']['unit']\n",
    "                lifespan=c[key][0]['ConstructionToProduct']['lifespan']\n",
    "                const_id=c[key][1]\n",
    "                prod_id=c[key][2]\n",
    "                list_edges_ex.append((ID,const_id,prod_id,amount,unit,lifespan))"
   ]
  },
  {
   "cell_type": "code",
   "execution_count": null,
   "id": "3b6ee88c",
   "metadata": {},
   "outputs": [],
   "source": [
    "insert_subcomponent(list_comp_ex)\n",
    "\n",
    "map_component_product(list_edges_ex)"
   ]
  },
  {
   "cell_type": "code",
   "execution_count": 37,
   "id": "0ec443e9",
   "metadata": {},
   "outputs": [],
   "source": [
    "with open('C:/Users/KJ35FA/OneDrive - Aalborg Universitet/Documents/Available building data/LCAbyg/reno_reno_constructions.json') as json_data:\n",
    "    reno = json.load(json_data) \n",
    "\n",
    "list_comp_reno=[]\n",
    "for c in reno:\n",
    "    for key in c.keys():        \n",
    "        if key=='Node':\n",
    "            if 'Construction' in c[key].keys():\n",
    "                ID=c[key]['Construction']['id']\n",
    "                name=c[key]['Construction']['name']['English']\n",
    "                unit=c[key]['Construction']['unit']\n",
    "                comment=c[key]['Construction']['comment']['Danish']\n",
    "                if 'layer' in c[key]['Construction'].keys():\n",
    "                    layer=c[key]['Construction']['layer']\n",
    "                else:\n",
    "                    layer=None\n",
    "                list_comp_reno.append((ID,name,unit,layer,comment))\n",
    "    \n",
    "list_edges_reno=[]\n",
    "for c in reno:\n",
    "    for key in c.keys():        \n",
    "        if key=='Edge':\n",
    "            if 'ConstructionToProduct' in c[key][0].keys():\n",
    "                ID=c[key][0]['ConstructionToProduct']['id']\n",
    "                amount=c[key][0]['ConstructionToProduct']['amount']\n",
    "                unit=c[key][0]['ConstructionToProduct']['unit']\n",
    "                lifespan=c[key][0]['ConstructionToProduct']['lifespan']\n",
    "                const_id=c[key][1]\n",
    "                prod_id=c[key][2]\n",
    "                list_edges_reno.append((ID,const_id,prod_id,amount,unit,lifespan))"
   ]
  },
  {
   "cell_type": "code",
   "execution_count": null,
   "id": "06e9a4b7",
   "metadata": {},
   "outputs": [],
   "source": [
    "insert_subcomponent(list_comp_reno)\n",
    "\n",
    "map_component_product(list_edges_reno)"
   ]
  },
  {
   "cell_type": "markdown",
   "id": "1d562ca3",
   "metadata": {},
   "source": [
    "# Handmade components"
   ]
  },
  {
   "cell_type": "markdown",
   "id": "2613044b",
   "metadata": {},
   "source": [
    "Because LCAbyg did not include appropriate constructions and products to describe all iBuildGreen macrocomponents, additional constructions and products were added manually. To preserve compatibility with LCAbyg, the constructions and products were created in LCAbyg, exported into a json file, and then imported into the database as previously:"
   ]
  },
  {
   "cell_type": "code",
   "execution_count": null,
   "id": "7d98201b",
   "metadata": {},
   "outputs": [],
   "source": [
    "with open('C:/Users/KJ35FA/Documents/ibuildgreen_data.json') as json_data:\n",
    "    byhand = json.load(json_data) \n",
    "\n",
    "list_prods_byhand=[]\n",
    "for p in byhand:\n",
    "    for key in p.keys():        \n",
    "        if key=='Node':\n",
    "            if 'Product' in p[key].keys():\n",
    "                ID=p[key]['Product']['id']\n",
    "                name=p[key]['Product']['name']['English']\n",
    "                comment=p[key]['Product']['comment']['English']\n",
    "                list_prods_byhand.append((ID,name,comment)) \n",
    "print(list_prods_byhand)\n",
    "\n",
    "    \n",
    "list_comp_byhand=[]\n",
    "for c in byhand:\n",
    "    for key in c.keys():        \n",
    "        if key=='Node':\n",
    "            if 'Construction' in c[key].keys():\n",
    "                ID=c[key]['Construction']['id']\n",
    "                name=c[key]['Construction']['name']['English']\n",
    "                unit=c[key]['Construction']['unit']\n",
    "                comment=c[key]['Construction']['comment']['Danish']\n",
    "                if 'layer' in c[key]['Construction'].keys():\n",
    "                    layer=c[key]['Construction']['layer']\n",
    "                else:\n",
    "                    layer=None\n",
    "                list_comp_byhand.append((ID,name,unit,layer,comment))\n",
    "print(list_comp_byhand)\n",
    "    \n",
    "list_edges_byhand=[]\n",
    "for c in byhand:\n",
    "    for key in c.keys():        \n",
    "        if key=='Edge':\n",
    "            if 'ConstructionToProduct' in c[key][0].keys():\n",
    "                ID=c[key][0]['ConstructionToProduct']['id']\n",
    "                amount=c[key][0]['ConstructionToProduct']['amount']\n",
    "                unit=c[key][0]['ConstructionToProduct']['unit']\n",
    "                lifespan=c[key][0]['ConstructionToProduct']['lifespan']\n",
    "                const_id=c[key][1]\n",
    "                prod_id=c[key][2]\n",
    "                list_edges_byhand.append((ID,const_id,prod_id,amount,unit,lifespan))\n",
    "print(list_edges_byhand)"
   ]
  },
  {
   "cell_type": "code",
   "execution_count": null,
   "id": "8af178c9",
   "metadata": {},
   "outputs": [],
   "source": [
    "insert_product(list_prods_byhand)\n",
    "insert_subcomponent(list_comp_byhand)"
   ]
  },
  {
   "cell_type": "code",
   "execution_count": null,
   "id": "5f2c00ed",
   "metadata": {},
   "outputs": [],
   "source": [
    "map_component_product(list_edges_byhand)"
   ]
  },
  {
   "cell_type": "markdown",
   "id": "ac5868b5",
   "metadata": {},
   "source": [
    "# Mapping iBuildGreen macrocomponents to subcomponents/constructions"
   ]
  },
  {
   "cell_type": "markdown",
   "id": "85d91f00",
   "metadata": {},
   "source": [
    "The link between iBuildGreen macrocomponents and subcomponents in the database was defined manually."
   ]
  }
 ],
 "metadata": {
  "kernelspec": {
   "display_name": "Python 3 (ipykernel)",
   "language": "python",
   "name": "python3"
  },
  "language_info": {
   "codemirror_mode": {
    "name": "ipython",
    "version": 3
   },
   "file_extension": ".py",
   "mimetype": "text/x-python",
   "name": "python",
   "nbconvert_exporter": "python",
   "pygments_lexer": "ipython3",
   "version": "3.9.12"
  }
 },
 "nbformat": 4,
 "nbformat_minor": 5
}
